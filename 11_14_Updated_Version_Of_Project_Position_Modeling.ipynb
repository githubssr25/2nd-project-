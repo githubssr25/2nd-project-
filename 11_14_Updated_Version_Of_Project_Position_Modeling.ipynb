{
  "nbformat": 4,
  "nbformat_minor": 0,
  "metadata": {
    "colab": {
      "name": "11-14 Updated Version Of Project Position Modeling.ipynb",
      "provenance": [],
      "collapsed_sections": []
    },
    "kernelspec": {
      "name": "python3",
      "display_name": "Python 3"
    },
    "language_info": {
      "name": "python"
    }
  },
  "cells": [
    {
      "cell_type": "code",
      "metadata": {
        "id": "y47zTAgcBqhK"
      },
      "source": [
        "# Imports\n",
        "import pandas as pd\n",
        "import numpy as np\n",
        "import matplotlib.pyplot as plt\n",
        "import seaborn as sns\n",
        "from sklearn.model_selection import train_test_split, GridSearchCV\n",
        "from sklearn.preprocessing import StandardScaler, OneHotEncoder\n",
        "from sklearn.compose import make_column_transformer, make_column_selector\n",
        "from sklearn.pipeline import make_pipeline\n",
        "# import models\n",
        "from sklearn.linear_model import LogisticRegression\n",
        "from sklearn.ensemble import RandomForestRegressor\n",
        "from sklearn.neighbors import KNeighborsRegressor\n",
        "from sklearn.metrics import mean_squared_error, r2_score\n",
        "\n",
        "# Imports\n",
        "import pandas as pd\n",
        "import numpy as np\n",
        "import matplotlib.pyplot as plt\n",
        "import seaborn as sns\n",
        "from sklearn.model_selection import train_test_split, GridSearchCV\n",
        "from sklearn.preprocessing import StandardScaler, OneHotEncoder\n",
        "from sklearn.compose import make_column_transformer, make_column_selector\n",
        "from sklearn.pipeline import make_pipeline\n",
        "from sklearn.neighbors import KNeighborsRegressor\n",
        "from sklearn.ensemble import RandomForestRegressor\n",
        "from sklearn.metrics import mean_squared_error, r2_score\n",
        "from sklearn.preprocessing import StandardScaler\n",
        "from sklearn.cluster import KMeans\n",
        "import matplotlib.pyplot as plt\n",
        "import seaborn as sns\n",
        "from sklearn.preprocessing import StandardScaler\n",
        "from sklearn.cluster import KMeans\n",
        "from sklearn.metrics import silhouette_score\n",
        "\n"
      ],
      "execution_count": 87,
      "outputs": []
    },
    {
      "cell_type": "markdown",
      "metadata": {
        "id": "DA-eLXARhTow"
      },
      "source": [
        "One thing to note as begin: I decided to also use a second data set with some additional data for this project. Both are from 538 very similar to each other. This just compliments the 538 more advanced models for evaluating players with more traditional metrics of evaluating players(what df1 will be). Examples of that are \n",
        "\n",
        "P/36---how many points does a player average per 36 minutes \n",
        "\n",
        "A/36---how many assists a player averages per 36 minutes \n",
        "\n",
        "R/36---how many rebounds a player averages per 36 minutes\n",
        "\n",
        "SB/36---how many combined steals and blocks does a player average per 36 min\n",
        "\n",
        "TO/36---how many turnovers a player averages per 36 minutes. "
      ]
    },
    {
      "cell_type": "code",
      "metadata": {
        "colab": {
          "base_uri": "https://localhost:8080/",
          "height": 501
        },
        "id": "Pkek0PpuB2z4",
        "outputId": "f0222aa2-146d-43a1-c121-dfad65fad1df"
      },
      "source": [
        "\n",
        "\n",
        "df = pd.read_csv('https://raw.githubusercontent.com/fivethirtyeight/data/master/nba-raptor/historical_RAPTOR_by_player.csv')\n",
        "\n",
        "df1 = pd.read_csv('https://raw.githubusercontent.com/fivethirtyeight/nba-player-advanced-metrics/master/nba-data-historical.csv')\n",
        "\n",
        "df.head()\n",
        "\n",
        "df1.head(100)"
      ],
      "execution_count": 88,
      "outputs": [
        {
          "output_type": "execute_result",
          "data": {
            "text/html": [
              "<div>\n",
              "<style scoped>\n",
              "    .dataframe tbody tr th:only-of-type {\n",
              "        vertical-align: middle;\n",
              "    }\n",
              "\n",
              "    .dataframe tbody tr th {\n",
              "        vertical-align: top;\n",
              "    }\n",
              "\n",
              "    .dataframe thead th {\n",
              "        text-align: right;\n",
              "    }\n",
              "</style>\n",
              "<table border=\"1\" class=\"dataframe\">\n",
              "  <thead>\n",
              "    <tr style=\"text-align: right;\">\n",
              "      <th></th>\n",
              "      <th>player_id</th>\n",
              "      <th>name_common</th>\n",
              "      <th>year_id</th>\n",
              "      <th>type</th>\n",
              "      <th>age</th>\n",
              "      <th>team_id</th>\n",
              "      <th>pos</th>\n",
              "      <th>tmRtg</th>\n",
              "      <th>franch_id</th>\n",
              "      <th>G</th>\n",
              "      <th>Min</th>\n",
              "      <th>MP%</th>\n",
              "      <th>MPG</th>\n",
              "      <th>P/36</th>\n",
              "      <th>TS%</th>\n",
              "      <th>A/36</th>\n",
              "      <th>R/36</th>\n",
              "      <th>SB/36</th>\n",
              "      <th>TO/36</th>\n",
              "      <th>Raptor O</th>\n",
              "      <th>Raptor D</th>\n",
              "      <th>Raptor+/-</th>\n",
              "      <th>Raptor WAR</th>\n",
              "      <th>PIE%</th>\n",
              "      <th>AWS%</th>\n",
              "      <th>USG%</th>\n",
              "      <th>AST%</th>\n",
              "      <th>TOV%</th>\n",
              "      <th>ORB%</th>\n",
              "      <th>DRB%</th>\n",
              "      <th>TRB%</th>\n",
              "      <th>STL%</th>\n",
              "      <th>BLK%</th>\n",
              "      <th>ORtg</th>\n",
              "      <th>%Pos</th>\n",
              "      <th>DRtg</th>\n",
              "      <th>2P%</th>\n",
              "      <th>3P%</th>\n",
              "      <th>FT%</th>\n",
              "      <th>3PAr</th>\n",
              "      <th>FTAr</th>\n",
              "      <th>Pace +/-</th>\n",
              "    </tr>\n",
              "  </thead>\n",
              "  <tbody>\n",
              "    <tr>\n",
              "      <th>0</th>\n",
              "      <td>youngtr01</td>\n",
              "      <td>Trae Young</td>\n",
              "      <td>2020</td>\n",
              "      <td>RS</td>\n",
              "      <td>21</td>\n",
              "      <td>ATL</td>\n",
              "      <td>PG</td>\n",
              "      <td>NaN</td>\n",
              "      <td>ATL</td>\n",
              "      <td>60</td>\n",
              "      <td>2120</td>\n",
              "      <td>NaN</td>\n",
              "      <td>35.3</td>\n",
              "      <td>NaN</td>\n",
              "      <td>59.5</td>\n",
              "      <td>NaN</td>\n",
              "      <td>NaN</td>\n",
              "      <td>NaN</td>\n",
              "      <td>NaN</td>\n",
              "      <td>7.1</td>\n",
              "      <td>-3.3</td>\n",
              "      <td>3.7</td>\n",
              "      <td>7.19</td>\n",
              "      <td>NaN</td>\n",
              "      <td>NaN</td>\n",
              "      <td>34.9</td>\n",
              "      <td>45.6</td>\n",
              "      <td>16.2</td>\n",
              "      <td>1.6</td>\n",
              "      <td>11.5</td>\n",
              "      <td>6.5</td>\n",
              "      <td>1.4</td>\n",
              "      <td>0.3</td>\n",
              "      <td>NaN</td>\n",
              "      <td>NaN</td>\n",
              "      <td>NaN</td>\n",
              "      <td>NaN</td>\n",
              "      <td>NaN</td>\n",
              "      <td>NaN</td>\n",
              "      <td>45.5</td>\n",
              "      <td>44.8</td>\n",
              "      <td>2.9</td>\n",
              "    </tr>\n",
              "    <tr>\n",
              "      <th>1</th>\n",
              "      <td>huntede01</td>\n",
              "      <td>De'Andre Hunter</td>\n",
              "      <td>2020</td>\n",
              "      <td>RS</td>\n",
              "      <td>22</td>\n",
              "      <td>ATL</td>\n",
              "      <td>SF</td>\n",
              "      <td>NaN</td>\n",
              "      <td>ATL</td>\n",
              "      <td>63</td>\n",
              "      <td>2018</td>\n",
              "      <td>NaN</td>\n",
              "      <td>32.0</td>\n",
              "      <td>NaN</td>\n",
              "      <td>52.1</td>\n",
              "      <td>NaN</td>\n",
              "      <td>NaN</td>\n",
              "      <td>NaN</td>\n",
              "      <td>NaN</td>\n",
              "      <td>-2.5</td>\n",
              "      <td>-1.3</td>\n",
              "      <td>-3.8</td>\n",
              "      <td>-1.09</td>\n",
              "      <td>NaN</td>\n",
              "      <td>NaN</td>\n",
              "      <td>17.5</td>\n",
              "      <td>8.0</td>\n",
              "      <td>12.1</td>\n",
              "      <td>2.3</td>\n",
              "      <td>13.1</td>\n",
              "      <td>7.6</td>\n",
              "      <td>1.0</td>\n",
              "      <td>0.7</td>\n",
              "      <td>NaN</td>\n",
              "      <td>NaN</td>\n",
              "      <td>NaN</td>\n",
              "      <td>NaN</td>\n",
              "      <td>NaN</td>\n",
              "      <td>NaN</td>\n",
              "      <td>44.5</td>\n",
              "      <td>21.1</td>\n",
              "      <td>0.0</td>\n",
              "    </tr>\n",
              "    <tr>\n",
              "      <th>2</th>\n",
              "      <td>huertke01</td>\n",
              "      <td>Kevin Huerter</td>\n",
              "      <td>2020</td>\n",
              "      <td>RS</td>\n",
              "      <td>21</td>\n",
              "      <td>ATL</td>\n",
              "      <td>SG</td>\n",
              "      <td>NaN</td>\n",
              "      <td>ATL</td>\n",
              "      <td>56</td>\n",
              "      <td>1760</td>\n",
              "      <td>NaN</td>\n",
              "      <td>31.4</td>\n",
              "      <td>NaN</td>\n",
              "      <td>53.6</td>\n",
              "      <td>NaN</td>\n",
              "      <td>NaN</td>\n",
              "      <td>NaN</td>\n",
              "      <td>NaN</td>\n",
              "      <td>-0.4</td>\n",
              "      <td>-2.4</td>\n",
              "      <td>-2.8</td>\n",
              "      <td>-0.05</td>\n",
              "      <td>NaN</td>\n",
              "      <td>NaN</td>\n",
              "      <td>17.1</td>\n",
              "      <td>17.5</td>\n",
              "      <td>12.0</td>\n",
              "      <td>2.1</td>\n",
              "      <td>12.0</td>\n",
              "      <td>7.0</td>\n",
              "      <td>1.4</td>\n",
              "      <td>1.3</td>\n",
              "      <td>NaN</td>\n",
              "      <td>NaN</td>\n",
              "      <td>NaN</td>\n",
              "      <td>NaN</td>\n",
              "      <td>NaN</td>\n",
              "      <td>NaN</td>\n",
              "      <td>54.8</td>\n",
              "      <td>10.5</td>\n",
              "      <td>0.1</td>\n",
              "    </tr>\n",
              "    <tr>\n",
              "      <th>3</th>\n",
              "      <td>reddica01</td>\n",
              "      <td>Cam Reddish</td>\n",
              "      <td>2020</td>\n",
              "      <td>RS</td>\n",
              "      <td>20</td>\n",
              "      <td>ATL</td>\n",
              "      <td>SF</td>\n",
              "      <td>NaN</td>\n",
              "      <td>ATL</td>\n",
              "      <td>58</td>\n",
              "      <td>1551</td>\n",
              "      <td>NaN</td>\n",
              "      <td>26.7</td>\n",
              "      <td>NaN</td>\n",
              "      <td>50.0</td>\n",
              "      <td>NaN</td>\n",
              "      <td>NaN</td>\n",
              "      <td>NaN</td>\n",
              "      <td>NaN</td>\n",
              "      <td>-2.9</td>\n",
              "      <td>0.0</td>\n",
              "      <td>-3.0</td>\n",
              "      <td>-0.18</td>\n",
              "      <td>NaN</td>\n",
              "      <td>NaN</td>\n",
              "      <td>18.9</td>\n",
              "      <td>8.0</td>\n",
              "      <td>13.6</td>\n",
              "      <td>2.4</td>\n",
              "      <td>12.7</td>\n",
              "      <td>7.5</td>\n",
              "      <td>1.9</td>\n",
              "      <td>1.5</td>\n",
              "      <td>NaN</td>\n",
              "      <td>NaN</td>\n",
              "      <td>NaN</td>\n",
              "      <td>NaN</td>\n",
              "      <td>NaN</td>\n",
              "      <td>NaN</td>\n",
              "      <td>45.1</td>\n",
              "      <td>22.7</td>\n",
              "      <td>0.9</td>\n",
              "    </tr>\n",
              "    <tr>\n",
              "      <th>4</th>\n",
              "      <td>collijo01</td>\n",
              "      <td>John Collins</td>\n",
              "      <td>2020</td>\n",
              "      <td>RS</td>\n",
              "      <td>22</td>\n",
              "      <td>ATL</td>\n",
              "      <td>PF</td>\n",
              "      <td>NaN</td>\n",
              "      <td>ATL</td>\n",
              "      <td>41</td>\n",
              "      <td>1363</td>\n",
              "      <td>NaN</td>\n",
              "      <td>33.2</td>\n",
              "      <td>NaN</td>\n",
              "      <td>65.9</td>\n",
              "      <td>NaN</td>\n",
              "      <td>NaN</td>\n",
              "      <td>NaN</td>\n",
              "      <td>NaN</td>\n",
              "      <td>0.0</td>\n",
              "      <td>-0.4</td>\n",
              "      <td>-0.4</td>\n",
              "      <td>1.65</td>\n",
              "      <td>NaN</td>\n",
              "      <td>NaN</td>\n",
              "      <td>22.7</td>\n",
              "      <td>7.6</td>\n",
              "      <td>10.1</td>\n",
              "      <td>9.0</td>\n",
              "      <td>24.0</td>\n",
              "      <td>16.4</td>\n",
              "      <td>1.1</td>\n",
              "      <td>4.1</td>\n",
              "      <td>NaN</td>\n",
              "      <td>NaN</td>\n",
              "      <td>NaN</td>\n",
              "      <td>NaN</td>\n",
              "      <td>NaN</td>\n",
              "      <td>NaN</td>\n",
              "      <td>24.3</td>\n",
              "      <td>24.8</td>\n",
              "      <td>0.1</td>\n",
              "    </tr>\n",
              "    <tr>\n",
              "      <th>...</th>\n",
              "      <td>...</td>\n",
              "      <td>...</td>\n",
              "      <td>...</td>\n",
              "      <td>...</td>\n",
              "      <td>...</td>\n",
              "      <td>...</td>\n",
              "      <td>...</td>\n",
              "      <td>...</td>\n",
              "      <td>...</td>\n",
              "      <td>...</td>\n",
              "      <td>...</td>\n",
              "      <td>...</td>\n",
              "      <td>...</td>\n",
              "      <td>...</td>\n",
              "      <td>...</td>\n",
              "      <td>...</td>\n",
              "      <td>...</td>\n",
              "      <td>...</td>\n",
              "      <td>...</td>\n",
              "      <td>...</td>\n",
              "      <td>...</td>\n",
              "      <td>...</td>\n",
              "      <td>...</td>\n",
              "      <td>...</td>\n",
              "      <td>...</td>\n",
              "      <td>...</td>\n",
              "      <td>...</td>\n",
              "      <td>...</td>\n",
              "      <td>...</td>\n",
              "      <td>...</td>\n",
              "      <td>...</td>\n",
              "      <td>...</td>\n",
              "      <td>...</td>\n",
              "      <td>...</td>\n",
              "      <td>...</td>\n",
              "      <td>...</td>\n",
              "      <td>...</td>\n",
              "      <td>...</td>\n",
              "      <td>...</td>\n",
              "      <td>...</td>\n",
              "      <td>...</td>\n",
              "      <td>...</td>\n",
              "    </tr>\n",
              "    <tr>\n",
              "      <th>95</th>\n",
              "      <td>washipj01</td>\n",
              "      <td>P.J. Washington</td>\n",
              "      <td>2020</td>\n",
              "      <td>RS</td>\n",
              "      <td>21</td>\n",
              "      <td>CHA</td>\n",
              "      <td>PF</td>\n",
              "      <td>NaN</td>\n",
              "      <td>CHA</td>\n",
              "      <td>58</td>\n",
              "      <td>1759</td>\n",
              "      <td>NaN</td>\n",
              "      <td>30.3</td>\n",
              "      <td>NaN</td>\n",
              "      <td>54.7</td>\n",
              "      <td>NaN</td>\n",
              "      <td>NaN</td>\n",
              "      <td>NaN</td>\n",
              "      <td>NaN</td>\n",
              "      <td>-2.4</td>\n",
              "      <td>-0.7</td>\n",
              "      <td>-3.1</td>\n",
              "      <td>-0.30</td>\n",
              "      <td>NaN</td>\n",
              "      <td>NaN</td>\n",
              "      <td>18.6</td>\n",
              "      <td>11.3</td>\n",
              "      <td>12.5</td>\n",
              "      <td>3.5</td>\n",
              "      <td>16.6</td>\n",
              "      <td>9.8</td>\n",
              "      <td>1.5</td>\n",
              "      <td>2.3</td>\n",
              "      <td>NaN</td>\n",
              "      <td>NaN</td>\n",
              "      <td>NaN</td>\n",
              "      <td>NaN</td>\n",
              "      <td>NaN</td>\n",
              "      <td>NaN</td>\n",
              "      <td>39.0</td>\n",
              "      <td>23.1</td>\n",
              "      <td>0.1</td>\n",
              "    </tr>\n",
              "    <tr>\n",
              "      <th>96</th>\n",
              "      <td>zelleco01</td>\n",
              "      <td>Cody Zeller</td>\n",
              "      <td>2020</td>\n",
              "      <td>RS</td>\n",
              "      <td>27</td>\n",
              "      <td>CHA</td>\n",
              "      <td>C</td>\n",
              "      <td>NaN</td>\n",
              "      <td>CHA</td>\n",
              "      <td>58</td>\n",
              "      <td>1341</td>\n",
              "      <td>NaN</td>\n",
              "      <td>23.1</td>\n",
              "      <td>NaN</td>\n",
              "      <td>57.6</td>\n",
              "      <td>NaN</td>\n",
              "      <td>NaN</td>\n",
              "      <td>NaN</td>\n",
              "      <td>NaN</td>\n",
              "      <td>-0.4</td>\n",
              "      <td>-1.3</td>\n",
              "      <td>-1.7</td>\n",
              "      <td>0.75</td>\n",
              "      <td>NaN</td>\n",
              "      <td>NaN</td>\n",
              "      <td>20.8</td>\n",
              "      <td>11.3</td>\n",
              "      <td>11.9</td>\n",
              "      <td>12.6</td>\n",
              "      <td>21.2</td>\n",
              "      <td>16.7</td>\n",
              "      <td>1.5</td>\n",
              "      <td>1.7</td>\n",
              "      <td>NaN</td>\n",
              "      <td>NaN</td>\n",
              "      <td>NaN</td>\n",
              "      <td>NaN</td>\n",
              "      <td>NaN</td>\n",
              "      <td>NaN</td>\n",
              "      <td>15.7</td>\n",
              "      <td>37.4</td>\n",
              "      <td>-0.1</td>\n",
              "    </tr>\n",
              "    <tr>\n",
              "      <th>97</th>\n",
              "      <td>monkma01</td>\n",
              "      <td>Malik Monk</td>\n",
              "      <td>2020</td>\n",
              "      <td>RS</td>\n",
              "      <td>21</td>\n",
              "      <td>CHA</td>\n",
              "      <td>SG</td>\n",
              "      <td>NaN</td>\n",
              "      <td>CHA</td>\n",
              "      <td>55</td>\n",
              "      <td>1169</td>\n",
              "      <td>NaN</td>\n",
              "      <td>21.3</td>\n",
              "      <td>NaN</td>\n",
              "      <td>53.0</td>\n",
              "      <td>NaN</td>\n",
              "      <td>NaN</td>\n",
              "      <td>NaN</td>\n",
              "      <td>NaN</td>\n",
              "      <td>-1.6</td>\n",
              "      <td>-2.9</td>\n",
              "      <td>-4.5</td>\n",
              "      <td>-1.02</td>\n",
              "      <td>NaN</td>\n",
              "      <td>NaN</td>\n",
              "      <td>22.9</td>\n",
              "      <td>16.6</td>\n",
              "      <td>12.6</td>\n",
              "      <td>2.4</td>\n",
              "      <td>12.6</td>\n",
              "      <td>7.3</td>\n",
              "      <td>1.1</td>\n",
              "      <td>1.3</td>\n",
              "      <td>NaN</td>\n",
              "      <td>NaN</td>\n",
              "      <td>NaN</td>\n",
              "      <td>NaN</td>\n",
              "      <td>NaN</td>\n",
              "      <td>NaN</td>\n",
              "      <td>41.8</td>\n",
              "      <td>20.5</td>\n",
              "      <td>0.3</td>\n",
              "    </tr>\n",
              "    <tr>\n",
              "      <th>98</th>\n",
              "      <td>biyombi01</td>\n",
              "      <td>Bismack Biyombo</td>\n",
              "      <td>2020</td>\n",
              "      <td>RS</td>\n",
              "      <td>27</td>\n",
              "      <td>CHA</td>\n",
              "      <td>C</td>\n",
              "      <td>NaN</td>\n",
              "      <td>CHA</td>\n",
              "      <td>53</td>\n",
              "      <td>1029</td>\n",
              "      <td>NaN</td>\n",
              "      <td>19.4</td>\n",
              "      <td>NaN</td>\n",
              "      <td>57.0</td>\n",
              "      <td>NaN</td>\n",
              "      <td>NaN</td>\n",
              "      <td>NaN</td>\n",
              "      <td>NaN</td>\n",
              "      <td>-2.2</td>\n",
              "      <td>-0.8</td>\n",
              "      <td>-3.1</td>\n",
              "      <td>-0.16</td>\n",
              "      <td>NaN</td>\n",
              "      <td>NaN</td>\n",
              "      <td>16.8</td>\n",
              "      <td>7.8</td>\n",
              "      <td>12.2</td>\n",
              "      <td>12.3</td>\n",
              "      <td>20.7</td>\n",
              "      <td>16.3</td>\n",
              "      <td>0.5</td>\n",
              "      <td>4.4</td>\n",
              "      <td>NaN</td>\n",
              "      <td>NaN</td>\n",
              "      <td>NaN</td>\n",
              "      <td>NaN</td>\n",
              "      <td>NaN</td>\n",
              "      <td>NaN</td>\n",
              "      <td>0.0</td>\n",
              "      <td>54.3</td>\n",
              "      <td>-0.8</td>\n",
              "    </tr>\n",
              "    <tr>\n",
              "      <th>99</th>\n",
              "      <td>martico01</td>\n",
              "      <td>Cody Martin</td>\n",
              "      <td>2020</td>\n",
              "      <td>RS</td>\n",
              "      <td>24</td>\n",
              "      <td>CHA</td>\n",
              "      <td>SF</td>\n",
              "      <td>NaN</td>\n",
              "      <td>CHA</td>\n",
              "      <td>48</td>\n",
              "      <td>903</td>\n",
              "      <td>NaN</td>\n",
              "      <td>18.8</td>\n",
              "      <td>NaN</td>\n",
              "      <td>50.5</td>\n",
              "      <td>NaN</td>\n",
              "      <td>NaN</td>\n",
              "      <td>NaN</td>\n",
              "      <td>NaN</td>\n",
              "      <td>-1.8</td>\n",
              "      <td>4.2</td>\n",
              "      <td>2.5</td>\n",
              "      <td>2.41</td>\n",
              "      <td>NaN</td>\n",
              "      <td>NaN</td>\n",
              "      <td>13.6</td>\n",
              "      <td>15.7</td>\n",
              "      <td>15.7</td>\n",
              "      <td>4.4</td>\n",
              "      <td>15.1</td>\n",
              "      <td>9.6</td>\n",
              "      <td>2.2</td>\n",
              "      <td>0.9</td>\n",
              "      <td>NaN</td>\n",
              "      <td>NaN</td>\n",
              "      <td>NaN</td>\n",
              "      <td>NaN</td>\n",
              "      <td>NaN</td>\n",
              "      <td>NaN</td>\n",
              "      <td>37.2</td>\n",
              "      <td>31.4</td>\n",
              "      <td>-0.1</td>\n",
              "    </tr>\n",
              "  </tbody>\n",
              "</table>\n",
              "<p>100 rows × 42 columns</p>\n",
              "</div>"
            ],
            "text/plain": [
              "    player_id      name_common  year_id type  ...  FT%  3PAr  FTAr  Pace +/-\n",
              "0   youngtr01       Trae Young     2020   RS  ...  NaN  45.5  44.8       2.9\n",
              "1   huntede01  De'Andre Hunter     2020   RS  ...  NaN  44.5  21.1       0.0\n",
              "2   huertke01    Kevin Huerter     2020   RS  ...  NaN  54.8  10.5       0.1\n",
              "3   reddica01      Cam Reddish     2020   RS  ...  NaN  45.1  22.7       0.9\n",
              "4   collijo01     John Collins     2020   RS  ...  NaN  24.3  24.8       0.1\n",
              "..        ...              ...      ...  ...  ...  ...   ...   ...       ...\n",
              "95  washipj01  P.J. Washington     2020   RS  ...  NaN  39.0  23.1       0.1\n",
              "96  zelleco01      Cody Zeller     2020   RS  ...  NaN  15.7  37.4      -0.1\n",
              "97   monkma01       Malik Monk     2020   RS  ...  NaN  41.8  20.5       0.3\n",
              "98  biyombi01  Bismack Biyombo     2020   RS  ...  NaN   0.0  54.3      -0.8\n",
              "99  martico01      Cody Martin     2020   RS  ...  NaN  37.2  31.4      -0.1\n",
              "\n",
              "[100 rows x 42 columns]"
            ]
          },
          "metadata": {},
          "execution_count": 88
        }
      ]
    },
    {
      "cell_type": "markdown",
      "metadata": {
        "id": "azI21K4oh9DZ"
      },
      "source": [
        "This was probably the most important decision I made. I got rid of any small sample sizes so any player who played less than 250 minutes in a particular season. The reason for this is that traditionally NBA players need at least 15-20 worth of games to have sample sizes that are big enough that hte stats can begin to stabilize. Otherwise it is just too noisy and a byproduct of variance more than anything that should be meaningfully charted or measured. \n",
        "\n",
        "The other decision I made was to exclude any seasons prior to 2000. A few reasons I did this. First of all it just makes it easier there are as is already about 10000 rows of data even making this filter. Secondly alot of the data they use in designing these 538 basketball algorithms is not nearly as reliable pre 2000. Tracking cameras didnt really exist back then to nearly the same degree they do now. Stat keepers werent as reliable and consistent. There was no source of verifying alot of the data and hence it can lead to some questionable figures. All these basic stats you see like points, rebounds, assists, shooting percentage etc are incorporated in these 538 models Im using so the accuracy of those historical records absolutely matters in determining the accuracy and validity of these models. It's best hence in my opinion to just leave them out we have more than enough data to work with without them still."
      ]
    },
    {
      "cell_type": "code",
      "metadata": {
        "id": "8B5Te7bUbY7X"
      },
      "source": [
        "df1.drop(df1[df1.Min < 250].index, inplace=True)\n",
        "df1.drop(df1[df1.year_id < 2000].index, inplace=True)"
      ],
      "execution_count": 89,
      "outputs": []
    },
    {
      "cell_type": "code",
      "metadata": {
        "colab": {
          "base_uri": "https://localhost:8080/",
          "height": 484
        },
        "id": "bdaRldx1cmk8",
        "outputId": "280d31d8-153f-43c1-af5e-74509da6e7c8"
      },
      "source": [
        "df1.drop(['player_id', 'franch_id', 'PIE%', 'AWS%', 'ORtg', 'DRtg', 'MP%'], axis=1)"
      ],
      "execution_count": 90,
      "outputs": [
        {
          "output_type": "execute_result",
          "data": {
            "text/html": [
              "<div>\n",
              "<style scoped>\n",
              "    .dataframe tbody tr th:only-of-type {\n",
              "        vertical-align: middle;\n",
              "    }\n",
              "\n",
              "    .dataframe tbody tr th {\n",
              "        vertical-align: top;\n",
              "    }\n",
              "\n",
              "    .dataframe thead th {\n",
              "        text-align: right;\n",
              "    }\n",
              "</style>\n",
              "<table border=\"1\" class=\"dataframe\">\n",
              "  <thead>\n",
              "    <tr style=\"text-align: right;\">\n",
              "      <th></th>\n",
              "      <th>name_common</th>\n",
              "      <th>year_id</th>\n",
              "      <th>type</th>\n",
              "      <th>age</th>\n",
              "      <th>team_id</th>\n",
              "      <th>pos</th>\n",
              "      <th>tmRtg</th>\n",
              "      <th>G</th>\n",
              "      <th>Min</th>\n",
              "      <th>MPG</th>\n",
              "      <th>P/36</th>\n",
              "      <th>TS%</th>\n",
              "      <th>A/36</th>\n",
              "      <th>R/36</th>\n",
              "      <th>SB/36</th>\n",
              "      <th>TO/36</th>\n",
              "      <th>Raptor O</th>\n",
              "      <th>Raptor D</th>\n",
              "      <th>Raptor+/-</th>\n",
              "      <th>Raptor WAR</th>\n",
              "      <th>USG%</th>\n",
              "      <th>AST%</th>\n",
              "      <th>TOV%</th>\n",
              "      <th>ORB%</th>\n",
              "      <th>DRB%</th>\n",
              "      <th>TRB%</th>\n",
              "      <th>STL%</th>\n",
              "      <th>BLK%</th>\n",
              "      <th>%Pos</th>\n",
              "      <th>2P%</th>\n",
              "      <th>3P%</th>\n",
              "      <th>FT%</th>\n",
              "      <th>3PAr</th>\n",
              "      <th>FTAr</th>\n",
              "      <th>Pace +/-</th>\n",
              "    </tr>\n",
              "  </thead>\n",
              "  <tbody>\n",
              "    <tr>\n",
              "      <th>0</th>\n",
              "      <td>Trae Young</td>\n",
              "      <td>2020</td>\n",
              "      <td>RS</td>\n",
              "      <td>21</td>\n",
              "      <td>ATL</td>\n",
              "      <td>PG</td>\n",
              "      <td>NaN</td>\n",
              "      <td>60</td>\n",
              "      <td>2120</td>\n",
              "      <td>35.3</td>\n",
              "      <td>NaN</td>\n",
              "      <td>59.5</td>\n",
              "      <td>NaN</td>\n",
              "      <td>NaN</td>\n",
              "      <td>NaN</td>\n",
              "      <td>NaN</td>\n",
              "      <td>7.1</td>\n",
              "      <td>-3.3</td>\n",
              "      <td>3.7</td>\n",
              "      <td>7.19</td>\n",
              "      <td>34.9</td>\n",
              "      <td>45.6</td>\n",
              "      <td>16.2</td>\n",
              "      <td>1.6</td>\n",
              "      <td>11.5</td>\n",
              "      <td>6.5</td>\n",
              "      <td>1.4</td>\n",
              "      <td>0.3</td>\n",
              "      <td>NaN</td>\n",
              "      <td>NaN</td>\n",
              "      <td>NaN</td>\n",
              "      <td>NaN</td>\n",
              "      <td>45.5</td>\n",
              "      <td>44.8</td>\n",
              "      <td>2.9</td>\n",
              "    </tr>\n",
              "    <tr>\n",
              "      <th>1</th>\n",
              "      <td>De'Andre Hunter</td>\n",
              "      <td>2020</td>\n",
              "      <td>RS</td>\n",
              "      <td>22</td>\n",
              "      <td>ATL</td>\n",
              "      <td>SF</td>\n",
              "      <td>NaN</td>\n",
              "      <td>63</td>\n",
              "      <td>2018</td>\n",
              "      <td>32.0</td>\n",
              "      <td>NaN</td>\n",
              "      <td>52.1</td>\n",
              "      <td>NaN</td>\n",
              "      <td>NaN</td>\n",
              "      <td>NaN</td>\n",
              "      <td>NaN</td>\n",
              "      <td>-2.5</td>\n",
              "      <td>-1.3</td>\n",
              "      <td>-3.8</td>\n",
              "      <td>-1.09</td>\n",
              "      <td>17.5</td>\n",
              "      <td>8.0</td>\n",
              "      <td>12.1</td>\n",
              "      <td>2.3</td>\n",
              "      <td>13.1</td>\n",
              "      <td>7.6</td>\n",
              "      <td>1.0</td>\n",
              "      <td>0.7</td>\n",
              "      <td>NaN</td>\n",
              "      <td>NaN</td>\n",
              "      <td>NaN</td>\n",
              "      <td>NaN</td>\n",
              "      <td>44.5</td>\n",
              "      <td>21.1</td>\n",
              "      <td>0.0</td>\n",
              "    </tr>\n",
              "    <tr>\n",
              "      <th>2</th>\n",
              "      <td>Kevin Huerter</td>\n",
              "      <td>2020</td>\n",
              "      <td>RS</td>\n",
              "      <td>21</td>\n",
              "      <td>ATL</td>\n",
              "      <td>SG</td>\n",
              "      <td>NaN</td>\n",
              "      <td>56</td>\n",
              "      <td>1760</td>\n",
              "      <td>31.4</td>\n",
              "      <td>NaN</td>\n",
              "      <td>53.6</td>\n",
              "      <td>NaN</td>\n",
              "      <td>NaN</td>\n",
              "      <td>NaN</td>\n",
              "      <td>NaN</td>\n",
              "      <td>-0.4</td>\n",
              "      <td>-2.4</td>\n",
              "      <td>-2.8</td>\n",
              "      <td>-0.05</td>\n",
              "      <td>17.1</td>\n",
              "      <td>17.5</td>\n",
              "      <td>12.0</td>\n",
              "      <td>2.1</td>\n",
              "      <td>12.0</td>\n",
              "      <td>7.0</td>\n",
              "      <td>1.4</td>\n",
              "      <td>1.3</td>\n",
              "      <td>NaN</td>\n",
              "      <td>NaN</td>\n",
              "      <td>NaN</td>\n",
              "      <td>NaN</td>\n",
              "      <td>54.8</td>\n",
              "      <td>10.5</td>\n",
              "      <td>0.1</td>\n",
              "    </tr>\n",
              "    <tr>\n",
              "      <th>3</th>\n",
              "      <td>Cam Reddish</td>\n",
              "      <td>2020</td>\n",
              "      <td>RS</td>\n",
              "      <td>20</td>\n",
              "      <td>ATL</td>\n",
              "      <td>SF</td>\n",
              "      <td>NaN</td>\n",
              "      <td>58</td>\n",
              "      <td>1551</td>\n",
              "      <td>26.7</td>\n",
              "      <td>NaN</td>\n",
              "      <td>50.0</td>\n",
              "      <td>NaN</td>\n",
              "      <td>NaN</td>\n",
              "      <td>NaN</td>\n",
              "      <td>NaN</td>\n",
              "      <td>-2.9</td>\n",
              "      <td>0.0</td>\n",
              "      <td>-3.0</td>\n",
              "      <td>-0.18</td>\n",
              "      <td>18.9</td>\n",
              "      <td>8.0</td>\n",
              "      <td>13.6</td>\n",
              "      <td>2.4</td>\n",
              "      <td>12.7</td>\n",
              "      <td>7.5</td>\n",
              "      <td>1.9</td>\n",
              "      <td>1.5</td>\n",
              "      <td>NaN</td>\n",
              "      <td>NaN</td>\n",
              "      <td>NaN</td>\n",
              "      <td>NaN</td>\n",
              "      <td>45.1</td>\n",
              "      <td>22.7</td>\n",
              "      <td>0.9</td>\n",
              "    </tr>\n",
              "    <tr>\n",
              "      <th>4</th>\n",
              "      <td>John Collins</td>\n",
              "      <td>2020</td>\n",
              "      <td>RS</td>\n",
              "      <td>22</td>\n",
              "      <td>ATL</td>\n",
              "      <td>PF</td>\n",
              "      <td>NaN</td>\n",
              "      <td>41</td>\n",
              "      <td>1363</td>\n",
              "      <td>33.2</td>\n",
              "      <td>NaN</td>\n",
              "      <td>65.9</td>\n",
              "      <td>NaN</td>\n",
              "      <td>NaN</td>\n",
              "      <td>NaN</td>\n",
              "      <td>NaN</td>\n",
              "      <td>0.0</td>\n",
              "      <td>-0.4</td>\n",
              "      <td>-0.4</td>\n",
              "      <td>1.65</td>\n",
              "      <td>22.7</td>\n",
              "      <td>7.6</td>\n",
              "      <td>10.1</td>\n",
              "      <td>9.0</td>\n",
              "      <td>24.0</td>\n",
              "      <td>16.4</td>\n",
              "      <td>1.1</td>\n",
              "      <td>4.1</td>\n",
              "      <td>NaN</td>\n",
              "      <td>NaN</td>\n",
              "      <td>NaN</td>\n",
              "      <td>NaN</td>\n",
              "      <td>24.3</td>\n",
              "      <td>24.8</td>\n",
              "      <td>0.1</td>\n",
              "    </tr>\n",
              "    <tr>\n",
              "      <th>...</th>\n",
              "      <td>...</td>\n",
              "      <td>...</td>\n",
              "      <td>...</td>\n",
              "      <td>...</td>\n",
              "      <td>...</td>\n",
              "      <td>...</td>\n",
              "      <td>...</td>\n",
              "      <td>...</td>\n",
              "      <td>...</td>\n",
              "      <td>...</td>\n",
              "      <td>...</td>\n",
              "      <td>...</td>\n",
              "      <td>...</td>\n",
              "      <td>...</td>\n",
              "      <td>...</td>\n",
              "      <td>...</td>\n",
              "      <td>...</td>\n",
              "      <td>...</td>\n",
              "      <td>...</td>\n",
              "      <td>...</td>\n",
              "      <td>...</td>\n",
              "      <td>...</td>\n",
              "      <td>...</td>\n",
              "      <td>...</td>\n",
              "      <td>...</td>\n",
              "      <td>...</td>\n",
              "      <td>...</td>\n",
              "      <td>...</td>\n",
              "      <td>...</td>\n",
              "      <td>...</td>\n",
              "      <td>...</td>\n",
              "      <td>...</td>\n",
              "      <td>...</td>\n",
              "      <td>...</td>\n",
              "      <td>...</td>\n",
              "    </tr>\n",
              "    <tr>\n",
              "      <th>15257</th>\n",
              "      <td>Richard Hamilton</td>\n",
              "      <td>2000</td>\n",
              "      <td>RS</td>\n",
              "      <td>21</td>\n",
              "      <td>WAS</td>\n",
              "      <td>SG</td>\n",
              "      <td>-3.5</td>\n",
              "      <td>71</td>\n",
              "      <td>1373</td>\n",
              "      <td>19.3</td>\n",
              "      <td>18.1</td>\n",
              "      <td>48.2</td>\n",
              "      <td>3.1</td>\n",
              "      <td>3.6</td>\n",
              "      <td>1.0</td>\n",
              "      <td>2.4</td>\n",
              "      <td>-1.5</td>\n",
              "      <td>-2.6</td>\n",
              "      <td>-4.1</td>\n",
              "      <td>-0.97</td>\n",
              "      <td>24.2</td>\n",
              "      <td>13.7</td>\n",
              "      <td>11.2</td>\n",
              "      <td>3.1</td>\n",
              "      <td>7.7</td>\n",
              "      <td>5.4</td>\n",
              "      <td>1.1</td>\n",
              "      <td>0.3</td>\n",
              "      <td>22.8</td>\n",
              "      <td>42.8</td>\n",
              "      <td>36.4</td>\n",
              "      <td>77.4</td>\n",
              "      <td>12.7</td>\n",
              "      <td>22.0</td>\n",
              "      <td>0.2</td>\n",
              "    </tr>\n",
              "    <tr>\n",
              "      <th>15258</th>\n",
              "      <td>Isaac Austin</td>\n",
              "      <td>2000</td>\n",
              "      <td>RS</td>\n",
              "      <td>30</td>\n",
              "      <td>WAS</td>\n",
              "      <td>C</td>\n",
              "      <td>-3.5</td>\n",
              "      <td>59</td>\n",
              "      <td>1173</td>\n",
              "      <td>19.9</td>\n",
              "      <td>13.1</td>\n",
              "      <td>48.1</td>\n",
              "      <td>2.4</td>\n",
              "      <td>9.3</td>\n",
              "      <td>1.8</td>\n",
              "      <td>3.5</td>\n",
              "      <td>-5.2</td>\n",
              "      <td>-1.3</td>\n",
              "      <td>-6.5</td>\n",
              "      <td>-2.26</td>\n",
              "      <td>19.6</td>\n",
              "      <td>10.0</td>\n",
              "      <td>20.6</td>\n",
              "      <td>6.2</td>\n",
              "      <td>21.7</td>\n",
              "      <td>13.8</td>\n",
              "      <td>0.8</td>\n",
              "      <td>2.3</td>\n",
              "      <td>19.8</td>\n",
              "      <td>43.1</td>\n",
              "      <td>25.0</td>\n",
              "      <td>68.6</td>\n",
              "      <td>1.1</td>\n",
              "      <td>38.9</td>\n",
              "      <td>0.0</td>\n",
              "    </tr>\n",
              "    <tr>\n",
              "      <th>15259</th>\n",
              "      <td>Michael Smith</td>\n",
              "      <td>2000</td>\n",
              "      <td>RS</td>\n",
              "      <td>27</td>\n",
              "      <td>WAS</td>\n",
              "      <td>SF</td>\n",
              "      <td>-3.5</td>\n",
              "      <td>46</td>\n",
              "      <td>1145</td>\n",
              "      <td>24.9</td>\n",
              "      <td>9.8</td>\n",
              "      <td>61.1</td>\n",
              "      <td>1.9</td>\n",
              "      <td>11.2</td>\n",
              "      <td>1.7</td>\n",
              "      <td>1.5</td>\n",
              "      <td>1.5</td>\n",
              "      <td>-0.1</td>\n",
              "      <td>1.4</td>\n",
              "      <td>2.42</td>\n",
              "      <td>10.9</td>\n",
              "      <td>7.3</td>\n",
              "      <td>16.0</td>\n",
              "      <td>12.0</td>\n",
              "      <td>21.4</td>\n",
              "      <td>16.6</td>\n",
              "      <td>1.2</td>\n",
              "      <td>1.4</td>\n",
              "      <td>12.1</td>\n",
              "      <td>56.5</td>\n",
              "      <td>0.0</td>\n",
              "      <td>72.3</td>\n",
              "      <td>0.5</td>\n",
              "      <td>52.6</td>\n",
              "      <td>-0.4</td>\n",
              "    </tr>\n",
              "    <tr>\n",
              "      <th>15260</th>\n",
              "      <td>Gerard King</td>\n",
              "      <td>2000</td>\n",
              "      <td>RS</td>\n",
              "      <td>27</td>\n",
              "      <td>WAS</td>\n",
              "      <td>SF</td>\n",
              "      <td>-3.5</td>\n",
              "      <td>62</td>\n",
              "      <td>1060</td>\n",
              "      <td>17.1</td>\n",
              "      <td>12.0</td>\n",
              "      <td>53.4</td>\n",
              "      <td>1.8</td>\n",
              "      <td>9.2</td>\n",
              "      <td>1.8</td>\n",
              "      <td>1.5</td>\n",
              "      <td>-0.2</td>\n",
              "      <td>-0.1</td>\n",
              "      <td>-0.2</td>\n",
              "      <td>1.36</td>\n",
              "      <td>14.5</td>\n",
              "      <td>7.4</td>\n",
              "      <td>11.8</td>\n",
              "      <td>9.0</td>\n",
              "      <td>18.2</td>\n",
              "      <td>13.6</td>\n",
              "      <td>1.7</td>\n",
              "      <td>1.0</td>\n",
              "      <td>14.6</td>\n",
              "      <td>50.2</td>\n",
              "      <td>0.0</td>\n",
              "      <td>74.2</td>\n",
              "      <td>0.0</td>\n",
              "      <td>23.8</td>\n",
              "      <td>0.0</td>\n",
              "    </tr>\n",
              "    <tr>\n",
              "      <th>15261</th>\n",
              "      <td>Don Reid</td>\n",
              "      <td>2000</td>\n",
              "      <td>RS</td>\n",
              "      <td>26</td>\n",
              "      <td>WAS</td>\n",
              "      <td>PF</td>\n",
              "      <td>-3.5</td>\n",
              "      <td>17</td>\n",
              "      <td>333</td>\n",
              "      <td>19.6</td>\n",
              "      <td>12.7</td>\n",
              "      <td>60.3</td>\n",
              "      <td>1.2</td>\n",
              "      <td>9.0</td>\n",
              "      <td>4.4</td>\n",
              "      <td>1.4</td>\n",
              "      <td>0.6</td>\n",
              "      <td>1.4</td>\n",
              "      <td>2.0</td>\n",
              "      <td>0.82</td>\n",
              "      <td>13.6</td>\n",
              "      <td>4.8</td>\n",
              "      <td>11.7</td>\n",
              "      <td>8.9</td>\n",
              "      <td>17.8</td>\n",
              "      <td>13.3</td>\n",
              "      <td>3.0</td>\n",
              "      <td>4.1</td>\n",
              "      <td>13.6</td>\n",
              "      <td>56.4</td>\n",
              "      <td>0.0</td>\n",
              "      <td>75.0</td>\n",
              "      <td>0.0</td>\n",
              "      <td>35.9</td>\n",
              "      <td>1.6</td>\n",
              "    </tr>\n",
              "  </tbody>\n",
              "</table>\n",
              "<p>9625 rows × 35 columns</p>\n",
              "</div>"
            ],
            "text/plain": [
              "            name_common  year_id type  age  ...   FT%  3PAr  FTAr  Pace +/-\n",
              "0            Trae Young     2020   RS   21  ...   NaN  45.5  44.8       2.9\n",
              "1       De'Andre Hunter     2020   RS   22  ...   NaN  44.5  21.1       0.0\n",
              "2         Kevin Huerter     2020   RS   21  ...   NaN  54.8  10.5       0.1\n",
              "3           Cam Reddish     2020   RS   20  ...   NaN  45.1  22.7       0.9\n",
              "4          John Collins     2020   RS   22  ...   NaN  24.3  24.8       0.1\n",
              "...                 ...      ...  ...  ...  ...   ...   ...   ...       ...\n",
              "15257  Richard Hamilton     2000   RS   21  ...  77.4  12.7  22.0       0.2\n",
              "15258      Isaac Austin     2000   RS   30  ...  68.6   1.1  38.9       0.0\n",
              "15259     Michael Smith     2000   RS   27  ...  72.3   0.5  52.6      -0.4\n",
              "15260       Gerard King     2000   RS   27  ...  74.2   0.0  23.8       0.0\n",
              "15261          Don Reid     2000   RS   26  ...  75.0   0.0  35.9       1.6\n",
              "\n",
              "[9625 rows x 35 columns]"
            ]
          },
          "metadata": {},
          "execution_count": 90
        }
      ]
    },
    {
      "cell_type": "markdown",
      "metadata": {
        "id": "ydLSpUo3i3bL"
      },
      "source": [
        "A subjective decision I had to make is that even amongst the players from only 2000 onwards about 5-10% of them had some kind of null values in the following rows. There is no way of reasonably being able to estimate what the figures were. What I decided to do was just not use any players who had null values in these rows. As is, the sample size will still be plenty there is still more than enough(thousands of players) to run models on. A substantial % of the null values are from the year 2020(all players in 2020 had some null values) so another way of looking at this project is its analyzing basketball data from 2000-2019 instead of 2000-2020. "
      ]
    },
    {
      "cell_type": "code",
      "metadata": {
        "id": "sIuaFYYGfLXv"
      },
      "source": [
        "df1 = df1[df1['P/36'].notna()]\n",
        "df1 = df1[df1['A/36'].notna()]\n",
        "df1 = df1[df1['R/36'].notna()]\n",
        "df1 = df1[df1['SB/36'].notna()]\n",
        "df1 = df1[df1['TO/36'].notna()]\n",
        "df1 = df1[df1['%Pos'].notna()]\n",
        "df1 = df1[df1['2P%'].notna()]\n",
        "df1 = df1[df1['3P%'].notna()]"
      ],
      "execution_count": 91,
      "outputs": []
    },
    {
      "cell_type": "code",
      "metadata": {
        "colab": {
          "base_uri": "https://localhost:8080/",
          "height": 272
        },
        "id": "axaMjMVKfgPC",
        "outputId": "4106f938-00c4-4d28-a77a-a3efe210bedf"
      },
      "source": [
        "df1.head()"
      ],
      "execution_count": 92,
      "outputs": [
        {
          "output_type": "execute_result",
          "data": {
            "text/html": [
              "<div>\n",
              "<style scoped>\n",
              "    .dataframe tbody tr th:only-of-type {\n",
              "        vertical-align: middle;\n",
              "    }\n",
              "\n",
              "    .dataframe tbody tr th {\n",
              "        vertical-align: top;\n",
              "    }\n",
              "\n",
              "    .dataframe thead th {\n",
              "        text-align: right;\n",
              "    }\n",
              "</style>\n",
              "<table border=\"1\" class=\"dataframe\">\n",
              "  <thead>\n",
              "    <tr style=\"text-align: right;\">\n",
              "      <th></th>\n",
              "      <th>player_id</th>\n",
              "      <th>name_common</th>\n",
              "      <th>year_id</th>\n",
              "      <th>type</th>\n",
              "      <th>age</th>\n",
              "      <th>team_id</th>\n",
              "      <th>pos</th>\n",
              "      <th>tmRtg</th>\n",
              "      <th>franch_id</th>\n",
              "      <th>G</th>\n",
              "      <th>Min</th>\n",
              "      <th>MP%</th>\n",
              "      <th>MPG</th>\n",
              "      <th>P/36</th>\n",
              "      <th>TS%</th>\n",
              "      <th>A/36</th>\n",
              "      <th>R/36</th>\n",
              "      <th>SB/36</th>\n",
              "      <th>TO/36</th>\n",
              "      <th>Raptor O</th>\n",
              "      <th>Raptor D</th>\n",
              "      <th>Raptor+/-</th>\n",
              "      <th>Raptor WAR</th>\n",
              "      <th>PIE%</th>\n",
              "      <th>AWS%</th>\n",
              "      <th>USG%</th>\n",
              "      <th>AST%</th>\n",
              "      <th>TOV%</th>\n",
              "      <th>ORB%</th>\n",
              "      <th>DRB%</th>\n",
              "      <th>TRB%</th>\n",
              "      <th>STL%</th>\n",
              "      <th>BLK%</th>\n",
              "      <th>ORtg</th>\n",
              "      <th>%Pos</th>\n",
              "      <th>DRtg</th>\n",
              "      <th>2P%</th>\n",
              "      <th>3P%</th>\n",
              "      <th>FT%</th>\n",
              "      <th>3PAr</th>\n",
              "      <th>FTAr</th>\n",
              "      <th>Pace +/-</th>\n",
              "    </tr>\n",
              "  </thead>\n",
              "  <tbody>\n",
              "    <tr>\n",
              "      <th>808</th>\n",
              "      <td>youngtr01</td>\n",
              "      <td>Trae Young</td>\n",
              "      <td>2019</td>\n",
              "      <td>RS</td>\n",
              "      <td>20</td>\n",
              "      <td>ATL</td>\n",
              "      <td>PG</td>\n",
              "      <td>-5.7</td>\n",
              "      <td>ATL</td>\n",
              "      <td>81</td>\n",
              "      <td>2503</td>\n",
              "      <td>63.0</td>\n",
              "      <td>30.9</td>\n",
              "      <td>21.4</td>\n",
              "      <td>53.9</td>\n",
              "      <td>9.0</td>\n",
              "      <td>4.2</td>\n",
              "      <td>1.2</td>\n",
              "      <td>4.3</td>\n",
              "      <td>2.4</td>\n",
              "      <td>-4.5</td>\n",
              "      <td>-2.1</td>\n",
              "      <td>0.82</td>\n",
              "      <td>12.5</td>\n",
              "      <td>10.2</td>\n",
              "      <td>28.4</td>\n",
              "      <td>40.5</td>\n",
              "      <td>17.6</td>\n",
              "      <td>2.6</td>\n",
              "      <td>10.2</td>\n",
              "      <td>6.3</td>\n",
              "      <td>1.3</td>\n",
              "      <td>0.5</td>\n",
              "      <td>107.4</td>\n",
              "      <td>29.8</td>\n",
              "      <td>116.8</td>\n",
              "      <td>47.7</td>\n",
              "      <td>32.4</td>\n",
              "      <td>82.9</td>\n",
              "      <td>38.4</td>\n",
              "      <td>33.0</td>\n",
              "      <td>1.8</td>\n",
              "    </tr>\n",
              "    <tr>\n",
              "      <th>809</th>\n",
              "      <td>huertke01</td>\n",
              "      <td>Kevin Huerter</td>\n",
              "      <td>2019</td>\n",
              "      <td>RS</td>\n",
              "      <td>20</td>\n",
              "      <td>ATL</td>\n",
              "      <td>SG</td>\n",
              "      <td>-5.7</td>\n",
              "      <td>ATL</td>\n",
              "      <td>75</td>\n",
              "      <td>2048</td>\n",
              "      <td>51.6</td>\n",
              "      <td>27.3</td>\n",
              "      <td>12.3</td>\n",
              "      <td>53.3</td>\n",
              "      <td>3.6</td>\n",
              "      <td>4.1</td>\n",
              "      <td>1.5</td>\n",
              "      <td>1.8</td>\n",
              "      <td>0.4</td>\n",
              "      <td>-2.2</td>\n",
              "      <td>-1.8</td>\n",
              "      <td>1.04</td>\n",
              "      <td>6.7</td>\n",
              "      <td>6.9</td>\n",
              "      <td>15.7</td>\n",
              "      <td>14.5</td>\n",
              "      <td>13.8</td>\n",
              "      <td>3.0</td>\n",
              "      <td>9.7</td>\n",
              "      <td>6.3</td>\n",
              "      <td>1.5</td>\n",
              "      <td>1.1</td>\n",
              "      <td>105.5</td>\n",
              "      <td>15.7</td>\n",
              "      <td>116.2</td>\n",
              "      <td>45.7</td>\n",
              "      <td>38.5</td>\n",
              "      <td>73.2</td>\n",
              "      <td>53.7</td>\n",
              "      <td>8.5</td>\n",
              "      <td>0.6</td>\n",
              "    </tr>\n",
              "    <tr>\n",
              "      <th>810</th>\n",
              "      <td>bembrde01</td>\n",
              "      <td>DeAndre' Bembry</td>\n",
              "      <td>2019</td>\n",
              "      <td>RS</td>\n",
              "      <td>24</td>\n",
              "      <td>ATL</td>\n",
              "      <td>SG</td>\n",
              "      <td>-5.7</td>\n",
              "      <td>ATL</td>\n",
              "      <td>82</td>\n",
              "      <td>1931</td>\n",
              "      <td>48.6</td>\n",
              "      <td>23.5</td>\n",
              "      <td>12.3</td>\n",
              "      <td>50.8</td>\n",
              "      <td>3.6</td>\n",
              "      <td>6.4</td>\n",
              "      <td>2.6</td>\n",
              "      <td>2.5</td>\n",
              "      <td>-3.2</td>\n",
              "      <td>1.1</td>\n",
              "      <td>-2.1</td>\n",
              "      <td>0.66</td>\n",
              "      <td>7.8</td>\n",
              "      <td>6.6</td>\n",
              "      <td>17.2</td>\n",
              "      <td>14.7</td>\n",
              "      <td>17.4</td>\n",
              "      <td>2.9</td>\n",
              "      <td>16.9</td>\n",
              "      <td>9.7</td>\n",
              "      <td>2.5</td>\n",
              "      <td>1.8</td>\n",
              "      <td>97.2</td>\n",
              "      <td>17.4</td>\n",
              "      <td>111.5</td>\n",
              "      <td>50.8</td>\n",
              "      <td>28.9</td>\n",
              "      <td>64.0</td>\n",
              "      <td>28.1</td>\n",
              "      <td>22.1</td>\n",
              "      <td>0.6</td>\n",
              "    </tr>\n",
              "    <tr>\n",
              "      <th>811</th>\n",
              "      <td>collijo01</td>\n",
              "      <td>John Collins</td>\n",
              "      <td>2019</td>\n",
              "      <td>RS</td>\n",
              "      <td>21</td>\n",
              "      <td>ATL</td>\n",
              "      <td>PF</td>\n",
              "      <td>-5.7</td>\n",
              "      <td>ATL</td>\n",
              "      <td>61</td>\n",
              "      <td>1829</td>\n",
              "      <td>46.1</td>\n",
              "      <td>30.0</td>\n",
              "      <td>22.5</td>\n",
              "      <td>62.7</td>\n",
              "      <td>2.3</td>\n",
              "      <td>11.3</td>\n",
              "      <td>1.2</td>\n",
              "      <td>2.3</td>\n",
              "      <td>3.2</td>\n",
              "      <td>-0.5</td>\n",
              "      <td>2.7</td>\n",
              "      <td>5.13</td>\n",
              "      <td>14.3</td>\n",
              "      <td>14.9</td>\n",
              "      <td>23.7</td>\n",
              "      <td>11.0</td>\n",
              "      <td>11.2</td>\n",
              "      <td>12.3</td>\n",
              "      <td>22.1</td>\n",
              "      <td>17.1</td>\n",
              "      <td>0.6</td>\n",
              "      <td>1.8</td>\n",
              "      <td>121.7</td>\n",
              "      <td>23.3</td>\n",
              "      <td>114.6</td>\n",
              "      <td>60.9</td>\n",
              "      <td>34.8</td>\n",
              "      <td>76.3</td>\n",
              "      <td>19.0</td>\n",
              "      <td>32.0</td>\n",
              "      <td>0.2</td>\n",
              "    </tr>\n",
              "    <tr>\n",
              "      <th>812</th>\n",
              "      <td>bazemke01</td>\n",
              "      <td>Kent Bazemore</td>\n",
              "      <td>2019</td>\n",
              "      <td>RS</td>\n",
              "      <td>29</td>\n",
              "      <td>ATL</td>\n",
              "      <td>SG</td>\n",
              "      <td>-5.7</td>\n",
              "      <td>ATL</td>\n",
              "      <td>67</td>\n",
              "      <td>1643</td>\n",
              "      <td>41.4</td>\n",
              "      <td>24.5</td>\n",
              "      <td>16.4</td>\n",
              "      <td>50.7</td>\n",
              "      <td>3.2</td>\n",
              "      <td>5.5</td>\n",
              "      <td>2.8</td>\n",
              "      <td>2.6</td>\n",
              "      <td>-2.9</td>\n",
              "      <td>0.6</td>\n",
              "      <td>-2.3</td>\n",
              "      <td>0.39</td>\n",
              "      <td>7.8</td>\n",
              "      <td>6.9</td>\n",
              "      <td>22.0</td>\n",
              "      <td>13.5</td>\n",
              "      <td>13.6</td>\n",
              "      <td>2.3</td>\n",
              "      <td>14.6</td>\n",
              "      <td>8.3</td>\n",
              "      <td>2.5</td>\n",
              "      <td>2.2</td>\n",
              "      <td>98.1</td>\n",
              "      <td>21.3</td>\n",
              "      <td>111.8</td>\n",
              "      <td>46.5</td>\n",
              "      <td>32.0</td>\n",
              "      <td>72.6</td>\n",
              "      <td>43.4</td>\n",
              "      <td>25.3</td>\n",
              "      <td>1.6</td>\n",
              "    </tr>\n",
              "  </tbody>\n",
              "</table>\n",
              "</div>"
            ],
            "text/plain": [
              "     player_id      name_common  year_id type  ...   FT%  3PAr  FTAr  Pace +/-\n",
              "808  youngtr01       Trae Young     2019   RS  ...  82.9  38.4  33.0       1.8\n",
              "809  huertke01    Kevin Huerter     2019   RS  ...  73.2  53.7   8.5       0.6\n",
              "810  bembrde01  DeAndre' Bembry     2019   RS  ...  64.0  28.1  22.1       0.6\n",
              "811  collijo01     John Collins     2019   RS  ...  76.3  19.0  32.0       0.2\n",
              "812  bazemke01    Kent Bazemore     2019   RS  ...  72.6  43.4  25.3       1.6\n",
              "\n",
              "[5 rows x 42 columns]"
            ]
          },
          "metadata": {},
          "execution_count": 92
        }
      ]
    },
    {
      "cell_type": "code",
      "metadata": {
        "colab": {
          "base_uri": "https://localhost:8080/"
        },
        "id": "pP2bMIh98DL8",
        "outputId": "0abda5a9-d8b9-4742-cd5f-0bf23c6b11e7"
      },
      "source": [
        "df1.dtypes"
      ],
      "execution_count": 93,
      "outputs": [
        {
          "output_type": "execute_result",
          "data": {
            "text/plain": [
              "player_id       object\n",
              "name_common     object\n",
              "year_id          int64\n",
              "type            object\n",
              "age              int64\n",
              "team_id         object\n",
              "pos             object\n",
              "tmRtg          float64\n",
              "franch_id       object\n",
              "G                int64\n",
              "Min              int64\n",
              "MP%            float64\n",
              "MPG            float64\n",
              "P/36           float64\n",
              "TS%            float64\n",
              "A/36           float64\n",
              "R/36           float64\n",
              "SB/36          float64\n",
              "TO/36          float64\n",
              "Raptor O       float64\n",
              "Raptor D       float64\n",
              "Raptor+/-      float64\n",
              "Raptor WAR     float64\n",
              "PIE%           float64\n",
              "AWS%           float64\n",
              "USG%           float64\n",
              "AST%           float64\n",
              "TOV%           float64\n",
              "ORB%           float64\n",
              "DRB%           float64\n",
              "TRB%           float64\n",
              "STL%           float64\n",
              "BLK%           float64\n",
              "ORtg           float64\n",
              "%Pos           float64\n",
              "DRtg           float64\n",
              "2P%            float64\n",
              "3P%            float64\n",
              "FT%            float64\n",
              "3PAr           float64\n",
              "FTAr           float64\n",
              "Pace +/-       float64\n",
              "dtype: object"
            ]
          },
          "metadata": {},
          "execution_count": 93
        }
      ]
    },
    {
      "cell_type": "markdown",
      "metadata": {
        "id": "izjND164iTxI"
      },
      "source": [
        "This is also important: positions in the data base are listed as teh following: PG, SG, SF, PF, C\n",
        "\n",
        "PG--point guard\n",
        "\n",
        "SG--shooting guard\n",
        "\n",
        "SF---small forward\n",
        "\n",
        "PF--power forward\n",
        "\n",
        "C--center\n",
        "\n",
        "Traditionally in basketball these positions are also given numbers. 1 for PG, 2 for SG, 3 for SF, 4 for PF, 5 for C. I essentially one hot encoded these variables in this data set. That is I turned what is listed under position as PG into 1, 2 for SG, 3 for SF etc. This will matter later on when I do some logistic regression to try to see if these models can accurately predict what position a player plays and some K Means data."
      ]
    },
    {
      "cell_type": "code",
      "metadata": {
        "id": "c5Cv_-ay6Olg"
      },
      "source": [
        "df1['pos'] = df1['pos'].map({'PG': 1, 'SG': 2, 'SF': 3, 'PF': 4, 'C': 5})"
      ],
      "execution_count": 94,
      "outputs": []
    },
    {
      "cell_type": "markdown",
      "metadata": {
        "id": "w-ArLofJixML"
      },
      "source": [
        "And here is the other data set Im referring to as well. "
      ]
    },
    {
      "cell_type": "code",
      "metadata": {
        "id": "gLp-nw-OLsii",
        "colab": {
          "base_uri": "https://localhost:8080/",
          "height": 272
        },
        "outputId": "09545545-f625-4f9d-d263-1010ad91e52e"
      },
      "source": [
        "df1.head()"
      ],
      "execution_count": 95,
      "outputs": [
        {
          "output_type": "execute_result",
          "data": {
            "text/html": [
              "<div>\n",
              "<style scoped>\n",
              "    .dataframe tbody tr th:only-of-type {\n",
              "        vertical-align: middle;\n",
              "    }\n",
              "\n",
              "    .dataframe tbody tr th {\n",
              "        vertical-align: top;\n",
              "    }\n",
              "\n",
              "    .dataframe thead th {\n",
              "        text-align: right;\n",
              "    }\n",
              "</style>\n",
              "<table border=\"1\" class=\"dataframe\">\n",
              "  <thead>\n",
              "    <tr style=\"text-align: right;\">\n",
              "      <th></th>\n",
              "      <th>player_id</th>\n",
              "      <th>name_common</th>\n",
              "      <th>year_id</th>\n",
              "      <th>type</th>\n",
              "      <th>age</th>\n",
              "      <th>team_id</th>\n",
              "      <th>pos</th>\n",
              "      <th>tmRtg</th>\n",
              "      <th>franch_id</th>\n",
              "      <th>G</th>\n",
              "      <th>Min</th>\n",
              "      <th>MP%</th>\n",
              "      <th>MPG</th>\n",
              "      <th>P/36</th>\n",
              "      <th>TS%</th>\n",
              "      <th>A/36</th>\n",
              "      <th>R/36</th>\n",
              "      <th>SB/36</th>\n",
              "      <th>TO/36</th>\n",
              "      <th>Raptor O</th>\n",
              "      <th>Raptor D</th>\n",
              "      <th>Raptor+/-</th>\n",
              "      <th>Raptor WAR</th>\n",
              "      <th>PIE%</th>\n",
              "      <th>AWS%</th>\n",
              "      <th>USG%</th>\n",
              "      <th>AST%</th>\n",
              "      <th>TOV%</th>\n",
              "      <th>ORB%</th>\n",
              "      <th>DRB%</th>\n",
              "      <th>TRB%</th>\n",
              "      <th>STL%</th>\n",
              "      <th>BLK%</th>\n",
              "      <th>ORtg</th>\n",
              "      <th>%Pos</th>\n",
              "      <th>DRtg</th>\n",
              "      <th>2P%</th>\n",
              "      <th>3P%</th>\n",
              "      <th>FT%</th>\n",
              "      <th>3PAr</th>\n",
              "      <th>FTAr</th>\n",
              "      <th>Pace +/-</th>\n",
              "    </tr>\n",
              "  </thead>\n",
              "  <tbody>\n",
              "    <tr>\n",
              "      <th>808</th>\n",
              "      <td>youngtr01</td>\n",
              "      <td>Trae Young</td>\n",
              "      <td>2019</td>\n",
              "      <td>RS</td>\n",
              "      <td>20</td>\n",
              "      <td>ATL</td>\n",
              "      <td>1</td>\n",
              "      <td>-5.7</td>\n",
              "      <td>ATL</td>\n",
              "      <td>81</td>\n",
              "      <td>2503</td>\n",
              "      <td>63.0</td>\n",
              "      <td>30.9</td>\n",
              "      <td>21.4</td>\n",
              "      <td>53.9</td>\n",
              "      <td>9.0</td>\n",
              "      <td>4.2</td>\n",
              "      <td>1.2</td>\n",
              "      <td>4.3</td>\n",
              "      <td>2.4</td>\n",
              "      <td>-4.5</td>\n",
              "      <td>-2.1</td>\n",
              "      <td>0.82</td>\n",
              "      <td>12.5</td>\n",
              "      <td>10.2</td>\n",
              "      <td>28.4</td>\n",
              "      <td>40.5</td>\n",
              "      <td>17.6</td>\n",
              "      <td>2.6</td>\n",
              "      <td>10.2</td>\n",
              "      <td>6.3</td>\n",
              "      <td>1.3</td>\n",
              "      <td>0.5</td>\n",
              "      <td>107.4</td>\n",
              "      <td>29.8</td>\n",
              "      <td>116.8</td>\n",
              "      <td>47.7</td>\n",
              "      <td>32.4</td>\n",
              "      <td>82.9</td>\n",
              "      <td>38.4</td>\n",
              "      <td>33.0</td>\n",
              "      <td>1.8</td>\n",
              "    </tr>\n",
              "    <tr>\n",
              "      <th>809</th>\n",
              "      <td>huertke01</td>\n",
              "      <td>Kevin Huerter</td>\n",
              "      <td>2019</td>\n",
              "      <td>RS</td>\n",
              "      <td>20</td>\n",
              "      <td>ATL</td>\n",
              "      <td>2</td>\n",
              "      <td>-5.7</td>\n",
              "      <td>ATL</td>\n",
              "      <td>75</td>\n",
              "      <td>2048</td>\n",
              "      <td>51.6</td>\n",
              "      <td>27.3</td>\n",
              "      <td>12.3</td>\n",
              "      <td>53.3</td>\n",
              "      <td>3.6</td>\n",
              "      <td>4.1</td>\n",
              "      <td>1.5</td>\n",
              "      <td>1.8</td>\n",
              "      <td>0.4</td>\n",
              "      <td>-2.2</td>\n",
              "      <td>-1.8</td>\n",
              "      <td>1.04</td>\n",
              "      <td>6.7</td>\n",
              "      <td>6.9</td>\n",
              "      <td>15.7</td>\n",
              "      <td>14.5</td>\n",
              "      <td>13.8</td>\n",
              "      <td>3.0</td>\n",
              "      <td>9.7</td>\n",
              "      <td>6.3</td>\n",
              "      <td>1.5</td>\n",
              "      <td>1.1</td>\n",
              "      <td>105.5</td>\n",
              "      <td>15.7</td>\n",
              "      <td>116.2</td>\n",
              "      <td>45.7</td>\n",
              "      <td>38.5</td>\n",
              "      <td>73.2</td>\n",
              "      <td>53.7</td>\n",
              "      <td>8.5</td>\n",
              "      <td>0.6</td>\n",
              "    </tr>\n",
              "    <tr>\n",
              "      <th>810</th>\n",
              "      <td>bembrde01</td>\n",
              "      <td>DeAndre' Bembry</td>\n",
              "      <td>2019</td>\n",
              "      <td>RS</td>\n",
              "      <td>24</td>\n",
              "      <td>ATL</td>\n",
              "      <td>2</td>\n",
              "      <td>-5.7</td>\n",
              "      <td>ATL</td>\n",
              "      <td>82</td>\n",
              "      <td>1931</td>\n",
              "      <td>48.6</td>\n",
              "      <td>23.5</td>\n",
              "      <td>12.3</td>\n",
              "      <td>50.8</td>\n",
              "      <td>3.6</td>\n",
              "      <td>6.4</td>\n",
              "      <td>2.6</td>\n",
              "      <td>2.5</td>\n",
              "      <td>-3.2</td>\n",
              "      <td>1.1</td>\n",
              "      <td>-2.1</td>\n",
              "      <td>0.66</td>\n",
              "      <td>7.8</td>\n",
              "      <td>6.6</td>\n",
              "      <td>17.2</td>\n",
              "      <td>14.7</td>\n",
              "      <td>17.4</td>\n",
              "      <td>2.9</td>\n",
              "      <td>16.9</td>\n",
              "      <td>9.7</td>\n",
              "      <td>2.5</td>\n",
              "      <td>1.8</td>\n",
              "      <td>97.2</td>\n",
              "      <td>17.4</td>\n",
              "      <td>111.5</td>\n",
              "      <td>50.8</td>\n",
              "      <td>28.9</td>\n",
              "      <td>64.0</td>\n",
              "      <td>28.1</td>\n",
              "      <td>22.1</td>\n",
              "      <td>0.6</td>\n",
              "    </tr>\n",
              "    <tr>\n",
              "      <th>811</th>\n",
              "      <td>collijo01</td>\n",
              "      <td>John Collins</td>\n",
              "      <td>2019</td>\n",
              "      <td>RS</td>\n",
              "      <td>21</td>\n",
              "      <td>ATL</td>\n",
              "      <td>4</td>\n",
              "      <td>-5.7</td>\n",
              "      <td>ATL</td>\n",
              "      <td>61</td>\n",
              "      <td>1829</td>\n",
              "      <td>46.1</td>\n",
              "      <td>30.0</td>\n",
              "      <td>22.5</td>\n",
              "      <td>62.7</td>\n",
              "      <td>2.3</td>\n",
              "      <td>11.3</td>\n",
              "      <td>1.2</td>\n",
              "      <td>2.3</td>\n",
              "      <td>3.2</td>\n",
              "      <td>-0.5</td>\n",
              "      <td>2.7</td>\n",
              "      <td>5.13</td>\n",
              "      <td>14.3</td>\n",
              "      <td>14.9</td>\n",
              "      <td>23.7</td>\n",
              "      <td>11.0</td>\n",
              "      <td>11.2</td>\n",
              "      <td>12.3</td>\n",
              "      <td>22.1</td>\n",
              "      <td>17.1</td>\n",
              "      <td>0.6</td>\n",
              "      <td>1.8</td>\n",
              "      <td>121.7</td>\n",
              "      <td>23.3</td>\n",
              "      <td>114.6</td>\n",
              "      <td>60.9</td>\n",
              "      <td>34.8</td>\n",
              "      <td>76.3</td>\n",
              "      <td>19.0</td>\n",
              "      <td>32.0</td>\n",
              "      <td>0.2</td>\n",
              "    </tr>\n",
              "    <tr>\n",
              "      <th>812</th>\n",
              "      <td>bazemke01</td>\n",
              "      <td>Kent Bazemore</td>\n",
              "      <td>2019</td>\n",
              "      <td>RS</td>\n",
              "      <td>29</td>\n",
              "      <td>ATL</td>\n",
              "      <td>2</td>\n",
              "      <td>-5.7</td>\n",
              "      <td>ATL</td>\n",
              "      <td>67</td>\n",
              "      <td>1643</td>\n",
              "      <td>41.4</td>\n",
              "      <td>24.5</td>\n",
              "      <td>16.4</td>\n",
              "      <td>50.7</td>\n",
              "      <td>3.2</td>\n",
              "      <td>5.5</td>\n",
              "      <td>2.8</td>\n",
              "      <td>2.6</td>\n",
              "      <td>-2.9</td>\n",
              "      <td>0.6</td>\n",
              "      <td>-2.3</td>\n",
              "      <td>0.39</td>\n",
              "      <td>7.8</td>\n",
              "      <td>6.9</td>\n",
              "      <td>22.0</td>\n",
              "      <td>13.5</td>\n",
              "      <td>13.6</td>\n",
              "      <td>2.3</td>\n",
              "      <td>14.6</td>\n",
              "      <td>8.3</td>\n",
              "      <td>2.5</td>\n",
              "      <td>2.2</td>\n",
              "      <td>98.1</td>\n",
              "      <td>21.3</td>\n",
              "      <td>111.8</td>\n",
              "      <td>46.5</td>\n",
              "      <td>32.0</td>\n",
              "      <td>72.6</td>\n",
              "      <td>43.4</td>\n",
              "      <td>25.3</td>\n",
              "      <td>1.6</td>\n",
              "    </tr>\n",
              "  </tbody>\n",
              "</table>\n",
              "</div>"
            ],
            "text/plain": [
              "     player_id      name_common  year_id type  ...   FT%  3PAr  FTAr  Pace +/-\n",
              "808  youngtr01       Trae Young     2019   RS  ...  82.9  38.4  33.0       1.8\n",
              "809  huertke01    Kevin Huerter     2019   RS  ...  73.2  53.7   8.5       0.6\n",
              "810  bembrde01  DeAndre' Bembry     2019   RS  ...  64.0  28.1  22.1       0.6\n",
              "811  collijo01     John Collins     2019   RS  ...  76.3  19.0  32.0       0.2\n",
              "812  bazemke01    Kent Bazemore     2019   RS  ...  72.6  43.4  25.3       1.6\n",
              "\n",
              "[5 rows x 42 columns]"
            ]
          },
          "metadata": {},
          "execution_count": 95
        }
      ]
    },
    {
      "cell_type": "code",
      "metadata": {
        "id": "59FoD_0wi0sj"
      },
      "source": [
        "check for null values. "
      ],
      "execution_count": null,
      "outputs": []
    },
    {
      "cell_type": "code",
      "metadata": {
        "colab": {
          "base_uri": "https://localhost:8080/"
        },
        "id": "ZCIxT5J8bIKx",
        "outputId": "73c34452-f3e8-4751-bf72-3be1fad46602"
      },
      "source": [
        "df1.isnull().sum()\n"
      ],
      "execution_count": 96,
      "outputs": [
        {
          "output_type": "execute_result",
          "data": {
            "text/plain": [
              "player_id      0\n",
              "name_common    0\n",
              "year_id        0\n",
              "type           0\n",
              "age            0\n",
              "team_id        0\n",
              "pos            0\n",
              "tmRtg          0\n",
              "franch_id      0\n",
              "G              0\n",
              "Min            0\n",
              "MP%            0\n",
              "MPG            0\n",
              "P/36           0\n",
              "TS%            0\n",
              "A/36           0\n",
              "R/36           0\n",
              "SB/36          0\n",
              "TO/36          0\n",
              "Raptor O       0\n",
              "Raptor D       0\n",
              "Raptor+/-      0\n",
              "Raptor WAR     0\n",
              "PIE%           0\n",
              "AWS%           0\n",
              "USG%           0\n",
              "AST%           0\n",
              "TOV%           0\n",
              "ORB%           0\n",
              "DRB%           0\n",
              "TRB%           0\n",
              "STL%           0\n",
              "BLK%           0\n",
              "ORtg           0\n",
              "%Pos           0\n",
              "DRtg           0\n",
              "2P%            0\n",
              "3P%            0\n",
              "FT%            0\n",
              "3PAr           0\n",
              "FTAr           0\n",
              "Pace +/-       0\n",
              "dtype: int64"
            ]
          },
          "metadata": {},
          "execution_count": 96
        }
      ]
    },
    {
      "cell_type": "markdown",
      "metadata": {
        "id": "iFCCrhJrBvHQ"
      },
      "source": [
        "Project 2 - Part 2 (Core)\n",
        "Using the approved dataset you proposed for project 2 part 1 last week, you will clean and explore the data set.  \n",
        "\n",
        "To meet the requirements for this week you must have:\n",
        "\n",
        "-deleted unnecessary columns\n",
        "\n",
        "-deleted duplicate rows\n",
        "\n",
        "-identified and addressed missing values \n",
        "\n",
        "-identified and corrected inconsistencies in data for categorical values (i.e. Cat, cat, cats)\n",
        "\n",
        "-produced univariate visuals for the target and all features\n",
        "\n",
        "-identified outliers\n",
        "\n",
        "-produce a correlation heatmap and identify any moderate or strong correlations between your target and your features and/or between one feature and another"
      ]
    },
    {
      "cell_type": "code",
      "metadata": {
        "colab": {
          "base_uri": "https://localhost:8080/"
        },
        "id": "FhM4y2CiCKBE",
        "outputId": "c5e715cd-85b8-4418-fc77-b0edb93fe44d"
      },
      "source": [
        "# Check for duplicates\n",
        "df.duplicated().any()"
      ],
      "execution_count": 97,
      "outputs": [
        {
          "output_type": "execute_result",
          "data": {
            "text/plain": [
              "False"
            ]
          },
          "metadata": {},
          "execution_count": 97
        }
      ]
    },
    {
      "cell_type": "code",
      "metadata": {
        "colab": {
          "base_uri": "https://localhost:8080/"
        },
        "id": "QhbbqAq9CSHx",
        "outputId": "6926b7bd-f794-4985-feb3-81b57b9c9ac2"
      },
      "source": [
        "# Check for missings\n",
        "df.isnull().sum()"
      ],
      "execution_count": 98,
      "outputs": [
        {
          "output_type": "execute_result",
          "data": {
            "text/plain": [
              "player_name         0\n",
              "player_id           0\n",
              "season              0\n",
              "poss                0\n",
              "mp                  0\n",
              "raptor_offense      0\n",
              "raptor_defense      0\n",
              "raptor_total        0\n",
              "war_total           0\n",
              "war_reg_season      0\n",
              "war_playoffs        0\n",
              "predator_offense    0\n",
              "predator_defense    0\n",
              "predator_total      0\n",
              "pace_impact         1\n",
              "dtype: int64"
            ]
          },
          "metadata": {},
          "execution_count": 98
        }
      ]
    },
    {
      "cell_type": "code",
      "metadata": {
        "id": "l5Hq0NrsIf-N",
        "colab": {
          "base_uri": "https://localhost:8080/",
          "height": 98
        },
        "outputId": "002fb310-a7b2-4e21-e09b-e47825e6aead"
      },
      "source": [
        "# There are missing values in the Region column - let's investigate those\n",
        "df[df['pace_impact'].isnull()]"
      ],
      "execution_count": 99,
      "outputs": [
        {
          "output_type": "execute_result",
          "data": {
            "text/html": [
              "<div>\n",
              "<style scoped>\n",
              "    .dataframe tbody tr th:only-of-type {\n",
              "        vertical-align: middle;\n",
              "    }\n",
              "\n",
              "    .dataframe tbody tr th {\n",
              "        vertical-align: top;\n",
              "    }\n",
              "\n",
              "    .dataframe thead th {\n",
              "        text-align: right;\n",
              "    }\n",
              "</style>\n",
              "<table border=\"1\" class=\"dataframe\">\n",
              "  <thead>\n",
              "    <tr style=\"text-align: right;\">\n",
              "      <th></th>\n",
              "      <th>player_name</th>\n",
              "      <th>player_id</th>\n",
              "      <th>season</th>\n",
              "      <th>poss</th>\n",
              "      <th>mp</th>\n",
              "      <th>raptor_offense</th>\n",
              "      <th>raptor_defense</th>\n",
              "      <th>raptor_total</th>\n",
              "      <th>war_total</th>\n",
              "      <th>war_reg_season</th>\n",
              "      <th>war_playoffs</th>\n",
              "      <th>predator_offense</th>\n",
              "      <th>predator_defense</th>\n",
              "      <th>predator_total</th>\n",
              "      <th>pace_impact</th>\n",
              "    </tr>\n",
              "  </thead>\n",
              "  <tbody>\n",
              "    <tr>\n",
              "      <th>12254</th>\n",
              "      <td>Malik Newman</td>\n",
              "      <td>newmama01</td>\n",
              "      <td>2020</td>\n",
              "      <td>8</td>\n",
              "      <td>4</td>\n",
              "      <td>0.0</td>\n",
              "      <td>0.0</td>\n",
              "      <td>0.0</td>\n",
              "      <td>0.0</td>\n",
              "      <td>0.0</td>\n",
              "      <td>0.0</td>\n",
              "      <td>0.0</td>\n",
              "      <td>0.0</td>\n",
              "      <td>0.0</td>\n",
              "      <td>NaN</td>\n",
              "    </tr>\n",
              "  </tbody>\n",
              "</table>\n",
              "</div>"
            ],
            "text/plain": [
              "        player_name  player_id  ...  predator_total  pace_impact\n",
              "12254  Malik Newman  newmama01  ...             0.0          NaN\n",
              "\n",
              "[1 rows x 15 columns]"
            ]
          },
          "metadata": {},
          "execution_count": 99
        }
      ]
    },
    {
      "cell_type": "code",
      "metadata": {
        "id": "ldizlj5oJtZ4"
      },
      "source": [
        "df = df.drop(index = 12254)"
      ],
      "execution_count": 100,
      "outputs": []
    },
    {
      "cell_type": "code",
      "metadata": {
        "id": "oMQqtCkrJ3II"
      },
      "source": [
        "df.drop(df[df.mp < 250].index, inplace=True)\n",
        "df.drop(df[df.season < 2000].index, inplace=True)\n",
        "df.drop(df[df.war_playoffs == 0.0000000].index, inplace=True)"
      ],
      "execution_count": 101,
      "outputs": []
    },
    {
      "cell_type": "markdown",
      "metadata": {
        "id": "1KKxlIL2Askt"
      },
      "source": [
        "Note I dropped the same values for this data set as the last one. That is I got rid of any small sample sizes so any player who played less than 250 minutes in a particular season. The reason for this is that traditionally NBA players need at least 15-20 worth of games to have sample sizes that are big enough that hte stats can begin to stabilize. Otherwise it is just too noisy and a byproduct of variance more than anything that should be meaningfully charted or measured. \n",
        "The other decision I made was to exclude any seasons prior to 2000. Same reasons for doing so as stated earlier for that data set. "
      ]
    },
    {
      "cell_type": "code",
      "metadata": {
        "colab": {
          "base_uri": "https://localhost:8080/",
          "height": 272
        },
        "id": "eavHI3A_KVIf",
        "outputId": "a2fd88a1-c723-4767-cc3c-1f5850a3cc4e"
      },
      "source": [
        "df.head()"
      ],
      "execution_count": 102,
      "outputs": [
        {
          "output_type": "execute_result",
          "data": {
            "text/html": [
              "<div>\n",
              "<style scoped>\n",
              "    .dataframe tbody tr th:only-of-type {\n",
              "        vertical-align: middle;\n",
              "    }\n",
              "\n",
              "    .dataframe tbody tr th {\n",
              "        vertical-align: top;\n",
              "    }\n",
              "\n",
              "    .dataframe thead th {\n",
              "        text-align: right;\n",
              "    }\n",
              "</style>\n",
              "<table border=\"1\" class=\"dataframe\">\n",
              "  <thead>\n",
              "    <tr style=\"text-align: right;\">\n",
              "      <th></th>\n",
              "      <th>player_name</th>\n",
              "      <th>player_id</th>\n",
              "      <th>season</th>\n",
              "      <th>poss</th>\n",
              "      <th>mp</th>\n",
              "      <th>raptor_offense</th>\n",
              "      <th>raptor_defense</th>\n",
              "      <th>raptor_total</th>\n",
              "      <th>war_total</th>\n",
              "      <th>war_reg_season</th>\n",
              "      <th>war_playoffs</th>\n",
              "      <th>predator_offense</th>\n",
              "      <th>predator_defense</th>\n",
              "      <th>predator_total</th>\n",
              "      <th>pace_impact</th>\n",
              "    </tr>\n",
              "  </thead>\n",
              "  <tbody>\n",
              "    <tr>\n",
              "      <th>32</th>\n",
              "      <td>Tariq Abdul-Wahad</td>\n",
              "      <td>abdulta01</td>\n",
              "      <td>2003</td>\n",
              "      <td>553</td>\n",
              "      <td>283</td>\n",
              "      <td>-0.212466</td>\n",
              "      <td>-0.957466</td>\n",
              "      <td>-1.169932</td>\n",
              "      <td>0.228929</td>\n",
              "      <td>0.199733</td>\n",
              "      <td>0.029195</td>\n",
              "      <td>-0.861448</td>\n",
              "      <td>-1.391198</td>\n",
              "      <td>-2.252645</td>\n",
              "      <td>-0.325525</td>\n",
              "    </tr>\n",
              "    <tr>\n",
              "      <th>44</th>\n",
              "      <td>Shareef Abdur-Rahim</td>\n",
              "      <td>abdursh01</td>\n",
              "      <td>2006</td>\n",
              "      <td>4037</td>\n",
              "      <td>2090</td>\n",
              "      <td>0.760258</td>\n",
              "      <td>-0.260694</td>\n",
              "      <td>0.499564</td>\n",
              "      <td>3.435711</td>\n",
              "      <td>3.638852</td>\n",
              "      <td>-0.203141</td>\n",
              "      <td>0.467694</td>\n",
              "      <td>-0.220544</td>\n",
              "      <td>0.247150</td>\n",
              "      <td>0.073112</td>\n",
              "    </tr>\n",
              "    <tr>\n",
              "      <th>52</th>\n",
              "      <td>Alex Abrines</td>\n",
              "      <td>abrinal01</td>\n",
              "      <td>2017</td>\n",
              "      <td>2387</td>\n",
              "      <td>1135</td>\n",
              "      <td>0.543421</td>\n",
              "      <td>-1.144832</td>\n",
              "      <td>-0.601411</td>\n",
              "      <td>1.249008</td>\n",
              "      <td>1.447708</td>\n",
              "      <td>-0.198700</td>\n",
              "      <td>0.077102</td>\n",
              "      <td>-1.038677</td>\n",
              "      <td>-0.961575</td>\n",
              "      <td>0.326413</td>\n",
              "    </tr>\n",
              "    <tr>\n",
              "      <th>53</th>\n",
              "      <td>Alex Abrines</td>\n",
              "      <td>abrinal01</td>\n",
              "      <td>2018</td>\n",
              "      <td>2546</td>\n",
              "      <td>1244</td>\n",
              "      <td>-0.020826</td>\n",
              "      <td>-1.502642</td>\n",
              "      <td>-1.523468</td>\n",
              "      <td>0.777304</td>\n",
              "      <td>0.465912</td>\n",
              "      <td>0.311392</td>\n",
              "      <td>-0.174621</td>\n",
              "      <td>-1.112625</td>\n",
              "      <td>-1.287247</td>\n",
              "      <td>-0.456141</td>\n",
              "    </tr>\n",
              "    <tr>\n",
              "      <th>55</th>\n",
              "      <td>Precious Achiuwa</td>\n",
              "      <td>achiupr01</td>\n",
              "      <td>2021</td>\n",
              "      <td>1581</td>\n",
              "      <td>749</td>\n",
              "      <td>-4.347596</td>\n",
              "      <td>0.954821</td>\n",
              "      <td>-3.392775</td>\n",
              "      <td>-0.246055</td>\n",
              "      <td>-0.246776</td>\n",
              "      <td>0.000721</td>\n",
              "      <td>-3.817713</td>\n",
              "      <td>0.474828</td>\n",
              "      <td>-3.342885</td>\n",
              "      <td>0.329157</td>\n",
              "    </tr>\n",
              "  </tbody>\n",
              "</table>\n",
              "</div>"
            ],
            "text/plain": [
              "            player_name  player_id  ...  predator_total  pace_impact\n",
              "32    Tariq Abdul-Wahad  abdulta01  ...       -2.252645    -0.325525\n",
              "44  Shareef Abdur-Rahim  abdursh01  ...        0.247150     0.073112\n",
              "52         Alex Abrines  abrinal01  ...       -0.961575     0.326413\n",
              "53         Alex Abrines  abrinal01  ...       -1.287247    -0.456141\n",
              "55     Precious Achiuwa  achiupr01  ...       -3.342885     0.329157\n",
              "\n",
              "[5 rows x 15 columns]"
            ]
          },
          "metadata": {},
          "execution_count": 102
        }
      ]
    },
    {
      "cell_type": "code",
      "metadata": {
        "colab": {
          "base_uri": "https://localhost:8080/"
        },
        "id": "7hl54jozKpUr",
        "outputId": "85c62778-e737-46f3-d864-fd5f24092290"
      },
      "source": [
        "df.dtypes"
      ],
      "execution_count": 104,
      "outputs": [
        {
          "output_type": "execute_result",
          "data": {
            "text/plain": [
              "player_name          object\n",
              "player_id            object\n",
              "season                int64\n",
              "poss                  int64\n",
              "mp                    int64\n",
              "raptor_offense      float64\n",
              "raptor_defense      float64\n",
              "raptor_total        float64\n",
              "war_total           float64\n",
              "war_reg_season      float64\n",
              "war_playoffs        float64\n",
              "predator_offense    float64\n",
              "predator_defense    float64\n",
              "predator_total      float64\n",
              "pace_impact         float64\n",
              "dtype: object"
            ]
          },
          "metadata": {},
          "execution_count": 104
        }
      ]
    },
    {
      "cell_type": "code",
      "metadata": {
        "colab": {
          "base_uri": "https://localhost:8080/",
          "height": 314
        },
        "id": "7MXTHqrzLVsh",
        "outputId": "a294b959-412d-4b6f-85db-53e643b00806"
      },
      "source": [
        "df.describe()"
      ],
      "execution_count": 105,
      "outputs": [
        {
          "output_type": "execute_result",
          "data": {
            "text/html": [
              "<div>\n",
              "<style scoped>\n",
              "    .dataframe tbody tr th:only-of-type {\n",
              "        vertical-align: middle;\n",
              "    }\n",
              "\n",
              "    .dataframe tbody tr th {\n",
              "        vertical-align: top;\n",
              "    }\n",
              "\n",
              "    .dataframe thead th {\n",
              "        text-align: right;\n",
              "    }\n",
              "</style>\n",
              "<table border=\"1\" class=\"dataframe\">\n",
              "  <thead>\n",
              "    <tr style=\"text-align: right;\">\n",
              "      <th></th>\n",
              "      <th>season</th>\n",
              "      <th>poss</th>\n",
              "      <th>mp</th>\n",
              "      <th>raptor_offense</th>\n",
              "      <th>raptor_defense</th>\n",
              "      <th>raptor_total</th>\n",
              "      <th>war_total</th>\n",
              "      <th>war_reg_season</th>\n",
              "      <th>war_playoffs</th>\n",
              "      <th>predator_offense</th>\n",
              "      <th>predator_defense</th>\n",
              "      <th>predator_total</th>\n",
              "      <th>pace_impact</th>\n",
              "    </tr>\n",
              "  </thead>\n",
              "  <tbody>\n",
              "    <tr>\n",
              "      <th>count</th>\n",
              "      <td>4094.000000</td>\n",
              "      <td>4094.000000</td>\n",
              "      <td>4094.000000</td>\n",
              "      <td>4094.000000</td>\n",
              "      <td>4094.000000</td>\n",
              "      <td>4094.000000</td>\n",
              "      <td>4094.000000</td>\n",
              "      <td>4094.000000</td>\n",
              "      <td>4094.000000</td>\n",
              "      <td>4094.000000</td>\n",
              "      <td>4094.000000</td>\n",
              "      <td>4094.000000</td>\n",
              "      <td>4094.000000</td>\n",
              "    </tr>\n",
              "    <tr>\n",
              "      <th>mean</th>\n",
              "      <td>2010.743771</td>\n",
              "      <td>3564.646556</td>\n",
              "      <td>1813.323156</td>\n",
              "      <td>-0.234209</td>\n",
              "      <td>0.237644</td>\n",
              "      <td>0.003435</td>\n",
              "      <td>3.493236</td>\n",
              "      <td>3.013916</td>\n",
              "      <td>0.479321</td>\n",
              "      <td>-0.220412</td>\n",
              "      <td>0.139142</td>\n",
              "      <td>-0.081271</td>\n",
              "      <td>0.051637</td>\n",
              "    </tr>\n",
              "    <tr>\n",
              "      <th>std</th>\n",
              "      <td>6.344076</td>\n",
              "      <td>1814.836061</td>\n",
              "      <td>930.789623</td>\n",
              "      <td>2.443971</td>\n",
              "      <td>1.698242</td>\n",
              "      <td>3.045513</td>\n",
              "      <td>4.270257</td>\n",
              "      <td>3.640942</td>\n",
              "      <td>0.895517</td>\n",
              "      <td>2.455723</td>\n",
              "      <td>1.757205</td>\n",
              "      <td>3.240760</td>\n",
              "      <td>0.591933</td>\n",
              "    </tr>\n",
              "    <tr>\n",
              "      <th>min</th>\n",
              "      <td>2000.000000</td>\n",
              "      <td>470.000000</td>\n",
              "      <td>251.000000</td>\n",
              "      <td>-8.490284</td>\n",
              "      <td>-7.088720</td>\n",
              "      <td>-14.568172</td>\n",
              "      <td>-5.148741</td>\n",
              "      <td>-5.252562</td>\n",
              "      <td>-1.376520</td>\n",
              "      <td>-8.240138</td>\n",
              "      <td>-6.609847</td>\n",
              "      <td>-13.598980</td>\n",
              "      <td>-2.328584</td>\n",
              "    </tr>\n",
              "    <tr>\n",
              "      <th>25%</th>\n",
              "      <td>2005.000000</td>\n",
              "      <td>2013.000000</td>\n",
              "      <td>1019.500000</td>\n",
              "      <td>-1.845632</td>\n",
              "      <td>-0.912044</td>\n",
              "      <td>-2.032223</td>\n",
              "      <td>0.390124</td>\n",
              "      <td>0.342548</td>\n",
              "      <td>-0.022344</td>\n",
              "      <td>-1.886360</td>\n",
              "      <td>-1.055829</td>\n",
              "      <td>-2.269006</td>\n",
              "      <td>-0.326718</td>\n",
              "    </tr>\n",
              "    <tr>\n",
              "      <th>50%</th>\n",
              "      <td>2011.000000</td>\n",
              "      <td>3515.000000</td>\n",
              "      <td>1788.500000</td>\n",
              "      <td>-0.332013</td>\n",
              "      <td>0.136188</td>\n",
              "      <td>-0.089696</td>\n",
              "      <td>2.179884</td>\n",
              "      <td>1.943782</td>\n",
              "      <td>0.158071</td>\n",
              "      <td>-0.381169</td>\n",
              "      <td>0.083077</td>\n",
              "      <td>-0.192514</td>\n",
              "      <td>0.011477</td>\n",
              "    </tr>\n",
              "    <tr>\n",
              "      <th>75%</th>\n",
              "      <td>2016.000000</td>\n",
              "      <td>4996.250000</td>\n",
              "      <td>2544.750000</td>\n",
              "      <td>1.083125</td>\n",
              "      <td>1.306193</td>\n",
              "      <td>1.842282</td>\n",
              "      <td>5.303889</td>\n",
              "      <td>4.670808</td>\n",
              "      <td>0.666297</td>\n",
              "      <td>1.161081</td>\n",
              "      <td>1.277425</td>\n",
              "      <td>1.915769</td>\n",
              "      <td>0.375670</td>\n",
              "    </tr>\n",
              "    <tr>\n",
              "      <th>max</th>\n",
              "      <td>2021.000000</td>\n",
              "      <td>8238.000000</td>\n",
              "      <td>4202.000000</td>\n",
              "      <td>10.379411</td>\n",
              "      <td>7.907439</td>\n",
              "      <td>12.580815</td>\n",
              "      <td>28.525259</td>\n",
              "      <td>23.659318</td>\n",
              "      <td>7.006934</td>\n",
              "      <td>10.893131</td>\n",
              "      <td>7.459246</td>\n",
              "      <td>13.347925</td>\n",
              "      <td>3.996917</td>\n",
              "    </tr>\n",
              "  </tbody>\n",
              "</table>\n",
              "</div>"
            ],
            "text/plain": [
              "            season         poss  ...  predator_total  pace_impact\n",
              "count  4094.000000  4094.000000  ...     4094.000000  4094.000000\n",
              "mean   2010.743771  3564.646556  ...       -0.081271     0.051637\n",
              "std       6.344076  1814.836061  ...        3.240760     0.591933\n",
              "min    2000.000000   470.000000  ...      -13.598980    -2.328584\n",
              "25%    2005.000000  2013.000000  ...       -2.269006    -0.326718\n",
              "50%    2011.000000  3515.000000  ...       -0.192514     0.011477\n",
              "75%    2016.000000  4996.250000  ...        1.915769     0.375670\n",
              "max    2021.000000  8238.000000  ...       13.347925     3.996917\n",
              "\n",
              "[8 rows x 13 columns]"
            ]
          },
          "metadata": {},
          "execution_count": 105
        }
      ]
    },
    {
      "cell_type": "code",
      "metadata": {
        "colab": {
          "base_uri": "https://localhost:8080/",
          "height": 264
        },
        "id": "9RU207MxLb9g",
        "outputId": "e92c7788-0a36-4a44-c60b-a1ccd02b1453"
      },
      "source": [
        "df.boxplot(column = 'mp');"
      ],
      "execution_count": 106,
      "outputs": [
        {
          "output_type": "display_data",
          "data": {
            "image/png": "[encoded data removed]",
            "text/plain": [
              "<Figure size 432x288 with 1 Axes>"
            ]
          },
          "metadata": {
            "needs_background": "light"
          }
        }
      ]
    },
    {
      "cell_type": "code",
      "metadata": {
        "colab": {
          "base_uri": "https://localhost:8080/",
          "height": 265
        },
        "id": "1iS34KEJLqBY",
        "outputId": "c969b210-65df-48e6-f9ff-1bb5c2bc0525"
      },
      "source": [
        "df.boxplot(column = 'raptor_offense');"
      ],
      "execution_count": 107,
      "outputs": [
        {
          "output_type": "display_data",
          "data": {
            "image/png": "[encoded data removed]",
            "text/plain": [
              "<Figure size 432x288 with 1 Axes>"
            ]
          },
          "metadata": {
            "needs_background": "light"
          }
        }
      ]
    },
    {
      "cell_type": "code",
      "metadata": {
        "colab": {
          "base_uri": "https://localhost:8080/",
          "height": 265
        },
        "id": "45g0sbDYLs1n",
        "outputId": "410baae8-bf8b-4e0f-f5a4-fb9a3bba83ce"
      },
      "source": [
        "df.boxplot(column = 'raptor_defense');"
      ],
      "execution_count": 108,
      "outputs": [
        {
          "output_type": "display_data",
          "data": {
            "image/png": "[encoded data removed]",
            "text/plain": [
              "<Figure size 432x288 with 1 Axes>"
            ]
          },
          "metadata": {
            "needs_background": "light"
          }
        }
      ]
    },
    {
      "cell_type": "code",
      "metadata": {
        "colab": {
          "base_uri": "https://localhost:8080/",
          "height": 265
        },
        "id": "loagK8DVLvwv",
        "outputId": "5c118f97-cdc3-45f8-e018-239ecfe40da1"
      },
      "source": [
        "df.boxplot(column = 'raptor_total');"
      ],
      "execution_count": 109,
      "outputs": [
        {
          "output_type": "display_data",
          "data": {
            "image/png": "[encoded data removed]",
            "text/plain": [
              "<Figure size 432x288 with 1 Axes>"
            ]
          },
          "metadata": {
            "needs_background": "light"
          }
        }
      ]
    },
    {
      "cell_type": "code",
      "metadata": {
        "colab": {
          "base_uri": "https://localhost:8080/",
          "height": 268
        },
        "id": "0WO6OQe4LzOJ",
        "outputId": "ebec45db-7d2e-41b4-cf0d-5d7b51142638"
      },
      "source": [
        "df.boxplot(column = 'war_total');"
      ],
      "execution_count": 110,
      "outputs": [
        {
          "output_type": "display_data",
          "data": {
            "image/png": "[encoded data removed]",
            "text/plain": [
              "<Figure size 432x288 with 1 Axes>"
            ]
          },
          "metadata": {
            "needs_background": "light"
          }
        }
      ]
    },
    {
      "cell_type": "code",
      "metadata": {
        "colab": {
          "base_uri": "https://localhost:8080/",
          "height": 268
        },
        "id": "VTDjU82bL4No",
        "outputId": "b82ddeec-7a6f-4546-bc4c-338cb7267f8e"
      },
      "source": [
        "df.boxplot(column = 'war_reg_season');"
      ],
      "execution_count": 111,
      "outputs": [
        {
          "output_type": "display_data",
          "data": {
            "image/png": "[encoded data removed]",
            "text/plain": [
              "<Figure size 432x288 with 1 Axes>"
            ]
          },
          "metadata": {
            "needs_background": "light"
          }
        }
      ]
    },
    {
      "cell_type": "code",
      "metadata": {
        "colab": {
          "base_uri": "https://localhost:8080/",
          "height": 265
        },
        "id": "s8YZ3IRxL52H",
        "outputId": "1c9cab8c-6fde-49df-8478-11526c5b075c"
      },
      "source": [
        "df.boxplot(column = 'war_playoffs');"
      ],
      "execution_count": 112,
      "outputs": [
        {
          "output_type": "display_data",
          "data": {
            "image/png": "[encoded data removed]",
            "text/plain": [
              "<Figure size 432x288 with 1 Axes>"
            ]
          },
          "metadata": {
            "needs_background": "light"
          }
        }
      ]
    },
    {
      "cell_type": "code",
      "metadata": {
        "colab": {
          "base_uri": "https://localhost:8080/",
          "height": 265
        },
        "id": "9Sw4y_qoL5_J",
        "outputId": "634937fc-5e23-466a-a2f7-4f3b2be2d064"
      },
      "source": [
        "df.boxplot(column = 'predator_offense');"
      ],
      "execution_count": 113,
      "outputs": [
        {
          "output_type": "display_data",
          "data": {
            "image/png": "[encoded data removed]",
            "text/plain": [
              "<Figure size 432x288 with 1 Axes>"
            ]
          },
          "metadata": {
            "needs_background": "light"
          }
        }
      ]
    },
    {
      "cell_type": "code",
      "metadata": {
        "colab": {
          "base_uri": "https://localhost:8080/",
          "height": 267
        },
        "id": "awOVvSsvL_4k",
        "outputId": "f1821373-381d-4ffc-b20b-d04f64226764"
      },
      "source": [
        "df.boxplot(column = 'predator_defense');"
      ],
      "execution_count": 114,
      "outputs": [
        {
          "output_type": "display_data",
          "data": {
            "image/png": "[encoded data removed]",
            "text/plain": [
              "<Figure size 432x288 with 1 Axes>"
            ]
          },
          "metadata": {
            "needs_background": "light"
          }
        }
      ]
    },
    {
      "cell_type": "code",
      "metadata": {
        "colab": {
          "base_uri": "https://localhost:8080/",
          "height": 265
        },
        "id": "cYwUSZgfMBLB",
        "outputId": "da405654-05df-4095-9fe5-e0168f6b976d"
      },
      "source": [
        "df.boxplot(column = 'predator_total');"
      ],
      "execution_count": 115,
      "outputs": [
        {
          "output_type": "display_data",
          "data": {
            "image/png": "[encoded data removed]",
            "text/plain": [
              "<Figure size 432x288 with 1 Axes>"
            ]
          },
          "metadata": {
            "needs_background": "light"
          }
        }
      ]
    },
    {
      "cell_type": "code",
      "metadata": {
        "colab": {
          "base_uri": "https://localhost:8080/",
          "height": 265
        },
        "id": "AAi5BwbMMDUE",
        "outputId": "53c4e7f8-f0d5-4ae6-c00c-077e2481f05f"
      },
      "source": [
        "df.boxplot(column = 'pace_impact');"
      ],
      "execution_count": 116,
      "outputs": [
        {
          "output_type": "display_data",
          "data": {
            "image/png": "[encoded data removed]",
            "text/plain": [
              "<Figure size 432x288 with 1 Axes>"
            ]
          },
          "metadata": {
            "needs_background": "light"
          }
        }
      ]
    },
    {
      "cell_type": "code",
      "metadata": {
        "colab": {
          "base_uri": "https://localhost:8080/",
          "height": 264
        },
        "id": "zmmKrUFZMM4_",
        "outputId": "3eb158b1-7232-4926-81d8-904c39faf94b"
      },
      "source": [
        "df['raptor_offense'].hist();"
      ],
      "execution_count": 117,
      "outputs": [
        {
          "output_type": "display_data",
          "data": {
            "image/png": "[encoded data removed]",
            "text/plain": [
              "<Figure size 432x288 with 1 Axes>"
            ]
          },
          "metadata": {
            "needs_background": "light"
          }
        }
      ]
    },
    {
      "cell_type": "code",
      "metadata": {
        "colab": {
          "base_uri": "https://localhost:8080/",
          "height": 264
        },
        "id": "-fRgb9jTMd9e",
        "outputId": "0c60d5e0-dcd9-48c7-a28f-8f3787d8f050"
      },
      "source": [
        "df['raptor_defense'].hist();"
      ],
      "execution_count": 118,
      "outputs": [
        {
          "output_type": "display_data",
          "data": {
            "image/png": "[encoded data removed]",
            "text/plain": [
              "<Figure size 432x288 with 1 Axes>"
            ]
          },
          "metadata": {
            "needs_background": "light"
          }
        }
      ]
    },
    {
      "cell_type": "code",
      "metadata": {
        "colab": {
          "base_uri": "https://localhost:8080/",
          "height": 264
        },
        "id": "rSCNdCzRMhod",
        "outputId": "31398f86-89f5-4012-9032-f58d8bb142d8"
      },
      "source": [
        "df['raptor_total'].hist();"
      ],
      "execution_count": 119,
      "outputs": [
        {
          "output_type": "display_data",
          "data": {
            "image/png": "[encoded data removed]",
            "text/plain": [
              "<Figure size 432x288 with 1 Axes>"
            ]
          },
          "metadata": {
            "needs_background": "light"
          }
        }
      ]
    },
    {
      "cell_type": "code",
      "metadata": {
        "colab": {
          "base_uri": "https://localhost:8080/",
          "height": 264
        },
        "id": "-NAEkKAjMjy7",
        "outputId": "08215e32-ccf1-462a-8c4b-af7e25ca85a4"
      },
      "source": [
        "df['war_total'].hist();"
      ],
      "execution_count": 120,
      "outputs": [
        {
          "output_type": "display_data",
          "data": {
            "image/png": "[encoded data removed]",
            "text/plain": [
              "<Figure size 432x288 with 1 Axes>"
            ]
          },
          "metadata": {
            "needs_background": "light"
          }
        }
      ]
    },
    {
      "cell_type": "code",
      "metadata": {
        "colab": {
          "base_uri": "https://localhost:8080/",
          "height": 264
        },
        "id": "DVrJsB_uMnyv",
        "outputId": "31535f78-e7d4-4dcb-df69-8f9622aa31ce"
      },
      "source": [
        "df['war_reg_season'].hist();"
      ],
      "execution_count": 121,
      "outputs": [
        {
          "output_type": "display_data",
          "data": {
            "image/png": "[encoded data removed]",
            "text/plain": [
              "<Figure size 432x288 with 1 Axes>"
            ]
          },
          "metadata": {
            "needs_background": "light"
          }
        }
      ]
    },
    {
      "cell_type": "code",
      "metadata": {
        "colab": {
          "base_uri": "https://localhost:8080/",
          "height": 265
        },
        "id": "cfB4q0LAMrCN",
        "outputId": "c6ff5939-05c4-42a5-c37f-1dae01601b43"
      },
      "source": [
        "df['war_playoffs'].hist();"
      ],
      "execution_count": 122,
      "outputs": [
        {
          "output_type": "display_data",
          "data": {
            "image/png": "[encoded data removed]",
            "text/plain": [
              "<Figure size 432x288 with 1 Axes>"
            ]
          },
          "metadata": {
            "needs_background": "light"
          }
        }
      ]
    },
    {
      "cell_type": "code",
      "metadata": {
        "colab": {
          "base_uri": "https://localhost:8080/",
          "height": 264
        },
        "id": "SnOhb2T0Mt1Y",
        "outputId": "00c939a9-749a-493e-b9d6-0209915e106c"
      },
      "source": [
        "df['predator_offense'].hist();"
      ],
      "execution_count": 123,
      "outputs": [
        {
          "output_type": "display_data",
          "data": {
            "image/png": "[encoded data removed]",
            "text/plain": [
              "<Figure size 432x288 with 1 Axes>"
            ]
          },
          "metadata": {
            "needs_background": "light"
          }
        }
      ]
    },
    {
      "cell_type": "code",
      "metadata": {
        "colab": {
          "base_uri": "https://localhost:8080/",
          "height": 264
        },
        "id": "r2AdbLhmMvuq",
        "outputId": "f193e3e8-be3f-4a00-895d-acd47af26ac0"
      },
      "source": [
        "df['predator_defense'].hist();"
      ],
      "execution_count": 124,
      "outputs": [
        {
          "output_type": "display_data",
          "data": {
            "image/png": "[encoded data removed]",
            "text/plain": [
              "<Figure size 432x288 with 1 Axes>"
            ]
          },
          "metadata": {
            "needs_background": "light"
          }
        }
      ]
    },
    {
      "cell_type": "code",
      "metadata": {
        "colab": {
          "base_uri": "https://localhost:8080/",
          "height": 264
        },
        "id": "0EAiubZ-Mx36",
        "outputId": "f5355737-7407-47bf-ab38-a5038802787e"
      },
      "source": [
        "df['predator_total'].hist();"
      ],
      "execution_count": 125,
      "outputs": [
        {
          "output_type": "display_data",
          "data": {
            "image/png": "[encoded data removed]",
            "text/plain": [
              "<Figure size 432x288 with 1 Axes>"
            ]
          },
          "metadata": {
            "needs_background": "light"
          }
        }
      ]
    },
    {
      "cell_type": "code",
      "metadata": {
        "id": "pWlLtNqjMzsU",
        "colab": {
          "base_uri": "https://localhost:8080/",
          "height": 264
        },
        "outputId": "85da5adf-6fbf-4089-c976-592a7ca8bff6"
      },
      "source": [
        "df['pace_impact'].hist();"
      ],
      "execution_count": 126,
      "outputs": [
        {
          "output_type": "display_data",
          "data": {
            "image/png": "[encoded data removed]",
            "text/plain": [
              "<Figure size 432x288 with 1 Axes>"
            ]
          },
          "metadata": {
            "needs_background": "light"
          }
        }
      ]
    },
    {
      "cell_type": "code",
      "metadata": {
        "colab": {
          "base_uri": "https://localhost:8080/",
          "height": 346
        },
        "id": "GjWYj809-a4D",
        "outputId": "151622b6-5f1a-459e-8702-1daa55624598"
      },
      "source": [
        "# Explore the relationships between variables with bivariate visuals\n",
        "corr = df.corr()\n",
        "\n",
        "sns.heatmap(corr, annot = True);"
      ],
      "execution_count": 127,
      "outputs": [
        {
          "output_type": "display_data",
          "data": {
            "image/png": "[encoded data removed]",
            "text/plain": [
              "<Figure size 432x288 with 2 Axes>"
            ]
          },
          "metadata": {
            "needs_background": "light"
          }
        }
      ]
    },
    {
      "cell_type": "code",
      "metadata": {
        "colab": {
          "base_uri": "https://localhost:8080/"
        },
        "id": "5YzZI5s7CAez",
        "outputId": "87c4762a-b6e8-438b-ddda-626a6c454f79"
      },
      "source": [
        "raptor_offense_by_year = df.groupby(['season'])['raptor_offense'].mean()\n",
        "\n",
        "raptor_defense_by_year = df.groupby(['season'])['raptor_defense'].mean()\n",
        "\n",
        "print(raptor_offense_by_year)\n",
        "\n",
        "print(raptor_defense_by_year)"
      ],
      "execution_count": 128,
      "outputs": [
        {
          "output_type": "stream",
          "name": "stdout",
          "text": [
            "season\n",
            "2000   -0.234995\n",
            "2001   -0.433837\n",
            "2002   -0.151058\n",
            "2003   -0.366931\n",
            "2004   -0.246055\n",
            "2005   -0.337055\n",
            "2006   -0.620536\n",
            "2007   -0.417932\n",
            "2008   -0.211027\n",
            "2009   -0.420460\n",
            "2010   -0.310092\n",
            "2011   -0.235104\n",
            "2012   -0.090267\n",
            "2013   -0.301718\n",
            "2014   -0.077393\n",
            "2015   -0.129922\n",
            "2016   -0.172491\n",
            "2017   -0.310076\n",
            "2018   -0.087487\n",
            "2019   -0.072558\n",
            "2020    0.027888\n",
            "2021   -0.005428\n",
            "Name: raptor_offense, dtype: float64\n",
            "season\n",
            "2000    0.348196\n",
            "2001    0.092919\n",
            "2002    0.212182\n",
            "2003    0.095303\n",
            "2004    0.276321\n",
            "2005    0.265180\n",
            "2006    0.217433\n",
            "2007    0.210886\n",
            "2008    0.216712\n",
            "2009    0.266999\n",
            "2010    0.317234\n",
            "2011    0.344056\n",
            "2012    0.286010\n",
            "2013    0.195240\n",
            "2014    0.306948\n",
            "2015    0.107116\n",
            "2016    0.258316\n",
            "2017    0.118211\n",
            "2018    0.183115\n",
            "2019    0.308920\n",
            "2020    0.365481\n",
            "2021    0.253729\n",
            "Name: raptor_defense, dtype: float64\n"
          ]
        }
      ]
    },
    {
      "cell_type": "markdown",
      "metadata": {
        "id": "qFgDEUKOj9K4"
      },
      "source": [
        "The goal here is to just to see how the RAPTOR values(the name of 538s NBA metric) have changed on average over the past 20 yrs. Has there been a rise in offensive value measured or defensive value measured? A decrease? That is the question at hand to see league wide trends. "
      ]
    },
    {
      "cell_type": "code",
      "metadata": {
        "colab": {
          "base_uri": "https://localhost:8080/",
          "height": 335
        },
        "id": "X0_fw2MJJYsm",
        "outputId": "c7434d62-25d3-4492-95c4-48657d05a4a9"
      },
      "source": [
        "plt.figure(figsize = (12, 5))\n",
        "\n",
        "plt.plot(raptor_offense_by_year.index, raptor_offense_by_year,\n",
        "         color = 'blue',\n",
        "         marker = '.',\n",
        "         label = 'RAPTOR offense by yr')\n",
        "\n",
        "plt.plot(raptor_defense_by_year.index, raptor_defense_by_year,\n",
        "         color = 'orange',\n",
        "         marker = '.',\n",
        "         label = 'RAPTOR defense by yr ')\n",
        "\n",
        "plt.legend()\n",
        "plt.title('CHANGE in RAPTOR values over 20 yrs')\n",
        "plt.ylabel('RAPTOR score');"
      ],
      "execution_count": 129,
      "outputs": [
        {
          "output_type": "display_data",
          "data": {
            "image/png": "[encoded data removed]",
            "text/plain": [
              "<Figure size 864x360 with 1 Axes>"
            ]
          },
          "metadata": {
            "needs_background": "light"
          }
        }
      ]
    },
    {
      "cell_type": "markdown",
      "metadata": {
        "id": "sXCgK4jxkJXH"
      },
      "source": [
        "We see over the past 20 yrs the model measures the average offensive value a player contributes to their team as rising by about 0.5 WAR from 2000 to 2020. The defensive value a player contributes on average has stayed the same. This isnt surprising scoring across the league has increased the past 20 years. Howevr, it's worth keeping this in mind when comparing figures across different ears. "
      ]
    },
    {
      "cell_type": "code",
      "metadata": {
        "colab": {
          "base_uri": "https://localhost:8080/"
        },
        "id": "-CBUL5ExKEVc",
        "outputId": "31d51e88-a516-4cc0-a60f-fe624901dc65"
      },
      "source": [
        "df['raptor_total'].describe"
      ],
      "execution_count": 130,
      "outputs": [
        {
          "output_type": "execute_result",
          "data": {
            "text/plain": [
              "<bound method NDFrame.describe of 32      -1.169932\n",
              "44       0.499564\n",
              "52      -0.601411\n",
              "53      -1.523468\n",
              "55      -3.392775\n",
              "           ...   \n",
              "18533   -1.149639\n",
              "18542   -3.417939\n",
              "18550   -0.548676\n",
              "18551    4.649308\n",
              "18552    1.616696\n",
              "Name: raptor_total, Length: 4094, dtype: float64>"
            ]
          },
          "metadata": {},
          "execution_count": 130
        }
      ]
    },
    {
      "cell_type": "markdown",
      "metadata": {
        "id": "mv4D0Wk7_HtI"
      },
      "source": [
        "Doing an analysis specifically of how well regular season WAR can predict playoff WAR. To do this we have to drop all the columns with 0 WAR. If a player has 0 WAR it means their team didnt make the playoffs that year. You can only do this with players who actually were able to play in the playoffs that season. "
      ]
    },
    {
      "cell_type": "code",
      "metadata": {
        "id": "o9YFpxzG-6-k"
      },
      "source": [
        "df.drop(df[df.war_playoffs == 0.000000].index, inplace=True)"
      ],
      "execution_count": 131,
      "outputs": []
    },
    {
      "cell_type": "code",
      "metadata": {
        "colab": {
          "base_uri": "https://localhost:8080/",
          "height": 621
        },
        "id": "72l0VL19KyZH",
        "outputId": "0efd3cb6-5b1b-40ab-cfe7-78e0fa02481e"
      },
      "source": [
        "reg_war = df['war_reg_season']\n",
        "\n",
        "min= ['mp']\n",
        "\n",
        "playoff_war = df['war_playoffs']\n",
        "\n",
        "fig = plt.gcf()\n",
        "\n",
        "fig.set_size_inches(17, 10)\n",
        "\n",
        "sns.scatterplot(x = reg_war, y = playoff_war, data = df)\n",
        "\n",
        "plt.xlabel('reg season WAR ')\n",
        "plt.ylabel('playoff WAR')\n",
        "plt.title('How does reg season WAR correlate with playoff WAR');"
      ],
      "execution_count": 132,
      "outputs": [
        {
          "output_type": "display_data",
          "data": {
            "image/png": "[encoded data removed]",
            "text/plain": [
              "<Figure size 1224x720 with 1 Axes>"
            ]
          },
          "metadata": {
            "needs_background": "light"
          }
        }
      ]
    },
    {
      "cell_type": "code",
      "metadata": {
        "colab": {
          "base_uri": "https://localhost:8080/"
        },
        "id": "1WASvrgoMFn0",
        "outputId": "57bacf3e-b9b6-4783-d6f3-dde31e74fcd7"
      },
      "source": [
        "correlation = df['war_reg_season'].corr(df['war_playoffs'])\n",
        "\n",
        "correlation"
      ],
      "execution_count": 133,
      "outputs": [
        {
          "output_type": "execute_result",
          "data": {
            "text/plain": [
              "0.6404922349222073"
            ]
          },
          "metadata": {},
          "execution_count": 133
        }
      ]
    },
    {
      "cell_type": "markdown",
      "metadata": {
        "id": "8hROsvjLO-2F"
      },
      "source": [
        "The goal of the following models is to delve further into the question of how well can regular season performance predict playoff performance. And the way this database measures performance in the playoffs is war_playoffs. One thing you will note earlier is I dropped the following columns: \n",
        "\n",
        "df.drop(df[df.mp < 250].index, inplace=True)\n",
        "df.drop(df[df.season < 2000].index, inplace=True)\n",
        "df.drop(df[df.war_playoffs == 0.0000000].index, inplace=True)\n",
        "\n",
        "Note the last part of this I dropped all teh columns where playoff War = 0.000000. This is my way of dropping all columns for players who didnt make the playoffs in that particular season. So this database will only be looking at players who made the playoffs for a particular season and seeing how well the model predicted their war_playoffs compared to what their actual war_playoffs was for that season. \n",
        "\n",
        "We will try several different models like KNN and Random Forest. I had initially tried just making my X vector war_reg_season, however obviously just using 1 variable is not going to make a good model and the r squared of the testing data in several of the models I did using that was around 0.13. So what I decided instead was to use a number of different numerical values for X. Minutes played, 538s RAPTOR model, 538's WAR model(WAR stands for wins above replacement ie their estimate of how many wins a player contributed to his team in that season) and looked at both offense, defense and the total overall value of each player(which is a weighted average of offense and defense). "
      ]
    },
    {
      "cell_type": "code",
      "metadata": {
        "id": "QoF12OTV_btw"
      },
      "source": [
        "# Identify target vector and features matrix\n",
        "X = df.loc[:, ['mp', 'poss', 'raptor_offense', 'raptor_defense', 'raptor_total', 'war_total', 'war_reg_season']]\n",
        "\n",
        "\n",
        "y = df['war_playoffs']"
      ],
      "execution_count": 134,
      "outputs": []
    },
    {
      "cell_type": "code",
      "metadata": {
        "id": "h9_HA6oI_nPQ"
      },
      "source": [
        "# Train test split\n",
        "X_train, X_test, y_train, y_test = train_test_split(X, y, random_state = 42)"
      ],
      "execution_count": 135,
      "outputs": []
    },
    {
      "cell_type": "code",
      "metadata": {
        "id": "caAGCAYq_oys"
      },
      "source": [
        "# Pre-Process for Machine Learning with a pipeline\n",
        "# Dummy encode the categorical feature(s) using OneHotEncoder (this will be part of our pipeline)\n",
        "# Scale the quantitative feature(s) using StandardScaler so it (this will be part of our pipeline)\n",
        "\n",
        "# There is only one categorical feature (column) here, but it can be very helpful to define a variable for each type of feature...be careful defining features based only on dtype. If needed change the dtype to match your data.\n",
        "cat_feat= make_column_selector(dtype_include = 'float64')\n",
        "# This will identify all of the quantitative features (columns)\n",
        "quant_feat = make_column_selector(dtype_include = 'float64')\n",
        "\n",
        "# Instantiate the column transformers you want to use\n",
        "encoder = OneHotEncoder(handle_unknown = 'ignore')\n",
        "scaler = StandardScaler()\n",
        "\n",
        "# Now make the column transformer...this matches the transformations that we want with the appropriate columns.\n",
        "column_transformer = make_column_transformer((encoder, cat_feat), (scaler, quant_feat))\n"
      ],
      "execution_count": 136,
      "outputs": []
    },
    {
      "cell_type": "code",
      "metadata": {
        "colab": {
          "base_uri": "https://localhost:8080/"
        },
        "id": "sLZMHYgz_tz-",
        "outputId": "37f45928-8efe-4759-cd3d-310bc18ae78a"
      },
      "source": [
        "# Establish a simple baseline \"model\". What if all predictions were just the mean of the target? \n",
        "y_train.mean()"
      ],
      "execution_count": 137,
      "outputs": [
        {
          "output_type": "execute_result",
          "data": {
            "text/plain": [
              "0.4769192696125086"
            ]
          },
          "metadata": {},
          "execution_count": 137
        }
      ]
    },
    {
      "cell_type": "code",
      "metadata": {
        "colab": {
          "base_uri": "https://localhost:8080/"
        },
        "id": "ZEf7iODn_xfU",
        "outputId": "4da49c1b-28eb-456e-9983-7b3a02903c3b"
      },
      "source": [
        "# To evaluate the baseline model, we will use RMSE\n",
        "print('Baseline Training RMSE:', np.sqrt(mean_squared_error(y_train, [y_train.mean()]*len(y_train))))\n",
        "print('Baseline Testing RMSE:', np.sqrt(mean_squared_error(y_test, [y_train.mean()]*len(y_test))))"
      ],
      "execution_count": 138,
      "outputs": [
        {
          "output_type": "stream",
          "name": "stdout",
          "text": [
            "Baseline Training RMSE: 0.9007575017348687\n",
            "Baseline Testing RMSE: 0.8791873562658268\n"
          ]
        }
      ]
    },
    {
      "cell_type": "code",
      "metadata": {
        "id": "gTbn25KVylf1"
      },
      "source": [
        "# array.reshape(-1, 1)"
      ],
      "execution_count": 139,
      "outputs": []
    },
    {
      "cell_type": "code",
      "metadata": {
        "colab": {
          "base_uri": "https://localhost:8080/"
        },
        "id": "OVru-2Wo_ztS",
        "outputId": "aaa9fdf5-38a8-4587-8cd6-7f97b3f9edc7"
      },
      "source": [
        "# Try a default random forest model in the pipeline \n",
        "# Instantiate the model, notice that you can change the hyperparameters in this step. This just shows setting a random_state. \n",
        "# We will use defaults here since our hyperturning will be done with GridSearchCV\n",
        "rf = RandomForestRegressor(random_state = 42)\n",
        "\n",
        "# # Make the pipeline and include the column_transformer\n",
        "rf_pipe = make_pipeline(column_transformer, rf)\n",
        "# Fit only on training data!\n",
        "rf_pipe.fit(X_train, y_train)\n",
        "\n",
        "# # Obtain evaluation metrics on both train and test sets\n",
        "print('RF Training RMSE:', np.sqrt(mean_squared_error(y_train, rf_pipe.predict(X_train))))\n",
        "print('RF Testing RMSE:', np.sqrt(mean_squared_error(y_test, rf_pipe.predict(X_test))))\n",
        "print('------')\n",
        "print('RF Training R2:', r2_score(y_train, rf_pipe.predict(X_train)))\n",
        "print('RF Testing R2:', r2_score(y_test, rf_pipe.predict(X_test)))"
      ],
      "execution_count": 140,
      "outputs": [
        {
          "output_type": "stream",
          "name": "stdout",
          "text": [
            "RF Training RMSE: 0.07826732650553402\n",
            "RF Testing RMSE: 0.2017195112835597\n",
            "------\n",
            "RF Training R2: 0.9924500300512565\n",
            "RF Testing R2: 0.9473516518323757\n"
          ]
        }
      ]
    },
    {
      "cell_type": "code",
      "metadata": {
        "colab": {
          "base_uri": "https://localhost:8080/"
        },
        "id": "aBc0s9SuO4ox",
        "outputId": "6a6df65e-3575-4814-95f2-23db339dd023"
      },
      "source": [
        "# Try a default KNN model in the pipeline \n",
        "# Instantiate the model\n",
        "knn = KNeighborsRegressor()\n",
        "\n",
        "# Make the pipeline...notice we included the column_transformer here\n",
        "knn_pipe = make_pipeline(column_transformer, knn)\n",
        "\n",
        "# Fit on training data only\n",
        "knn_pipe.fit(X_train, y_train)\n",
        "\n",
        "# Obtain evaluation metrics on both the train and test sets. \n",
        "# Be sure to use metrics appropriate for they type of problem (regression metrics for regression or classification metrics for classification)\n",
        "\n",
        "print('KNN Training RMSE:', np.sqrt(mean_squared_error(y_train, knn_pipe.predict(X_train))))\n",
        "print('KNN Testing RMSE:', np.sqrt(mean_squared_error(y_test, knn_pipe.predict(X_test))))\n",
        "print('------')\n",
        "print('KNN Training R2:', r2_score(y_train, knn_pipe.predict(X_train)))\n",
        "print('KNN Testing R2:', r2_score(y_test, knn_pipe.predict(X_test)))"
      ],
      "execution_count": 141,
      "outputs": [
        {
          "output_type": "stream",
          "name": "stdout",
          "text": [
            "KNN Training RMSE: 0.36125633903831056\n",
            "KNN Testing RMSE: 0.43343144969297986\n",
            "------\n",
            "KNN Training R2: 0.8391521806229068\n",
            "KNN Testing R2: 0.7569308870398467\n"
          ]
        }
      ]
    },
    {
      "cell_type": "code",
      "metadata": {
        "colab": {
          "base_uri": "https://localhost:8080/"
        },
        "id": "-CC8pdSHQer6",
        "outputId": "b0fa1a01-f778-4dc8-869e-f315d20622f3"
      },
      "source": [
        "# Hypertuning KNN\n",
        "\n",
        "knn_pipe.get_params()"
      ],
      "execution_count": 142,
      "outputs": [
        {
          "output_type": "execute_result",
          "data": {
            "text/plain": [
              "{'columntransformer': ColumnTransformer(n_jobs=None, remainder='drop', sparse_threshold=0.3,\n",
              "                   transformer_weights=None,\n",
              "                   transformers=[('onehotencoder',\n",
              "                                  OneHotEncoder(categories='auto', drop=None,\n",
              "                                                dtype=<class 'numpy.float64'>,\n",
              "                                                handle_unknown='ignore',\n",
              "                                                sparse=True),\n",
              "                                  <sklearn.compose._column_transformer.make_column_selector object at 0x7f408c08a6d0>),\n",
              "                                 ('standardscaler',\n",
              "                                  StandardScaler(copy=True, with_mean=True,\n",
              "                                                 with_std=True),\n",
              "                                  <sklearn.compose._column_transformer.make_column_selector object at 0x7f408c08af90>)],\n",
              "                   verbose=False),\n",
              " 'columntransformer__n_jobs': None,\n",
              " 'columntransformer__onehotencoder': OneHotEncoder(categories='auto', drop=None, dtype=<class 'numpy.float64'>,\n",
              "               handle_unknown='ignore', sparse=True),\n",
              " 'columntransformer__onehotencoder__categories': 'auto',\n",
              " 'columntransformer__onehotencoder__drop': None,\n",
              " 'columntransformer__onehotencoder__dtype': numpy.float64,\n",
              " 'columntransformer__onehotencoder__handle_unknown': 'ignore',\n",
              " 'columntransformer__onehotencoder__sparse': True,\n",
              " 'columntransformer__remainder': 'drop',\n",
              " 'columntransformer__sparse_threshold': 0.3,\n",
              " 'columntransformer__standardscaler': StandardScaler(copy=True, with_mean=True, with_std=True),\n",
              " 'columntransformer__standardscaler__copy': True,\n",
              " 'columntransformer__standardscaler__with_mean': True,\n",
              " 'columntransformer__standardscaler__with_std': True,\n",
              " 'columntransformer__transformer_weights': None,\n",
              " 'columntransformer__transformers': [('onehotencoder',\n",
              "   OneHotEncoder(categories='auto', drop=None, dtype=<class 'numpy.float64'>,\n",
              "                 handle_unknown='ignore', sparse=True),\n",
              "   <sklearn.compose._column_transformer.make_column_selector at 0x7f408c08a6d0>),\n",
              "  ('standardscaler',\n",
              "   StandardScaler(copy=True, with_mean=True, with_std=True),\n",
              "   <sklearn.compose._column_transformer.make_column_selector at 0x7f408c08af90>)],\n",
              " 'columntransformer__verbose': False,\n",
              " 'kneighborsregressor': KNeighborsRegressor(algorithm='auto', leaf_size=30, metric='minkowski',\n",
              "                     metric_params=None, n_jobs=None, n_neighbors=5, p=2,\n",
              "                     weights='uniform'),\n",
              " 'kneighborsregressor__algorithm': 'auto',\n",
              " 'kneighborsregressor__leaf_size': 30,\n",
              " 'kneighborsregressor__metric': 'minkowski',\n",
              " 'kneighborsregressor__metric_params': None,\n",
              " 'kneighborsregressor__n_jobs': None,\n",
              " 'kneighborsregressor__n_neighbors': 5,\n",
              " 'kneighborsregressor__p': 2,\n",
              " 'kneighborsregressor__weights': 'uniform',\n",
              " 'memory': None,\n",
              " 'steps': [('columntransformer',\n",
              "   ColumnTransformer(n_jobs=None, remainder='drop', sparse_threshold=0.3,\n",
              "                     transformer_weights=None,\n",
              "                     transformers=[('onehotencoder',\n",
              "                                    OneHotEncoder(categories='auto', drop=None,\n",
              "                                                  dtype=<class 'numpy.float64'>,\n",
              "                                                  handle_unknown='ignore',\n",
              "                                                  sparse=True),\n",
              "                                    <sklearn.compose._column_transformer.make_column_selector object at 0x7f408c08a6d0>),\n",
              "                                   ('standardscaler',\n",
              "                                    StandardScaler(copy=True, with_mean=True,\n",
              "                                                   with_std=True),\n",
              "                                    <sklearn.compose._column_transformer.make_column_selector object at 0x7f408c08af90>)],\n",
              "                     verbose=False)),\n",
              "  ('kneighborsregressor',\n",
              "   KNeighborsRegressor(algorithm='auto', leaf_size=30, metric='minkowski',\n",
              "                       metric_params=None, n_jobs=None, n_neighbors=5, p=2,\n",
              "                       weights='uniform'))],\n",
              " 'verbose': False}"
            ]
          },
          "metadata": {},
          "execution_count": 142
        }
      ]
    },
    {
      "cell_type": "code",
      "metadata": {
        "id": "LGSoz0j0Qi-Y"
      },
      "source": [
        "# Define the hyperparameters you want to test.\n",
        "knn_params = {'kneighborsregressor__n_neighbors' : [5, 7, 9],\n",
        "              'kneighborsregressor__leaf_size' : [15, 20, 25]}\n",
        "              "
      ],
      "execution_count": 143,
      "outputs": []
    },
    {
      "cell_type": "code",
      "metadata": {
        "colab": {
          "base_uri": "https://localhost:8080/"
        },
        "id": "ifiNys6dQsG8",
        "outputId": "da8fe1c7-30db-48c7-e282-b7c91efef4d3"
      },
      "source": [
        "# Instantiate the Gridsearch with the KNN pipeline and the knn_params \n",
        "knn_gs1 = GridSearchCV(knn_pipe, knn_params)\n",
        "\n",
        "knn_gs1.fit(X_train, y_train)"
      ],
      "execution_count": 144,
      "outputs": [
        {
          "output_type": "execute_result",
          "data": {
            "text/plain": [
              "GridSearchCV(cv=None, error_score=nan,\n",
              "             estimator=Pipeline(memory=None,\n",
              "                                steps=[('columntransformer',\n",
              "                                        ColumnTransformer(n_jobs=None,\n",
              "                                                          remainder='drop',\n",
              "                                                          sparse_threshold=0.3,\n",
              "                                                          transformer_weights=None,\n",
              "                                                          transformers=[('onehotencoder',\n",
              "                                                                         OneHotEncoder(categories='auto',\n",
              "                                                                                       drop=None,\n",
              "                                                                                       dtype=<class 'numpy.float64'>,\n",
              "                                                                                       handle_unknown='ignore',\n",
              "                                                                                       sparse=True),\n",
              "                                                                         <sklearn.compose._colu...\n",
              "                                        KNeighborsRegressor(algorithm='auto',\n",
              "                                                            leaf_size=30,\n",
              "                                                            metric='minkowski',\n",
              "                                                            metric_params=None,\n",
              "                                                            n_jobs=None,\n",
              "                                                            n_neighbors=5, p=2,\n",
              "                                                            weights='uniform'))],\n",
              "                                verbose=False),\n",
              "             iid='deprecated', n_jobs=None,\n",
              "             param_grid={'kneighborsregressor__leaf_size': [15, 20, 25],\n",
              "                         'kneighborsregressor__n_neighbors': [5, 7, 9]},\n",
              "             pre_dispatch='2*n_jobs', refit=True, return_train_score=False,\n",
              "             scoring=None, verbose=0)"
            ]
          },
          "metadata": {},
          "execution_count": 144
        }
      ]
    },
    {
      "cell_type": "code",
      "metadata": {
        "colab": {
          "base_uri": "https://localhost:8080/"
        },
        "id": "Eqcu3QGqQziZ",
        "outputId": "7ca1a0c4-4421-498c-cac3-a2656e958902"
      },
      "source": [
        "\n",
        "knn_gs1.best_params_"
      ],
      "execution_count": 145,
      "outputs": [
        {
          "output_type": "execute_result",
          "data": {
            "text/plain": [
              "{'kneighborsregressor__leaf_size': 15, 'kneighborsregressor__n_neighbors': 5}"
            ]
          },
          "metadata": {},
          "execution_count": 145
        }
      ]
    },
    {
      "cell_type": "code",
      "metadata": {
        "colab": {
          "base_uri": "https://localhost:8080/"
        },
        "id": "nT7CPo1yQ5rV",
        "outputId": "c36f92c7-f5a5-4cb5-b3cb-e2a179b253f5"
      },
      "source": [
        "print('KNN_GS Training RMSE:', np.sqrt(mean_squared_error(y_train, knn_gs1.predict(X_train))))\n",
        "print('KNN_GS Testing RMSE:', np.sqrt(mean_squared_error(y_test, knn_gs1.predict(X_test))))\n",
        "print('------')\n",
        "print('KNN_GS Training R2:', r2_score(y_train, knn_gs1.predict(X_train)))\n",
        "print('KNN_GS Testing R2:', r2_score(y_test, knn_gs1.predict(X_test)))"
      ],
      "execution_count": 146,
      "outputs": [
        {
          "output_type": "stream",
          "name": "stdout",
          "text": [
            "KNN_GS Training RMSE: 0.36125633903831056\n",
            "KNN_GS Testing RMSE: 0.43343144969297986\n",
            "------\n",
            "KNN_GS Training R2: 0.8391521806229068\n",
            "KNN_GS Testing R2: 0.7569308870398467\n"
          ]
        }
      ]
    },
    {
      "cell_type": "markdown",
      "metadata": {
        "id": "9fJjysVeSORA"
      },
      "source": [
        "Conclusion: The random forest model appears to have a higher r squared value and a lower RMSE so between the two it may perhaps be the better of the models. However, I also need to continue to analyze and look closer at hte data to see logically which of the models we have used so far in our course will make the most sense practically in terms of the data Im using over the last two weeks of the project so by no means is this the only model I would definitively choose to put \"in production\" per se."
      ]
    },
    {
      "cell_type": "code",
      "metadata": {
        "id": "Quvj9nrXBWfT"
      },
      "source": [
        "df1 = df1[df1['P/36'].notna()]\n",
        "df1 = df1[df1['A/36'].notna()]\n",
        "df1 = df1[df1['R/36'].notna()]\n",
        "df1 = df1[df1['SB/36'].notna()]\n",
        "df1 = df1[df1['TO/36'].notna()]\n",
        "df1 = df1[df1['%Pos'].notna()]\n",
        "df1 = df1[df1['2P%'].notna()]\n",
        "df1 = df1[df1['3P%'].notna()]\n",
        "\n"
      ],
      "execution_count": 147,
      "outputs": []
    },
    {
      "cell_type": "code",
      "metadata": {
        "colab": {
          "base_uri": "https://localhost:8080/",
          "height": 501
        },
        "id": "c_qSc67NnX95",
        "outputId": "ee137c06-4929-4af0-e5ff-1e3f8dfe08df"
      },
      "source": [
        "df1"
      ],
      "execution_count": 148,
      "outputs": [
        {
          "output_type": "execute_result",
          "data": {
            "text/html": [
              "<div>\n",
              "<style scoped>\n",
              "    .dataframe tbody tr th:only-of-type {\n",
              "        vertical-align: middle;\n",
              "    }\n",
              "\n",
              "    .dataframe tbody tr th {\n",
              "        vertical-align: top;\n",
              "    }\n",
              "\n",
              "    .dataframe thead th {\n",
              "        text-align: right;\n",
              "    }\n",
              "</style>\n",
              "<table border=\"1\" class=\"dataframe\">\n",
              "  <thead>\n",
              "    <tr style=\"text-align: right;\">\n",
              "      <th></th>\n",
              "      <th>player_id</th>\n",
              "      <th>name_common</th>\n",
              "      <th>year_id</th>\n",
              "      <th>type</th>\n",
              "      <th>age</th>\n",
              "      <th>team_id</th>\n",
              "      <th>pos</th>\n",
              "      <th>tmRtg</th>\n",
              "      <th>franch_id</th>\n",
              "      <th>G</th>\n",
              "      <th>Min</th>\n",
              "      <th>MP%</th>\n",
              "      <th>MPG</th>\n",
              "      <th>P/36</th>\n",
              "      <th>TS%</th>\n",
              "      <th>A/36</th>\n",
              "      <th>R/36</th>\n",
              "      <th>SB/36</th>\n",
              "      <th>TO/36</th>\n",
              "      <th>Raptor O</th>\n",
              "      <th>Raptor D</th>\n",
              "      <th>Raptor+/-</th>\n",
              "      <th>Raptor WAR</th>\n",
              "      <th>PIE%</th>\n",
              "      <th>AWS%</th>\n",
              "      <th>USG%</th>\n",
              "      <th>AST%</th>\n",
              "      <th>TOV%</th>\n",
              "      <th>ORB%</th>\n",
              "      <th>DRB%</th>\n",
              "      <th>TRB%</th>\n",
              "      <th>STL%</th>\n",
              "      <th>BLK%</th>\n",
              "      <th>ORtg</th>\n",
              "      <th>%Pos</th>\n",
              "      <th>DRtg</th>\n",
              "      <th>2P%</th>\n",
              "      <th>3P%</th>\n",
              "      <th>FT%</th>\n",
              "      <th>3PAr</th>\n",
              "      <th>FTAr</th>\n",
              "      <th>Pace +/-</th>\n",
              "    </tr>\n",
              "  </thead>\n",
              "  <tbody>\n",
              "    <tr>\n",
              "      <th>808</th>\n",
              "      <td>youngtr01</td>\n",
              "      <td>Trae Young</td>\n",
              "      <td>2019</td>\n",
              "      <td>RS</td>\n",
              "      <td>20</td>\n",
              "      <td>ATL</td>\n",
              "      <td>1</td>\n",
              "      <td>-5.7</td>\n",
              "      <td>ATL</td>\n",
              "      <td>81</td>\n",
              "      <td>2503</td>\n",
              "      <td>63.0</td>\n",
              "      <td>30.9</td>\n",
              "      <td>21.4</td>\n",
              "      <td>53.9</td>\n",
              "      <td>9.0</td>\n",
              "      <td>4.2</td>\n",
              "      <td>1.2</td>\n",
              "      <td>4.3</td>\n",
              "      <td>2.4</td>\n",
              "      <td>-4.5</td>\n",
              "      <td>-2.1</td>\n",
              "      <td>0.82</td>\n",
              "      <td>12.5</td>\n",
              "      <td>10.2</td>\n",
              "      <td>28.4</td>\n",
              "      <td>40.5</td>\n",
              "      <td>17.6</td>\n",
              "      <td>2.6</td>\n",
              "      <td>10.2</td>\n",
              "      <td>6.3</td>\n",
              "      <td>1.3</td>\n",
              "      <td>0.5</td>\n",
              "      <td>107.4</td>\n",
              "      <td>29.8</td>\n",
              "      <td>116.8</td>\n",
              "      <td>47.7</td>\n",
              "      <td>32.4</td>\n",
              "      <td>82.9</td>\n",
              "      <td>38.4</td>\n",
              "      <td>33.0</td>\n",
              "      <td>1.8</td>\n",
              "    </tr>\n",
              "    <tr>\n",
              "      <th>809</th>\n",
              "      <td>huertke01</td>\n",
              "      <td>Kevin Huerter</td>\n",
              "      <td>2019</td>\n",
              "      <td>RS</td>\n",
              "      <td>20</td>\n",
              "      <td>ATL</td>\n",
              "      <td>2</td>\n",
              "      <td>-5.7</td>\n",
              "      <td>ATL</td>\n",
              "      <td>75</td>\n",
              "      <td>2048</td>\n",
              "      <td>51.6</td>\n",
              "      <td>27.3</td>\n",
              "      <td>12.3</td>\n",
              "      <td>53.3</td>\n",
              "      <td>3.6</td>\n",
              "      <td>4.1</td>\n",
              "      <td>1.5</td>\n",
              "      <td>1.8</td>\n",
              "      <td>0.4</td>\n",
              "      <td>-2.2</td>\n",
              "      <td>-1.8</td>\n",
              "      <td>1.04</td>\n",
              "      <td>6.7</td>\n",
              "      <td>6.9</td>\n",
              "      <td>15.7</td>\n",
              "      <td>14.5</td>\n",
              "      <td>13.8</td>\n",
              "      <td>3.0</td>\n",
              "      <td>9.7</td>\n",
              "      <td>6.3</td>\n",
              "      <td>1.5</td>\n",
              "      <td>1.1</td>\n",
              "      <td>105.5</td>\n",
              "      <td>15.7</td>\n",
              "      <td>116.2</td>\n",
              "      <td>45.7</td>\n",
              "      <td>38.5</td>\n",
              "      <td>73.2</td>\n",
              "      <td>53.7</td>\n",
              "      <td>8.5</td>\n",
              "      <td>0.6</td>\n",
              "    </tr>\n",
              "    <tr>\n",
              "      <th>810</th>\n",
              "      <td>bembrde01</td>\n",
              "      <td>DeAndre' Bembry</td>\n",
              "      <td>2019</td>\n",
              "      <td>RS</td>\n",
              "      <td>24</td>\n",
              "      <td>ATL</td>\n",
              "      <td>2</td>\n",
              "      <td>-5.7</td>\n",
              "      <td>ATL</td>\n",
              "      <td>82</td>\n",
              "      <td>1931</td>\n",
              "      <td>48.6</td>\n",
              "      <td>23.5</td>\n",
              "      <td>12.3</td>\n",
              "      <td>50.8</td>\n",
              "      <td>3.6</td>\n",
              "      <td>6.4</td>\n",
              "      <td>2.6</td>\n",
              "      <td>2.5</td>\n",
              "      <td>-3.2</td>\n",
              "      <td>1.1</td>\n",
              "      <td>-2.1</td>\n",
              "      <td>0.66</td>\n",
              "      <td>7.8</td>\n",
              "      <td>6.6</td>\n",
              "      <td>17.2</td>\n",
              "      <td>14.7</td>\n",
              "      <td>17.4</td>\n",
              "      <td>2.9</td>\n",
              "      <td>16.9</td>\n",
              "      <td>9.7</td>\n",
              "      <td>2.5</td>\n",
              "      <td>1.8</td>\n",
              "      <td>97.2</td>\n",
              "      <td>17.4</td>\n",
              "      <td>111.5</td>\n",
              "      <td>50.8</td>\n",
              "      <td>28.9</td>\n",
              "      <td>64.0</td>\n",
              "      <td>28.1</td>\n",
              "      <td>22.1</td>\n",
              "      <td>0.6</td>\n",
              "    </tr>\n",
              "    <tr>\n",
              "      <th>811</th>\n",
              "      <td>collijo01</td>\n",
              "      <td>John Collins</td>\n",
              "      <td>2019</td>\n",
              "      <td>RS</td>\n",
              "      <td>21</td>\n",
              "      <td>ATL</td>\n",
              "      <td>4</td>\n",
              "      <td>-5.7</td>\n",
              "      <td>ATL</td>\n",
              "      <td>61</td>\n",
              "      <td>1829</td>\n",
              "      <td>46.1</td>\n",
              "      <td>30.0</td>\n",
              "      <td>22.5</td>\n",
              "      <td>62.7</td>\n",
              "      <td>2.3</td>\n",
              "      <td>11.3</td>\n",
              "      <td>1.2</td>\n",
              "      <td>2.3</td>\n",
              "      <td>3.2</td>\n",
              "      <td>-0.5</td>\n",
              "      <td>2.7</td>\n",
              "      <td>5.13</td>\n",
              "      <td>14.3</td>\n",
              "      <td>14.9</td>\n",
              "      <td>23.7</td>\n",
              "      <td>11.0</td>\n",
              "      <td>11.2</td>\n",
              "      <td>12.3</td>\n",
              "      <td>22.1</td>\n",
              "      <td>17.1</td>\n",
              "      <td>0.6</td>\n",
              "      <td>1.8</td>\n",
              "      <td>121.7</td>\n",
              "      <td>23.3</td>\n",
              "      <td>114.6</td>\n",
              "      <td>60.9</td>\n",
              "      <td>34.8</td>\n",
              "      <td>76.3</td>\n",
              "      <td>19.0</td>\n",
              "      <td>32.0</td>\n",
              "      <td>0.2</td>\n",
              "    </tr>\n",
              "    <tr>\n",
              "      <th>812</th>\n",
              "      <td>bazemke01</td>\n",
              "      <td>Kent Bazemore</td>\n",
              "      <td>2019</td>\n",
              "      <td>RS</td>\n",
              "      <td>29</td>\n",
              "      <td>ATL</td>\n",
              "      <td>2</td>\n",
              "      <td>-5.7</td>\n",
              "      <td>ATL</td>\n",
              "      <td>67</td>\n",
              "      <td>1643</td>\n",
              "      <td>41.4</td>\n",
              "      <td>24.5</td>\n",
              "      <td>16.4</td>\n",
              "      <td>50.7</td>\n",
              "      <td>3.2</td>\n",
              "      <td>5.5</td>\n",
              "      <td>2.8</td>\n",
              "      <td>2.6</td>\n",
              "      <td>-2.9</td>\n",
              "      <td>0.6</td>\n",
              "      <td>-2.3</td>\n",
              "      <td>0.39</td>\n",
              "      <td>7.8</td>\n",
              "      <td>6.9</td>\n",
              "      <td>22.0</td>\n",
              "      <td>13.5</td>\n",
              "      <td>13.6</td>\n",
              "      <td>2.3</td>\n",
              "      <td>14.6</td>\n",
              "      <td>8.3</td>\n",
              "      <td>2.5</td>\n",
              "      <td>2.2</td>\n",
              "      <td>98.1</td>\n",
              "      <td>21.3</td>\n",
              "      <td>111.8</td>\n",
              "      <td>46.5</td>\n",
              "      <td>32.0</td>\n",
              "      <td>72.6</td>\n",
              "      <td>43.4</td>\n",
              "      <td>25.3</td>\n",
              "      <td>1.6</td>\n",
              "    </tr>\n",
              "    <tr>\n",
              "      <th>...</th>\n",
              "      <td>...</td>\n",
              "      <td>...</td>\n",
              "      <td>...</td>\n",
              "      <td>...</td>\n",
              "      <td>...</td>\n",
              "      <td>...</td>\n",
              "      <td>...</td>\n",
              "      <td>...</td>\n",
              "      <td>...</td>\n",
              "      <td>...</td>\n",
              "      <td>...</td>\n",
              "      <td>...</td>\n",
              "      <td>...</td>\n",
              "      <td>...</td>\n",
              "      <td>...</td>\n",
              "      <td>...</td>\n",
              "      <td>...</td>\n",
              "      <td>...</td>\n",
              "      <td>...</td>\n",
              "      <td>...</td>\n",
              "      <td>...</td>\n",
              "      <td>...</td>\n",
              "      <td>...</td>\n",
              "      <td>...</td>\n",
              "      <td>...</td>\n",
              "      <td>...</td>\n",
              "      <td>...</td>\n",
              "      <td>...</td>\n",
              "      <td>...</td>\n",
              "      <td>...</td>\n",
              "      <td>...</td>\n",
              "      <td>...</td>\n",
              "      <td>...</td>\n",
              "      <td>...</td>\n",
              "      <td>...</td>\n",
              "      <td>...</td>\n",
              "      <td>...</td>\n",
              "      <td>...</td>\n",
              "      <td>...</td>\n",
              "      <td>...</td>\n",
              "      <td>...</td>\n",
              "      <td>...</td>\n",
              "    </tr>\n",
              "    <tr>\n",
              "      <th>15257</th>\n",
              "      <td>hamilri01</td>\n",
              "      <td>Richard Hamilton</td>\n",
              "      <td>2000</td>\n",
              "      <td>RS</td>\n",
              "      <td>21</td>\n",
              "      <td>WAS</td>\n",
              "      <td>2</td>\n",
              "      <td>-3.5</td>\n",
              "      <td>WAS</td>\n",
              "      <td>71</td>\n",
              "      <td>1373</td>\n",
              "      <td>34.7</td>\n",
              "      <td>19.3</td>\n",
              "      <td>18.1</td>\n",
              "      <td>48.2</td>\n",
              "      <td>3.1</td>\n",
              "      <td>3.6</td>\n",
              "      <td>1.0</td>\n",
              "      <td>2.4</td>\n",
              "      <td>-1.5</td>\n",
              "      <td>-2.6</td>\n",
              "      <td>-4.1</td>\n",
              "      <td>-0.97</td>\n",
              "      <td>6.6</td>\n",
              "      <td>3.7</td>\n",
              "      <td>24.2</td>\n",
              "      <td>13.7</td>\n",
              "      <td>11.2</td>\n",
              "      <td>3.1</td>\n",
              "      <td>7.7</td>\n",
              "      <td>5.4</td>\n",
              "      <td>1.1</td>\n",
              "      <td>0.3</td>\n",
              "      <td>97.9</td>\n",
              "      <td>22.8</td>\n",
              "      <td>110.8</td>\n",
              "      <td>42.8</td>\n",
              "      <td>36.4</td>\n",
              "      <td>77.4</td>\n",
              "      <td>12.7</td>\n",
              "      <td>22.0</td>\n",
              "      <td>0.2</td>\n",
              "    </tr>\n",
              "    <tr>\n",
              "      <th>15258</th>\n",
              "      <td>austiis01</td>\n",
              "      <td>Isaac Austin</td>\n",
              "      <td>2000</td>\n",
              "      <td>RS</td>\n",
              "      <td>30</td>\n",
              "      <td>WAS</td>\n",
              "      <td>5</td>\n",
              "      <td>-3.5</td>\n",
              "      <td>WAS</td>\n",
              "      <td>59</td>\n",
              "      <td>1173</td>\n",
              "      <td>29.6</td>\n",
              "      <td>19.9</td>\n",
              "      <td>13.1</td>\n",
              "      <td>48.1</td>\n",
              "      <td>2.4</td>\n",
              "      <td>9.3</td>\n",
              "      <td>1.8</td>\n",
              "      <td>3.5</td>\n",
              "      <td>-5.2</td>\n",
              "      <td>-1.3</td>\n",
              "      <td>-6.5</td>\n",
              "      <td>-2.26</td>\n",
              "      <td>7.7</td>\n",
              "      <td>4.0</td>\n",
              "      <td>19.6</td>\n",
              "      <td>10.0</td>\n",
              "      <td>20.6</td>\n",
              "      <td>6.2</td>\n",
              "      <td>21.7</td>\n",
              "      <td>13.8</td>\n",
              "      <td>0.8</td>\n",
              "      <td>2.3</td>\n",
              "      <td>89.4</td>\n",
              "      <td>19.8</td>\n",
              "      <td>105.9</td>\n",
              "      <td>43.1</td>\n",
              "      <td>25.0</td>\n",
              "      <td>68.6</td>\n",
              "      <td>1.1</td>\n",
              "      <td>38.9</td>\n",
              "      <td>0.0</td>\n",
              "    </tr>\n",
              "    <tr>\n",
              "      <th>15259</th>\n",
              "      <td>smithmi02</td>\n",
              "      <td>Michael Smith</td>\n",
              "      <td>2000</td>\n",
              "      <td>RS</td>\n",
              "      <td>27</td>\n",
              "      <td>WAS</td>\n",
              "      <td>3</td>\n",
              "      <td>-3.5</td>\n",
              "      <td>WAS</td>\n",
              "      <td>46</td>\n",
              "      <td>1145</td>\n",
              "      <td>28.9</td>\n",
              "      <td>24.9</td>\n",
              "      <td>9.8</td>\n",
              "      <td>61.1</td>\n",
              "      <td>1.9</td>\n",
              "      <td>11.2</td>\n",
              "      <td>1.7</td>\n",
              "      <td>1.5</td>\n",
              "      <td>1.5</td>\n",
              "      <td>-0.1</td>\n",
              "      <td>1.4</td>\n",
              "      <td>2.42</td>\n",
              "      <td>10.5</td>\n",
              "      <td>13.3</td>\n",
              "      <td>10.9</td>\n",
              "      <td>7.3</td>\n",
              "      <td>16.0</td>\n",
              "      <td>12.0</td>\n",
              "      <td>21.4</td>\n",
              "      <td>16.6</td>\n",
              "      <td>1.2</td>\n",
              "      <td>1.4</td>\n",
              "      <td>122.6</td>\n",
              "      <td>12.1</td>\n",
              "      <td>105.6</td>\n",
              "      <td>56.5</td>\n",
              "      <td>0.0</td>\n",
              "      <td>72.3</td>\n",
              "      <td>0.5</td>\n",
              "      <td>52.6</td>\n",
              "      <td>-0.4</td>\n",
              "    </tr>\n",
              "    <tr>\n",
              "      <th>15260</th>\n",
              "      <td>kingge02</td>\n",
              "      <td>Gerard King</td>\n",
              "      <td>2000</td>\n",
              "      <td>RS</td>\n",
              "      <td>27</td>\n",
              "      <td>WAS</td>\n",
              "      <td>3</td>\n",
              "      <td>-3.5</td>\n",
              "      <td>WAS</td>\n",
              "      <td>62</td>\n",
              "      <td>1060</td>\n",
              "      <td>26.8</td>\n",
              "      <td>17.1</td>\n",
              "      <td>12.0</td>\n",
              "      <td>53.4</td>\n",
              "      <td>1.8</td>\n",
              "      <td>9.2</td>\n",
              "      <td>1.8</td>\n",
              "      <td>1.5</td>\n",
              "      <td>-0.2</td>\n",
              "      <td>-0.1</td>\n",
              "      <td>-0.2</td>\n",
              "      <td>1.36</td>\n",
              "      <td>9.1</td>\n",
              "      <td>10.1</td>\n",
              "      <td>14.5</td>\n",
              "      <td>7.4</td>\n",
              "      <td>11.8</td>\n",
              "      <td>9.0</td>\n",
              "      <td>18.2</td>\n",
              "      <td>13.6</td>\n",
              "      <td>1.7</td>\n",
              "      <td>1.0</td>\n",
              "      <td>110.5</td>\n",
              "      <td>14.6</td>\n",
              "      <td>105.9</td>\n",
              "      <td>50.2</td>\n",
              "      <td>0.0</td>\n",
              "      <td>74.2</td>\n",
              "      <td>0.0</td>\n",
              "      <td>23.8</td>\n",
              "      <td>0.0</td>\n",
              "    </tr>\n",
              "    <tr>\n",
              "      <th>15261</th>\n",
              "      <td>reiddo01</td>\n",
              "      <td>Don Reid</td>\n",
              "      <td>2000</td>\n",
              "      <td>RS</td>\n",
              "      <td>26</td>\n",
              "      <td>WAS</td>\n",
              "      <td>4</td>\n",
              "      <td>-3.5</td>\n",
              "      <td>WAS</td>\n",
              "      <td>17</td>\n",
              "      <td>333</td>\n",
              "      <td>8.4</td>\n",
              "      <td>19.6</td>\n",
              "      <td>12.7</td>\n",
              "      <td>60.3</td>\n",
              "      <td>1.2</td>\n",
              "      <td>9.0</td>\n",
              "      <td>4.4</td>\n",
              "      <td>1.4</td>\n",
              "      <td>0.6</td>\n",
              "      <td>1.4</td>\n",
              "      <td>2.0</td>\n",
              "      <td>0.82</td>\n",
              "      <td>8.3</td>\n",
              "      <td>11.7</td>\n",
              "      <td>13.6</td>\n",
              "      <td>4.8</td>\n",
              "      <td>11.7</td>\n",
              "      <td>8.9</td>\n",
              "      <td>17.8</td>\n",
              "      <td>13.3</td>\n",
              "      <td>3.0</td>\n",
              "      <td>4.1</td>\n",
              "      <td>119.7</td>\n",
              "      <td>13.6</td>\n",
              "      <td>100.7</td>\n",
              "      <td>56.4</td>\n",
              "      <td>0.0</td>\n",
              "      <td>75.0</td>\n",
              "      <td>0.0</td>\n",
              "      <td>35.9</td>\n",
              "      <td>1.6</td>\n",
              "    </tr>\n",
              "  </tbody>\n",
              "</table>\n",
              "<p>8043 rows × 42 columns</p>\n",
              "</div>"
            ],
            "text/plain": [
              "       player_id       name_common  year_id type  ...   FT%  3PAr  FTAr  Pace +/-\n",
              "808    youngtr01        Trae Young     2019   RS  ...  82.9  38.4  33.0       1.8\n",
              "809    huertke01     Kevin Huerter     2019   RS  ...  73.2  53.7   8.5       0.6\n",
              "810    bembrde01   DeAndre' Bembry     2019   RS  ...  64.0  28.1  22.1       0.6\n",
              "811    collijo01      John Collins     2019   RS  ...  76.3  19.0  32.0       0.2\n",
              "812    bazemke01     Kent Bazemore     2019   RS  ...  72.6  43.4  25.3       1.6\n",
              "...          ...               ...      ...  ...  ...   ...   ...   ...       ...\n",
              "15257  hamilri01  Richard Hamilton     2000   RS  ...  77.4  12.7  22.0       0.2\n",
              "15258  austiis01      Isaac Austin     2000   RS  ...  68.6   1.1  38.9       0.0\n",
              "15259  smithmi02     Michael Smith     2000   RS  ...  72.3   0.5  52.6      -0.4\n",
              "15260   kingge02       Gerard King     2000   RS  ...  74.2   0.0  23.8       0.0\n",
              "15261   reiddo01          Don Reid     2000   RS  ...  75.0   0.0  35.9       1.6\n",
              "\n",
              "[8043 rows x 42 columns]"
            ]
          },
          "metadata": {},
          "execution_count": 148
        }
      ]
    },
    {
      "cell_type": "markdown",
      "metadata": {
        "id": "SxJuLvDFkgI6"
      },
      "source": [
        "Something else I wanted to look at: Are there clear trends in the data amongst players at different positions? Do for example centers contribute more value in areas like defense and do they contribute more to winning(as measured per 538s WAR--wins above replacement model). Do guards tend to contribute more to winning? Are there clusters of data that tend to be common amongst guards vs bigger players? That's the goal of this cluster analysis is to just identify trends that might otherwise not be obvious. \n",
        "\n",
        "\n",
        " We'll include a few other common metrics like steals+ blocks per 36 min and points per 36 min to help create a better model for clustering. "
      ]
    },
    {
      "cell_type": "code",
      "metadata": {
        "id": "sRjRvMaSlLWW"
      },
      "source": [
        "X = df1.loc[:, ['SB/36', 'P/36', 'Raptor O', 'Raptor D', 'Raptor WAR', 'Pace +/-', 'pos']]\n",
        "\n"
      ],
      "execution_count": 149,
      "outputs": []
    },
    {
      "cell_type": "code",
      "metadata": {
        "id": "ychXewB7CI7m"
      },
      "source": [
        "# scale the data\n",
        "scaler = StandardScaler()\n",
        "\n",
        "\n",
        "\n",
        "\n",
        "scaled_x = scaler.fit_transform(X)\n"
      ],
      "execution_count": 150,
      "outputs": []
    },
    {
      "cell_type": "code",
      "metadata": {
        "colab": {
          "base_uri": "https://localhost:8080/",
          "height": 278
        },
        "id": "5HRa-MGFn98Y",
        "outputId": "516eb08a-56a8-46f8-9bdc-44e061ba3e02"
      },
      "source": [
        "# define a range of values of k to evaulate for intertia score, fit and run the model, and plot the results\n",
        "ks = range(1, 11)\n",
        "inertias = []\n",
        "\n",
        "for k in ks:\n",
        "    model = KMeans(n_clusters = k)\n",
        "    model.fit(scaled_x)\n",
        "    inertias.append(model.inertia_)\n",
        "\n",
        "plt.plot(ks, inertias)\n",
        "plt.xlabel('Number of clusters (k)')\n",
        "plt.ylabel('Inertia')\n",
        "plt.xticks(ks)\n",
        "plt.show()"
      ],
      "execution_count": 151,
      "outputs": [
        {
          "output_type": "display_data",
          "data": {
            "image/png": "[encoded data removed]",
            "text/plain": [
              "<Figure size 432x288 with 1 Axes>"
            ]
          },
          "metadata": {
            "needs_background": "light"
          }
        }
      ]
    },
    {
      "cell_type": "code",
      "metadata": {
        "id": "8f7XnM4OovpB"
      },
      "source": [
        "# instantiate a Kmeans model with the value for k based on elbow plot method and silhouette score\n",
        "\n",
        "km = KMeans(n_clusters = 3, random_state = 42)\n",
        "\n",
        "# add a column to the dataframe to add the cluster lable as you fit and predict x \n",
        "df1['clusters'] =km.fit_predict(scaled_x)\n",
        "\n",
        "# adding cluster info to data frame can use that as another variable in your datafrmae to be able to group by diff things "
      ],
      "execution_count": 152,
      "outputs": []
    },
    {
      "cell_type": "code",
      "metadata": {
        "colab": {
          "base_uri": "https://localhost:8080/",
          "height": 272
        },
        "id": "7ZwgO-yKo5H8",
        "outputId": "5c59a2cc-2850-495a-afde-9c3acd5cd02b"
      },
      "source": [
        "# examine your dataframe with .head()\n",
        "df1.head(5)"
      ],
      "execution_count": 153,
      "outputs": [
        {
          "output_type": "execute_result",
          "data": {
            "text/html": [
              "<div>\n",
              "<style scoped>\n",
              "    .dataframe tbody tr th:only-of-type {\n",
              "        vertical-align: middle;\n",
              "    }\n",
              "\n",
              "    .dataframe tbody tr th {\n",
              "        vertical-align: top;\n",
              "    }\n",
              "\n",
              "    .dataframe thead th {\n",
              "        text-align: right;\n",
              "    }\n",
              "</style>\n",
              "<table border=\"1\" class=\"dataframe\">\n",
              "  <thead>\n",
              "    <tr style=\"text-align: right;\">\n",
              "      <th></th>\n",
              "      <th>player_id</th>\n",
              "      <th>name_common</th>\n",
              "      <th>year_id</th>\n",
              "      <th>type</th>\n",
              "      <th>age</th>\n",
              "      <th>team_id</th>\n",
              "      <th>pos</th>\n",
              "      <th>tmRtg</th>\n",
              "      <th>franch_id</th>\n",
              "      <th>G</th>\n",
              "      <th>Min</th>\n",
              "      <th>MP%</th>\n",
              "      <th>MPG</th>\n",
              "      <th>P/36</th>\n",
              "      <th>TS%</th>\n",
              "      <th>A/36</th>\n",
              "      <th>R/36</th>\n",
              "      <th>SB/36</th>\n",
              "      <th>TO/36</th>\n",
              "      <th>Raptor O</th>\n",
              "      <th>Raptor D</th>\n",
              "      <th>Raptor+/-</th>\n",
              "      <th>Raptor WAR</th>\n",
              "      <th>PIE%</th>\n",
              "      <th>AWS%</th>\n",
              "      <th>USG%</th>\n",
              "      <th>AST%</th>\n",
              "      <th>TOV%</th>\n",
              "      <th>ORB%</th>\n",
              "      <th>DRB%</th>\n",
              "      <th>TRB%</th>\n",
              "      <th>STL%</th>\n",
              "      <th>BLK%</th>\n",
              "      <th>ORtg</th>\n",
              "      <th>%Pos</th>\n",
              "      <th>DRtg</th>\n",
              "      <th>2P%</th>\n",
              "      <th>3P%</th>\n",
              "      <th>FT%</th>\n",
              "      <th>3PAr</th>\n",
              "      <th>FTAr</th>\n",
              "      <th>Pace +/-</th>\n",
              "      <th>clusters</th>\n",
              "    </tr>\n",
              "  </thead>\n",
              "  <tbody>\n",
              "    <tr>\n",
              "      <th>808</th>\n",
              "      <td>youngtr01</td>\n",
              "      <td>Trae Young</td>\n",
              "      <td>2019</td>\n",
              "      <td>RS</td>\n",
              "      <td>20</td>\n",
              "      <td>ATL</td>\n",
              "      <td>1</td>\n",
              "      <td>-5.7</td>\n",
              "      <td>ATL</td>\n",
              "      <td>81</td>\n",
              "      <td>2503</td>\n",
              "      <td>63.0</td>\n",
              "      <td>30.9</td>\n",
              "      <td>21.4</td>\n",
              "      <td>53.9</td>\n",
              "      <td>9.0</td>\n",
              "      <td>4.2</td>\n",
              "      <td>1.2</td>\n",
              "      <td>4.3</td>\n",
              "      <td>2.4</td>\n",
              "      <td>-4.5</td>\n",
              "      <td>-2.1</td>\n",
              "      <td>0.82</td>\n",
              "      <td>12.5</td>\n",
              "      <td>10.2</td>\n",
              "      <td>28.4</td>\n",
              "      <td>40.5</td>\n",
              "      <td>17.6</td>\n",
              "      <td>2.6</td>\n",
              "      <td>10.2</td>\n",
              "      <td>6.3</td>\n",
              "      <td>1.3</td>\n",
              "      <td>0.5</td>\n",
              "      <td>107.4</td>\n",
              "      <td>29.8</td>\n",
              "      <td>116.8</td>\n",
              "      <td>47.7</td>\n",
              "      <td>32.4</td>\n",
              "      <td>82.9</td>\n",
              "      <td>38.4</td>\n",
              "      <td>33.0</td>\n",
              "      <td>1.8</td>\n",
              "      <td>1</td>\n",
              "    </tr>\n",
              "    <tr>\n",
              "      <th>809</th>\n",
              "      <td>huertke01</td>\n",
              "      <td>Kevin Huerter</td>\n",
              "      <td>2019</td>\n",
              "      <td>RS</td>\n",
              "      <td>20</td>\n",
              "      <td>ATL</td>\n",
              "      <td>2</td>\n",
              "      <td>-5.7</td>\n",
              "      <td>ATL</td>\n",
              "      <td>75</td>\n",
              "      <td>2048</td>\n",
              "      <td>51.6</td>\n",
              "      <td>27.3</td>\n",
              "      <td>12.3</td>\n",
              "      <td>53.3</td>\n",
              "      <td>3.6</td>\n",
              "      <td>4.1</td>\n",
              "      <td>1.5</td>\n",
              "      <td>1.8</td>\n",
              "      <td>0.4</td>\n",
              "      <td>-2.2</td>\n",
              "      <td>-1.8</td>\n",
              "      <td>1.04</td>\n",
              "      <td>6.7</td>\n",
              "      <td>6.9</td>\n",
              "      <td>15.7</td>\n",
              "      <td>14.5</td>\n",
              "      <td>13.8</td>\n",
              "      <td>3.0</td>\n",
              "      <td>9.7</td>\n",
              "      <td>6.3</td>\n",
              "      <td>1.5</td>\n",
              "      <td>1.1</td>\n",
              "      <td>105.5</td>\n",
              "      <td>15.7</td>\n",
              "      <td>116.2</td>\n",
              "      <td>45.7</td>\n",
              "      <td>38.5</td>\n",
              "      <td>73.2</td>\n",
              "      <td>53.7</td>\n",
              "      <td>8.5</td>\n",
              "      <td>0.6</td>\n",
              "      <td>1</td>\n",
              "    </tr>\n",
              "    <tr>\n",
              "      <th>810</th>\n",
              "      <td>bembrde01</td>\n",
              "      <td>DeAndre' Bembry</td>\n",
              "      <td>2019</td>\n",
              "      <td>RS</td>\n",
              "      <td>24</td>\n",
              "      <td>ATL</td>\n",
              "      <td>2</td>\n",
              "      <td>-5.7</td>\n",
              "      <td>ATL</td>\n",
              "      <td>82</td>\n",
              "      <td>1931</td>\n",
              "      <td>48.6</td>\n",
              "      <td>23.5</td>\n",
              "      <td>12.3</td>\n",
              "      <td>50.8</td>\n",
              "      <td>3.6</td>\n",
              "      <td>6.4</td>\n",
              "      <td>2.6</td>\n",
              "      <td>2.5</td>\n",
              "      <td>-3.2</td>\n",
              "      <td>1.1</td>\n",
              "      <td>-2.1</td>\n",
              "      <td>0.66</td>\n",
              "      <td>7.8</td>\n",
              "      <td>6.6</td>\n",
              "      <td>17.2</td>\n",
              "      <td>14.7</td>\n",
              "      <td>17.4</td>\n",
              "      <td>2.9</td>\n",
              "      <td>16.9</td>\n",
              "      <td>9.7</td>\n",
              "      <td>2.5</td>\n",
              "      <td>1.8</td>\n",
              "      <td>97.2</td>\n",
              "      <td>17.4</td>\n",
              "      <td>111.5</td>\n",
              "      <td>50.8</td>\n",
              "      <td>28.9</td>\n",
              "      <td>64.0</td>\n",
              "      <td>28.1</td>\n",
              "      <td>22.1</td>\n",
              "      <td>0.6</td>\n",
              "      <td>2</td>\n",
              "    </tr>\n",
              "    <tr>\n",
              "      <th>811</th>\n",
              "      <td>collijo01</td>\n",
              "      <td>John Collins</td>\n",
              "      <td>2019</td>\n",
              "      <td>RS</td>\n",
              "      <td>21</td>\n",
              "      <td>ATL</td>\n",
              "      <td>4</td>\n",
              "      <td>-5.7</td>\n",
              "      <td>ATL</td>\n",
              "      <td>61</td>\n",
              "      <td>1829</td>\n",
              "      <td>46.1</td>\n",
              "      <td>30.0</td>\n",
              "      <td>22.5</td>\n",
              "      <td>62.7</td>\n",
              "      <td>2.3</td>\n",
              "      <td>11.3</td>\n",
              "      <td>1.2</td>\n",
              "      <td>2.3</td>\n",
              "      <td>3.2</td>\n",
              "      <td>-0.5</td>\n",
              "      <td>2.7</td>\n",
              "      <td>5.13</td>\n",
              "      <td>14.3</td>\n",
              "      <td>14.9</td>\n",
              "      <td>23.7</td>\n",
              "      <td>11.0</td>\n",
              "      <td>11.2</td>\n",
              "      <td>12.3</td>\n",
              "      <td>22.1</td>\n",
              "      <td>17.1</td>\n",
              "      <td>0.6</td>\n",
              "      <td>1.8</td>\n",
              "      <td>121.7</td>\n",
              "      <td>23.3</td>\n",
              "      <td>114.6</td>\n",
              "      <td>60.9</td>\n",
              "      <td>34.8</td>\n",
              "      <td>76.3</td>\n",
              "      <td>19.0</td>\n",
              "      <td>32.0</td>\n",
              "      <td>0.2</td>\n",
              "      <td>0</td>\n",
              "    </tr>\n",
              "    <tr>\n",
              "      <th>812</th>\n",
              "      <td>bazemke01</td>\n",
              "      <td>Kent Bazemore</td>\n",
              "      <td>2019</td>\n",
              "      <td>RS</td>\n",
              "      <td>29</td>\n",
              "      <td>ATL</td>\n",
              "      <td>2</td>\n",
              "      <td>-5.7</td>\n",
              "      <td>ATL</td>\n",
              "      <td>67</td>\n",
              "      <td>1643</td>\n",
              "      <td>41.4</td>\n",
              "      <td>24.5</td>\n",
              "      <td>16.4</td>\n",
              "      <td>50.7</td>\n",
              "      <td>3.2</td>\n",
              "      <td>5.5</td>\n",
              "      <td>2.8</td>\n",
              "      <td>2.6</td>\n",
              "      <td>-2.9</td>\n",
              "      <td>0.6</td>\n",
              "      <td>-2.3</td>\n",
              "      <td>0.39</td>\n",
              "      <td>7.8</td>\n",
              "      <td>6.9</td>\n",
              "      <td>22.0</td>\n",
              "      <td>13.5</td>\n",
              "      <td>13.6</td>\n",
              "      <td>2.3</td>\n",
              "      <td>14.6</td>\n",
              "      <td>8.3</td>\n",
              "      <td>2.5</td>\n",
              "      <td>2.2</td>\n",
              "      <td>98.1</td>\n",
              "      <td>21.3</td>\n",
              "      <td>111.8</td>\n",
              "      <td>46.5</td>\n",
              "      <td>32.0</td>\n",
              "      <td>72.6</td>\n",
              "      <td>43.4</td>\n",
              "      <td>25.3</td>\n",
              "      <td>1.6</td>\n",
              "      <td>2</td>\n",
              "    </tr>\n",
              "  </tbody>\n",
              "</table>\n",
              "</div>"
            ],
            "text/plain": [
              "     player_id      name_common  year_id type  ...  3PAr  FTAr  Pace +/-  clusters\n",
              "808  youngtr01       Trae Young     2019   RS  ...  38.4  33.0       1.8         1\n",
              "809  huertke01    Kevin Huerter     2019   RS  ...  53.7   8.5       0.6         1\n",
              "810  bembrde01  DeAndre' Bembry     2019   RS  ...  28.1  22.1       0.6         2\n",
              "811  collijo01     John Collins     2019   RS  ...  19.0  32.0       0.2         0\n",
              "812  bazemke01    Kent Bazemore     2019   RS  ...  43.4  25.3       1.6         2\n",
              "\n",
              "[5 rows x 43 columns]"
            ]
          },
          "metadata": {},
          "execution_count": 153
        }
      ]
    },
    {
      "cell_type": "code",
      "metadata": {
        "colab": {
          "base_uri": "https://localhost:8080/",
          "height": 275
        },
        "id": "xC4beAqApDQu",
        "outputId": "b343234b-df88-484a-ba35-b7d720b0257c"
      },
      "source": [
        "# Make a scatterplot with these features and color code it based on the cluster.\n",
        "df1.plot(kind = 'scatter', x = 'pos', y = 'Raptor WAR', c = 'clusters', cmap = 'tab20')"
      ],
      "execution_count": 154,
      "outputs": [
        {
          "output_type": "execute_result",
          "data": {
            "text/plain": [
              "<matplotlib.axes._subplots.AxesSubplot at 0x7f408bec30d0>"
            ]
          },
          "metadata": {},
          "execution_count": 154
        },
        {
          "output_type": "display_data",
          "data": {
            "image/png": "[encoded data removed]",
            "text/plain": [
              "<Figure size 432x288 with 2 Axes>"
            ]
          },
          "metadata": {
            "needs_background": "light"
          }
        }
      ]
    },
    {
      "cell_type": "markdown",
      "metadata": {
        "id": "_vDnEicSk32Y"
      },
      "source": [
        "You can see hte graph for yourself above. There arent real meaningful trends across the 5 positions when talking about value added per 538s RAPTOR WAR model. "
      ]
    },
    {
      "cell_type": "markdown",
      "metadata": {
        "id": "fdXUs1Kklc43"
      },
      "source": [
        "Now look below. Another thing I wanted to plot is unofficially for many decades fans have used points as the main gauge of players value. 538 has their new model called RAPTOR. So i wanted to directly look at the newer 538 model vs the \"older more unofficial way\" of evaluating players. Are there clear trends and clusters, in other words to players who tend to score a certain range of points tend to have relatively similar RAPTOR WAR values? Of course the model also has other variables that help influence this but I still thought it would be interesting if there were clear clusters. And it turns out we do have a few. "
      ]
    },
    {
      "cell_type": "code",
      "metadata": {
        "id": "ohHFXESto8UV",
        "colab": {
          "base_uri": "https://localhost:8080/",
          "height": 275
        },
        "outputId": "a93a2ab0-dac4-4922-f1f4-c962519cc1a3"
      },
      "source": [
        "# Make a scatterplot with these features and color code it based on the cluster.\n",
        "df1.plot(kind = 'scatter', x = 'P/36', y = 'Raptor WAR', c = 'clusters', cmap = 'tab20')"
      ],
      "execution_count": 155,
      "outputs": [
        {
          "output_type": "execute_result",
          "data": {
            "text/plain": [
              "<matplotlib.axes._subplots.AxesSubplot at 0x7f408bc2ea50>"
            ]
          },
          "metadata": {},
          "execution_count": 155
        },
        {
          "output_type": "display_data",
          "data": {
            "image/png": "[encoded data removed]",
            "text/plain": [
              "<Figure size 432x288 with 2 Axes>"
            ]
          },
          "metadata": {
            "needs_background": "light"
          }
        }
      ]
    },
    {
      "cell_type": "markdown",
      "metadata": {
        "id": "pevr8htamGuC"
      },
      "source": [
        "Now we look at one more question: does player data help predict what position they play? There are a few reasons why this is of interest to me. One thing is you will commonly here people debate what position a player is. \"Is he a true point guard\" vs \"Is he a true center\" vs \"this guy is positionless he does everything dont define him to one position\" etc. So then it bears asking, can we predict what position a player most likely is based on certain statistical barometers? Is it really true that point guards will have alot more assists than shooting guards, ie if a player is not a good passer does that mean we should be more hesitant in considering him a point guard? \n",
        "\n",
        "If you score alot and turn the ball over alot, does that for example help predict you are more likely to be one position than another? I just think being able to define and predict positions and characteristics of players at those positions is important. We're gonna do logistic regression here for this. \n",
        "\n",
        "There will be two logistic models. One is just incorporating traditional box score tracking data points, assists, rebounds, steals, turnovers etc. The other will incorporate those and 538s RAPTOR model. So the purpose of that is to see does 538's model which measures performance help us improving our predictions of what position a player is? Some hypotheticals to help think about why we might do this. For example you might have a player who puts up very good traditional stats, tons of points, tons of assists etc. But the advanced 538 RAPTOR model doesnt rate him so highly. Perhaps his gaudy stat line isnt as impressive as it might actually seem? Knowing this, can it help us predict positional characteristics? Are guys like this more likely to be point guards vs power fowards vs small forwards etc? "
      ]
    },
    {
      "cell_type": "code",
      "metadata": {
        "id": "9PZkN4pdjQcC"
      },
      "source": [
        "X1 = df1.loc[:, ['age', 'P/36', 'A/36', 'R/36', 'SB/36', '3P%', 'TO/36', 'FTAr']]\n",
        "\n",
        "y1 = df1['pos']"
      ],
      "execution_count": 172,
      "outputs": []
    },
    {
      "cell_type": "code",
      "metadata": {
        "id": "fqdcBGH7lNIr"
      },
      "source": [
        "import matplotlib.pyplot as plt\n",
        "import pandas as pd\n",
        "import numpy as np\n",
        "from sklearn.model_selection import train_test_split\n",
        "from sklearn.preprocessing import StandardScaler\n",
        "from sklearn.linear_model import LinearRegression\n",
        "from sklearn.linear_model import LogisticRegression"
      ],
      "execution_count": 160,
      "outputs": []
    },
    {
      "cell_type": "code",
      "metadata": {
        "id": "cM8D-iIGev2H"
      },
      "source": [
        "X_train, X_test, y_train, y_test =train_test_split(X,\n",
        "                                                   y,\n",
        "                                                   test_size=0.3, \n",
        "                                                   random_state=0, \n",
        "                                                   stratify=y)"
      ],
      "execution_count": 169,
      "outputs": []
    },
    {
      "cell_type": "code",
      "metadata": {
        "id": "i2LBRcXNe0fH"
      },
      "source": [
        "# Standardize Data\n",
        "scaler = StandardScaler()\n",
        "# Fit on training set only.\n",
        "scaler.fit(X_train)\n",
        "# Apply transform to both the training set and the test set.\n",
        "X_train = scaler.transform(X_train)\n",
        "X_test = scaler.transform(X_test)\n",
        "\n",
        "# generally always scale our data for logistic regression"
      ],
      "execution_count": 170,
      "outputs": []
    },
    {
      "cell_type": "code",
      "metadata": {
        "colab": {
          "base_uri": "https://localhost:8080/"
        },
        "id": "8zLoF_lue5CG",
        "outputId": "2a13e49e-a2bc-4012-e5a4-cc9b5a3bffd5"
      },
      "source": [
        "# logistic regression - one v one\n",
        "from sklearn.multiclass import OneVsOneClassifier\n",
        "\n",
        "log_reg = LogisticRegression()\n",
        "# estimator we want to classify\n",
        "\n",
        "\n",
        "ovo = OneVsOneClassifier(log_reg)\n",
        "ovo.fit(X_train, y_train)\n",
        "\n",
        "print('Training accuracy:', ovo.score(X_train, y_train))\n",
        "print('Test accuracy:', ovo.score(X_test, y_test))"
      ],
      "execution_count": 163,
      "outputs": [
        {
          "output_type": "stream",
          "name": "stdout",
          "text": [
            "Training accuracy: 0.6523978685612789\n",
            "Test accuracy: 0.6585163696643183\n"
          ]
        }
      ]
    },
    {
      "cell_type": "markdown",
      "metadata": {
        "id": "KwDdcz2HfBwT"
      },
      "source": [
        "Logistic Regression One vs All"
      ]
    },
    {
      "cell_type": "code",
      "metadata": {
        "colab": {
          "base_uri": "https://localhost:8080/"
        },
        "id": "7qgzeydze9NZ",
        "outputId": "599bb9e3-f725-4b1f-8800-d897639b0871"
      },
      "source": [
        "log_reg = LogisticRegression(multi_class = 'ovr')\n",
        "log_reg.fit(X_train, y_train)\n",
        "\n",
        "print('Training accuracy:', log_reg.score(X_train, y_train))\n",
        "print('Test accuracy:', log_reg.score(X_test, y_test))"
      ],
      "execution_count": 164,
      "outputs": [
        {
          "output_type": "stream",
          "name": "stdout",
          "text": [
            "Training accuracy: 0.633392539964476\n",
            "Test accuracy: 0.6311645254869457\n"
          ]
        }
      ]
    },
    {
      "cell_type": "markdown",
      "metadata": {
        "id": "CxCT-0BffJS4"
      },
      "source": [
        "Logistic Regression using L1 and L2 "
      ]
    },
    {
      "cell_type": "code",
      "metadata": {
        "colab": {
          "base_uri": "https://localhost:8080/"
        },
        "id": "3W6JDIbdfGRJ",
        "outputId": "6840da89-a57d-40d6-e43f-abe2c584cfe6"
      },
      "source": [
        "# First will try using L1\n",
        "\n",
        "log_reg = LogisticRegression(penalty = 'l1', solver = 'liblinear')\n",
        "# need liblinear solver in order for L1 to work\n",
        "\n",
        "log_reg.fit(X_train, y_train)\n",
        "\n",
        "print('Training accuracy:', log_reg.score(X_train, y_train))\n",
        "print('Test accuracy:', log_reg.score(X_test, y_test))\n",
        "\n",
        "# logistic regression - l2\n",
        "log_reg = LogisticRegression(penalty = 'l2')\n",
        "log_reg.fit(X_train, y_train)\n",
        "\n",
        "print('Training accuracy:', log_reg.score(X_train, y_train))\n",
        "print('Test accuracy:', log_reg.score(X_test, y_test))"
      ],
      "execution_count": 165,
      "outputs": [
        {
          "output_type": "stream",
          "name": "stdout",
          "text": [
            "Training accuracy: 0.6330373001776199\n",
            "Test accuracy: 0.6299212598425197\n",
            "Training accuracy: 0.647246891651865\n",
            "Test accuracy: 0.6585163696643183\n"
          ]
        }
      ]
    },
    {
      "cell_type": "code",
      "metadata": {
        "colab": {
          "base_uri": "https://localhost:8080/"
        },
        "id": "ZCUpHEm9fPns",
        "outputId": "8845180c-17f0-4a4e-c4f7-95c6fea04d9a"
      },
      "source": [
        "log_reg.coef_"
      ],
      "execution_count": 166,
      "outputs": [
        {
          "output_type": "execute_result",
          "data": {
            "text/plain": [
              "array([[-0.54075567, -0.29741667,  2.99312242, -3.97351412, -0.048396  ,\n",
              "         0.02280295, -0.01308427, -0.08679376, -0.25784791],\n",
              "       [-0.29106956, -0.0447304 ,  0.06984729, -2.61595613, -0.1996583 ,\n",
              "         0.5623689 , -0.13949561,  0.19309856, -0.01380243],\n",
              "       [-0.00450009, -0.16034778, -1.02070706,  0.0735692 , -0.20240768,\n",
              "         0.46833238,  0.23468969,  0.2716147 ,  0.04650937],\n",
              "       [ 0.31164135,  0.23707152, -0.94981185,  2.87027806, -0.09033251,\n",
              "        -0.30358046,  0.07953206, -0.19305052, -0.00449049],\n",
              "       [ 0.52468397,  0.26542333, -1.0924508 ,  3.64562298,  0.54079449,\n",
              "        -0.74992378, -0.16164187, -0.18486898,  0.22963146]])"
            ]
          },
          "metadata": {},
          "execution_count": 166
        }
      ]
    },
    {
      "cell_type": "code",
      "metadata": {
        "colab": {
          "base_uri": "https://localhost:8080/",
          "height": 335
        },
        "id": "S1eIZ698flRQ",
        "outputId": "f97c5d1e-d4cd-495c-e61f-1ae01a7d90ef"
      },
      "source": [
        "coef = pd.DataFrame(zip(X1.columns, log_reg.coef_[0]), columns = ['Class label', 'Coef'])\n",
        "coef.sort_values(by='Coef', inplace= True)\n",
        "\n",
        "plt.figure(figsize =(12, 5))\n",
        "plt.barh(coef['Class label'], coef['Coef'])\n",
        "plt.title('Most important features in our model');"
      ],
      "execution_count": 173,
      "outputs": [
        {
          "output_type": "display_data",
          "data": {
            "image/png": "[encoded data removed]",
            "text/plain": [
              "<Figure size 864x360 with 1 Axes>"
            ]
          },
          "metadata": {
            "needs_background": "light"
          }
        }
      ]
    },
    {
      "cell_type": "markdown",
      "metadata": {
        "id": "n259X9jpn4ZZ"
      },
      "source": [
        "The model shows that what drives position predictions are your rebounding and assist figures above all else. This is interesting. More rebounding means you are more likely to be a powerforward or center. And more assists means you are more likely to be a guard. Not shocking per se. What is interesting is the degree to which it is of much greater significance than any other variable. Assists and turnovers are often related to each other, cant have alot of assists and helping out teammates without turning it over some also sometimes. And yet turnover rate(TO) seems to matter very little when prediction positions. Another interesting takeaway; the 3 pointer is gaining in popularity each year in the NBA. Guards tend to be the most dangerous 3 point shooters. and yet, 3 point % has very little influence in our model on prediction position despite its importance in the game. \n",
        "\n",
        "Now below we can do our 2nd model one that incorporates the 538 data. "
      ]
    },
    {
      "cell_type": "code",
      "metadata": {
        "id": "X_kigS0BgKMA"
      },
      "source": [
        "X2 = df1.loc[:, ['age', 'P/36', 'A/36', 'R/36', 'SB/36', 'Raptor+/-', '3P%', 'TO/36', 'FTAr', 'Raptor O', 'Raptor D', 'Raptor WAR']]\n",
        "\n",
        "y2 = df1['pos']\n"
      ],
      "execution_count": 184,
      "outputs": []
    },
    {
      "cell_type": "code",
      "metadata": {
        "id": "uCQSrXM8gdJ6"
      },
      "source": [
        "X_train, X_test, y_train, y_test =train_test_split(X,\n",
        "                                                   y,\n",
        "                                                   test_size=0.3, \n",
        "                                                   random_state=0, \n",
        "                                                   stratify=y)"
      ],
      "execution_count": 185,
      "outputs": []
    },
    {
      "cell_type": "code",
      "metadata": {
        "id": "1bIu-4ehgf2V"
      },
      "source": [
        "# Standardize Data\n",
        "scaler = StandardScaler()\n",
        "# Fit on training set only.\n",
        "scaler.fit(X_train)\n",
        "# Apply transform to both the training set and the test set.\n",
        "X_train = scaler.transform(X_train)\n",
        "X_test = scaler.transform(X_test)\n",
        "\n",
        "# generally always scale our data for logistic regression"
      ],
      "execution_count": 177,
      "outputs": []
    },
    {
      "cell_type": "code",
      "metadata": {
        "id": "sRoK8uwZgjiW"
      },
      "source": [
        "# logistic regression - one v one\n",
        "from sklearn.multiclass import OneVsOneClassifier\n",
        "\n",
        "log_reg = LogisticRegression()\n",
        "# estimator we want to classify\n",
        "\n",
        "\n",
        "ovo = OneVsOneClassifier(log_reg)\n",
        "ovo.fit(X_train, y_train)\n",
        "\n",
        "print('Training accuracy:', ovo.score(X_train, y_train))\n",
        "print('Test accuracy:', ovo.score(X_test, y_test))"
      ],
      "execution_count": null,
      "outputs": []
    },
    {
      "cell_type": "markdown",
      "metadata": {
        "id": "hU6CSicbgvPU"
      },
      "source": [
        "logistic regression one vs all"
      ]
    },
    {
      "cell_type": "code",
      "metadata": {
        "colab": {
          "base_uri": "https://localhost:8080/"
        },
        "id": "F8a-7igSguk-",
        "outputId": "0e072b79-7781-4465-fc74-97db784d1c38"
      },
      "source": [
        "log_reg = LogisticRegression(multi_class = 'ovr')\n",
        "log_reg.fit(X_train, y_train)\n",
        "\n",
        "print('Training accuracy:', log_reg.score(X_train, y_train))\n",
        "print('Test accuracy:', log_reg.score(X_test, y_test))"
      ],
      "execution_count": 187,
      "outputs": [
        {
          "output_type": "stream",
          "name": "stderr",
          "text": [
            "/usr/local/lib/python3.7/dist-packages/sklearn/linear_model/_logistic.py:940: ConvergenceWarning: lbfgs failed to converge (status=1):\n",
            "STOP: TOTAL NO. of ITERATIONS REACHED LIMIT.\n",
            "\n",
            "Increase the number of iterations (max_iter) or scale the data as shown in:\n",
            "    https://scikit-learn.org/stable/modules/preprocessing.html\n",
            "Please also refer to the documentation for alternative solver options:\n",
            "    https://scikit-learn.org/stable/modules/linear_model.html#logistic-regression\n",
            "  extra_warning_msg=_LOGISTIC_SOLVER_CONVERGENCE_MSG)\n",
            "/usr/local/lib/python3.7/dist-packages/sklearn/linear_model/_logistic.py:940: ConvergenceWarning: lbfgs failed to converge (status=1):\n",
            "STOP: TOTAL NO. of ITERATIONS REACHED LIMIT.\n",
            "\n",
            "Increase the number of iterations (max_iter) or scale the data as shown in:\n",
            "    https://scikit-learn.org/stable/modules/preprocessing.html\n",
            "Please also refer to the documentation for alternative solver options:\n",
            "    https://scikit-learn.org/stable/modules/linear_model.html#logistic-regression\n",
            "  extra_warning_msg=_LOGISTIC_SOLVER_CONVERGENCE_MSG)\n"
          ]
        },
        {
          "output_type": "stream",
          "name": "stdout",
          "text": [
            "Training accuracy: 0.6319715808170515\n",
            "Test accuracy: 0.630335681723995\n"
          ]
        },
        {
          "output_type": "stream",
          "name": "stderr",
          "text": [
            "/usr/local/lib/python3.7/dist-packages/sklearn/linear_model/_logistic.py:940: ConvergenceWarning: lbfgs failed to converge (status=1):\n",
            "STOP: TOTAL NO. of ITERATIONS REACHED LIMIT.\n",
            "\n",
            "Increase the number of iterations (max_iter) or scale the data as shown in:\n",
            "    https://scikit-learn.org/stable/modules/preprocessing.html\n",
            "Please also refer to the documentation for alternative solver options:\n",
            "    https://scikit-learn.org/stable/modules/linear_model.html#logistic-regression\n",
            "  extra_warning_msg=_LOGISTIC_SOLVER_CONVERGENCE_MSG)\n",
            "/usr/local/lib/python3.7/dist-packages/sklearn/linear_model/_logistic.py:940: ConvergenceWarning: lbfgs failed to converge (status=1):\n",
            "STOP: TOTAL NO. of ITERATIONS REACHED LIMIT.\n",
            "\n",
            "Increase the number of iterations (max_iter) or scale the data as shown in:\n",
            "    https://scikit-learn.org/stable/modules/preprocessing.html\n",
            "Please also refer to the documentation for alternative solver options:\n",
            "    https://scikit-learn.org/stable/modules/linear_model.html#logistic-regression\n",
            "  extra_warning_msg=_LOGISTIC_SOLVER_CONVERGENCE_MSG)\n"
          ]
        }
      ]
    },
    {
      "cell_type": "code",
      "metadata": {
        "colab": {
          "base_uri": "https://localhost:8080/"
        },
        "id": "HbCWzJzvgzjC",
        "outputId": "bb9e9650-c1e2-4f42-b034-11a667bf8fd8"
      },
      "source": [
        "# First will try using L1\n",
        "\n",
        "log_reg = LogisticRegression(penalty = 'l1', solver = 'liblinear')\n",
        "# need liblinear solver in order for L1 to work\n",
        "\n",
        "log_reg.fit(X_train, y_train)\n",
        "\n",
        "print('Training accuracy:', log_reg.score(X_train, y_train))\n",
        "print('Test accuracy:', log_reg.score(X_test, y_test))\n",
        "\n",
        "# logistic regression - l2\n",
        "log_reg = LogisticRegression(penalty = 'l2')\n",
        "log_reg.fit(X_train, y_train)\n",
        "\n",
        "print('Training accuracy:', log_reg.score(X_train, y_train))\n",
        "print('Test accuracy:', log_reg.score(X_test, y_test))"
      ],
      "execution_count": 180,
      "outputs": [
        {
          "output_type": "stream",
          "name": "stdout",
          "text": [
            "Training accuracy: 0.6330373001776199\n",
            "Test accuracy: 0.6299212598425197\n",
            "Training accuracy: 0.647246891651865\n",
            "Test accuracy: 0.6585163696643183\n"
          ]
        }
      ]
    },
    {
      "cell_type": "code",
      "metadata": {
        "colab": {
          "base_uri": "https://localhost:8080/"
        },
        "id": "TlM8CsU9g7ET",
        "outputId": "f5061156-de9f-4832-a4c9-65cabb6111ec"
      },
      "source": [
        "log_reg.coef_"
      ],
      "execution_count": 181,
      "outputs": [
        {
          "output_type": "execute_result",
          "data": {
            "text/plain": [
              "array([[-0.54075567, -0.29741667,  2.99312242, -3.97351412, -0.048396  ,\n",
              "         0.02280295, -0.01308427, -0.08679376, -0.25784791],\n",
              "       [-0.29106956, -0.0447304 ,  0.06984729, -2.61595613, -0.1996583 ,\n",
              "         0.5623689 , -0.13949561,  0.19309856, -0.01380243],\n",
              "       [-0.00450009, -0.16034778, -1.02070706,  0.0735692 , -0.20240768,\n",
              "         0.46833238,  0.23468969,  0.2716147 ,  0.04650937],\n",
              "       [ 0.31164135,  0.23707152, -0.94981185,  2.87027806, -0.09033251,\n",
              "        -0.30358046,  0.07953206, -0.19305052, -0.00449049],\n",
              "       [ 0.52468397,  0.26542333, -1.0924508 ,  3.64562298,  0.54079449,\n",
              "        -0.74992378, -0.16164187, -0.18486898,  0.22963146]])"
            ]
          },
          "metadata": {},
          "execution_count": 181
        }
      ]
    },
    {
      "cell_type": "code",
      "metadata": {
        "colab": {
          "base_uri": "https://localhost:8080/",
          "height": 335
        },
        "id": "OlmMa9dThBeh",
        "outputId": "e6efd480-bb75-4ae3-ac63-c4fda24cba95"
      },
      "source": [
        "coef = pd.DataFrame(zip(X2.columns, log_reg.coef_[0]), columns = ['Class label', 'Coef'])\n",
        "coef.sort_values(by='Coef', inplace= True)\n",
        "\n",
        "plt.figure(figsize =(12, 5))\n",
        "plt.barh(coef['Class label'], coef['Coef'])\n",
        "plt.title('Most important features in our model');"
      ],
      "execution_count": 188,
      "outputs": [
        {
          "output_type": "display_data",
          "data": {
            "image/png": "[encoded data removed]",
            "text/plain": [
              "<Figure size 864x360 with 1 Axes>"
            ]
          },
          "metadata": {
            "needs_background": "light"
          }
        }
      ]
    }
  ]
}