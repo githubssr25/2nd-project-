{
  "nbformat": 4,
  "nbformat_minor": 0,
  "metadata": {
    "colab": {
      "name": "Project2 Part2REAL.ipynb",
      "provenance": [],
      "collapsed_sections": []
    },
    "kernelspec": {
      "name": "python3",
      "display_name": "Python 3"
    },
    "language_info": {
      "name": "python"
    }
  },
  "cells": [
    {
      "cell_type": "code",
      "metadata": {
        "id": "y47zTAgcBqhK"
      },
      "source": [
        "# Imports\n",
        "import pandas as pd\n",
        "import numpy as np\n",
        "import matplotlib.pyplot as plt\n",
        "import seaborn as sns\n",
        "from sklearn.model_selection import train_test_split, GridSearchCV\n",
        "from sklearn.preprocessing import StandardScaler, OneHotEncoder\n",
        "from sklearn.compose import make_column_transformer, make_column_selector\n",
        "from sklearn.pipeline import make_pipeline\n",
        "# import models\n",
        "from sklearn.linear_model import LogisticRegression\n",
        "from sklearn.ensemble import RandomForestClassifier\n",
        "from sklearn.neighbors import KNeighborsClassifier\n",
        "from sklearn.metrics import mean_squared_error, r2_score\n",
        "\n"
      ],
      "execution_count": null,
      "outputs": []
    },
    {
      "cell_type": "code",
      "metadata": {
        "colab": {
          "base_uri": "https://localhost:8080/",
          "height": 201
        },
        "id": "Pkek0PpuB2z4",
        "outputId": "dde69c16-2a1a-45e4-bd8f-bf1823ed1982"
      },
      "source": [
        "\n",
        "\n",
        "df = pd.read_csv('https://raw.githubusercontent.com/fivethirtyeight/data/master/nba-raptor/historical_RAPTOR_by_player.csv')\n",
        "\n",
        "df.head()"
      ],
      "execution_count": null,
      "outputs": [
        {
          "output_type": "execute_result",
          "data": {
            "text/html": [
              "<div>\n",
              "<style scoped>\n",
              "    .dataframe tbody tr th:only-of-type {\n",
              "        vertical-align: middle;\n",
              "    }\n",
              "\n",
              "    .dataframe tbody tr th {\n",
              "        vertical-align: top;\n",
              "    }\n",
              "\n",
              "    .dataframe thead th {\n",
              "        text-align: right;\n",
              "    }\n",
              "</style>\n",
              "<table border=\"1\" class=\"dataframe\">\n",
              "  <thead>\n",
              "    <tr style=\"text-align: right;\">\n",
              "      <th></th>\n",
              "      <th>player_name</th>\n",
              "      <th>player_id</th>\n",
              "      <th>season</th>\n",
              "      <th>poss</th>\n",
              "      <th>mp</th>\n",
              "      <th>raptor_offense</th>\n",
              "      <th>raptor_defense</th>\n",
              "      <th>raptor_total</th>\n",
              "      <th>war_total</th>\n",
              "      <th>war_reg_season</th>\n",
              "      <th>war_playoffs</th>\n",
              "      <th>predator_offense</th>\n",
              "      <th>predator_defense</th>\n",
              "      <th>predator_total</th>\n",
              "      <th>pace_impact</th>\n",
              "    </tr>\n",
              "  </thead>\n",
              "  <tbody>\n",
              "    <tr>\n",
              "      <th>0</th>\n",
              "      <td>Alaa Abdelnaby</td>\n",
              "      <td>abdelal01</td>\n",
              "      <td>1991</td>\n",
              "      <td>640</td>\n",
              "      <td>303</td>\n",
              "      <td>-3.938450</td>\n",
              "      <td>-0.510076</td>\n",
              "      <td>-4.448526</td>\n",
              "      <td>-0.265191</td>\n",
              "      <td>-0.226163</td>\n",
              "      <td>-0.039028</td>\n",
              "      <td>-3.905732</td>\n",
              "      <td>-1.696796</td>\n",
              "      <td>-5.602528</td>\n",
              "      <td>0.199241</td>\n",
              "    </tr>\n",
              "    <tr>\n",
              "      <th>1</th>\n",
              "      <td>Alaa Abdelnaby</td>\n",
              "      <td>abdelal01</td>\n",
              "      <td>1992</td>\n",
              "      <td>1998</td>\n",
              "      <td>959</td>\n",
              "      <td>-2.553849</td>\n",
              "      <td>-0.197943</td>\n",
              "      <td>-2.751792</td>\n",
              "      <td>-0.006893</td>\n",
              "      <td>0.070322</td>\n",
              "      <td>-0.077215</td>\n",
              "      <td>-2.499576</td>\n",
              "      <td>-0.721876</td>\n",
              "      <td>-3.221452</td>\n",
              "      <td>0.485436</td>\n",
              "    </tr>\n",
              "    <tr>\n",
              "      <th>2</th>\n",
              "      <td>Alaa Abdelnaby</td>\n",
              "      <td>abdelal01</td>\n",
              "      <td>1993</td>\n",
              "      <td>2754</td>\n",
              "      <td>1379</td>\n",
              "      <td>-2.373736</td>\n",
              "      <td>-2.069808</td>\n",
              "      <td>-4.443544</td>\n",
              "      <td>-1.227189</td>\n",
              "      <td>-0.845272</td>\n",
              "      <td>-0.381918</td>\n",
              "      <td>-2.328144</td>\n",
              "      <td>-2.002263</td>\n",
              "      <td>-4.330407</td>\n",
              "      <td>0.488266</td>\n",
              "    </tr>\n",
              "    <tr>\n",
              "      <th>3</th>\n",
              "      <td>Alaa Abdelnaby</td>\n",
              "      <td>abdelal01</td>\n",
              "      <td>1994</td>\n",
              "      <td>320</td>\n",
              "      <td>159</td>\n",
              "      <td>-6.140056</td>\n",
              "      <td>-2.748312</td>\n",
              "      <td>-8.888368</td>\n",
              "      <td>-0.500600</td>\n",
              "      <td>-0.500600</td>\n",
              "      <td>0.000000</td>\n",
              "      <td>-5.820936</td>\n",
              "      <td>-3.526560</td>\n",
              "      <td>-9.347496</td>\n",
              "      <td>0.511152</td>\n",
              "    </tr>\n",
              "    <tr>\n",
              "      <th>4</th>\n",
              "      <td>Alaa Abdelnaby</td>\n",
              "      <td>abdelal01</td>\n",
              "      <td>1995</td>\n",
              "      <td>984</td>\n",
              "      <td>506</td>\n",
              "      <td>-3.846543</td>\n",
              "      <td>-1.268012</td>\n",
              "      <td>-5.114556</td>\n",
              "      <td>-0.615802</td>\n",
              "      <td>-0.615802</td>\n",
              "      <td>0.000000</td>\n",
              "      <td>-3.715429</td>\n",
              "      <td>-1.027024</td>\n",
              "      <td>-4.742453</td>\n",
              "      <td>1.545922</td>\n",
              "    </tr>\n",
              "  </tbody>\n",
              "</table>\n",
              "</div>"
            ],
            "text/plain": [
              "      player_name  player_id  ...  predator_total  pace_impact\n",
              "0  Alaa Abdelnaby  abdelal01  ...       -5.602528     0.199241\n",
              "1  Alaa Abdelnaby  abdelal01  ...       -3.221452     0.485436\n",
              "2  Alaa Abdelnaby  abdelal01  ...       -4.330407     0.488266\n",
              "3  Alaa Abdelnaby  abdelal01  ...       -9.347496     0.511152\n",
              "4  Alaa Abdelnaby  abdelal01  ...       -4.742453     1.545922\n",
              "\n",
              "[5 rows x 15 columns]"
            ]
          },
          "metadata": {},
          "execution_count": 23
        }
      ]
    },
    {
      "cell_type": "markdown",
      "metadata": {
        "id": "iFCCrhJrBvHQ"
      },
      "source": [
        "Project 2 - Part 2 (Core)\n",
        "Using the approved dataset you proposed for project 2 part 1 last week, you will clean and explore the data set.  \n",
        "\n",
        "To meet the requirements for this week you must have:\n",
        "\n",
        "-deleted unnecessary columns\n",
        "\n",
        "-deleted duplicate rows\n",
        "\n",
        "-identified and addressed missing values \n",
        "\n",
        "-identified and corrected inconsistencies in data for categorical values (i.e. Cat, cat, cats)\n",
        "\n",
        "-produced univariate visuals for the target and all features\n",
        "\n",
        "-identified outliers\n",
        "\n",
        "-produce a correlation heatmap and identify any moderate or strong correlations between your target and your features and/or between one feature and another"
      ]
    },
    {
      "cell_type": "code",
      "metadata": {
        "colab": {
          "base_uri": "https://localhost:8080/"
        },
        "id": "FhM4y2CiCKBE",
        "outputId": "41d7529f-ee9c-49d7-ec63-dd1000b62e6e"
      },
      "source": [
        "# Check for duplicates\n",
        "df.duplicated().any()"
      ],
      "execution_count": null,
      "outputs": [
        {
          "output_type": "execute_result",
          "data": {
            "text/plain": [
              "False"
            ]
          },
          "metadata": {},
          "execution_count": 24
        }
      ]
    },
    {
      "cell_type": "code",
      "metadata": {
        "colab": {
          "base_uri": "https://localhost:8080/"
        },
        "id": "QhbbqAq9CSHx",
        "outputId": "584a7243-7d1c-4dd6-839a-277ef6948126"
      },
      "source": [
        "# Check for missings\n",
        "df.isnull().sum()"
      ],
      "execution_count": null,
      "outputs": [
        {
          "output_type": "execute_result",
          "data": {
            "text/plain": [
              "player_name         0\n",
              "player_id           0\n",
              "season              0\n",
              "poss                0\n",
              "mp                  0\n",
              "raptor_offense      0\n",
              "raptor_defense      0\n",
              "raptor_total        0\n",
              "war_total           0\n",
              "war_reg_season      0\n",
              "war_playoffs        0\n",
              "predator_offense    0\n",
              "predator_defense    0\n",
              "predator_total      0\n",
              "pace_impact         1\n",
              "dtype: int64"
            ]
          },
          "metadata": {},
          "execution_count": 25
        }
      ]
    },
    {
      "cell_type": "code",
      "metadata": {
        "id": "l5Hq0NrsIf-N",
        "colab": {
          "base_uri": "https://localhost:8080/",
          "height": 79
        },
        "outputId": "d8f90ec6-ddc9-4d2d-8457-ed47a920fa82"
      },
      "source": [
        "# There are missing values in the Region column - let's investigate those\n",
        "df[df['pace_impact'].isnull()]"
      ],
      "execution_count": null,
      "outputs": [
        {
          "output_type": "execute_result",
          "data": {
            "text/html": [
              "<div>\n",
              "<style scoped>\n",
              "    .dataframe tbody tr th:only-of-type {\n",
              "        vertical-align: middle;\n",
              "    }\n",
              "\n",
              "    .dataframe tbody tr th {\n",
              "        vertical-align: top;\n",
              "    }\n",
              "\n",
              "    .dataframe thead th {\n",
              "        text-align: right;\n",
              "    }\n",
              "</style>\n",
              "<table border=\"1\" class=\"dataframe\">\n",
              "  <thead>\n",
              "    <tr style=\"text-align: right;\">\n",
              "      <th></th>\n",
              "      <th>player_name</th>\n",
              "      <th>player_id</th>\n",
              "      <th>season</th>\n",
              "      <th>poss</th>\n",
              "      <th>mp</th>\n",
              "      <th>raptor_offense</th>\n",
              "      <th>raptor_defense</th>\n",
              "      <th>raptor_total</th>\n",
              "      <th>war_total</th>\n",
              "      <th>war_reg_season</th>\n",
              "      <th>war_playoffs</th>\n",
              "      <th>predator_offense</th>\n",
              "      <th>predator_defense</th>\n",
              "      <th>predator_total</th>\n",
              "      <th>pace_impact</th>\n",
              "    </tr>\n",
              "  </thead>\n",
              "  <tbody>\n",
              "    <tr>\n",
              "      <th>12254</th>\n",
              "      <td>Malik Newman</td>\n",
              "      <td>newmama01</td>\n",
              "      <td>2020</td>\n",
              "      <td>8</td>\n",
              "      <td>4</td>\n",
              "      <td>0.0</td>\n",
              "      <td>0.0</td>\n",
              "      <td>0.0</td>\n",
              "      <td>0.0</td>\n",
              "      <td>0.0</td>\n",
              "      <td>0.0</td>\n",
              "      <td>0.0</td>\n",
              "      <td>0.0</td>\n",
              "      <td>0.0</td>\n",
              "      <td>NaN</td>\n",
              "    </tr>\n",
              "  </tbody>\n",
              "</table>\n",
              "</div>"
            ],
            "text/plain": [
              "        player_name  player_id  ...  predator_total  pace_impact\n",
              "12254  Malik Newman  newmama01  ...             0.0          NaN\n",
              "\n",
              "[1 rows x 15 columns]"
            ]
          },
          "metadata": {},
          "execution_count": 26
        }
      ]
    },
    {
      "cell_type": "code",
      "metadata": {
        "id": "ldizlj5oJtZ4"
      },
      "source": [
        "df = df.drop(index = 12254)"
      ],
      "execution_count": null,
      "outputs": []
    },
    {
      "cell_type": "code",
      "metadata": {
        "id": "oMQqtCkrJ3II"
      },
      "source": [
        "df.drop(df[df.mp < 250].index, inplace=True)\n",
        "df.drop(df[df.season < 2000].index, inplace=True)"
      ],
      "execution_count": null,
      "outputs": []
    },
    {
      "cell_type": "markdown",
      "metadata": {
        "id": "1KKxlIL2Askt"
      },
      "source": [
        "This was probably the most important decision I made. I got rid of any small sample sizes so any player who played less than 250 minutes in a particular season. The reason for this is that traditionally NBA players need at least 15-20 worth of games to have sample sizes that are big enough that hte stats can begin to stabilize. Otherwise it is just too noisy and a byproduct of variance more than anything that should be meaningfully charted or measured. \n",
        "\n",
        "The other decision I made was to exclude any seasons prior to 2000. A few reasons I did this. First of all it just makes it easier there are as is already about 10000 rows of data even making this filter. Secondly alot of the data they use in designing these 538 basketball algorithms is not nearly as reliable pre 2000. Tracking cameras didnt really exist back then to nearly the same degree they do now. Stat keepers werent as reliable and consistent. There was no source of verifying alot of the data and hence it can lead to some questionable figures. All these basic stats you see like points, rebounds, assists, shooting percentage etc are incorporated in these 538 models Im using so the accuracy of those historical records absolutely matters in determining the accuracy and validity of these models. It's best hence in my opinion to just leave them out we have more than enough data to work with without them still."
      ]
    },
    {
      "cell_type": "code",
      "metadata": {
        "colab": {
          "base_uri": "https://localhost:8080/",
          "height": 201
        },
        "id": "eavHI3A_KVIf",
        "outputId": "1cbc89db-f4af-4a1e-882e-588ea1d208de"
      },
      "source": [
        "df.head()"
      ],
      "execution_count": null,
      "outputs": [
        {
          "output_type": "execute_result",
          "data": {
            "text/html": [
              "<div>\n",
              "<style scoped>\n",
              "    .dataframe tbody tr th:only-of-type {\n",
              "        vertical-align: middle;\n",
              "    }\n",
              "\n",
              "    .dataframe tbody tr th {\n",
              "        vertical-align: top;\n",
              "    }\n",
              "\n",
              "    .dataframe thead th {\n",
              "        text-align: right;\n",
              "    }\n",
              "</style>\n",
              "<table border=\"1\" class=\"dataframe\">\n",
              "  <thead>\n",
              "    <tr style=\"text-align: right;\">\n",
              "      <th></th>\n",
              "      <th>player_name</th>\n",
              "      <th>player_id</th>\n",
              "      <th>season</th>\n",
              "      <th>poss</th>\n",
              "      <th>mp</th>\n",
              "      <th>raptor_offense</th>\n",
              "      <th>raptor_defense</th>\n",
              "      <th>raptor_total</th>\n",
              "      <th>war_total</th>\n",
              "      <th>war_reg_season</th>\n",
              "      <th>war_playoffs</th>\n",
              "      <th>predator_offense</th>\n",
              "      <th>predator_defense</th>\n",
              "      <th>predator_total</th>\n",
              "      <th>pace_impact</th>\n",
              "    </tr>\n",
              "  </thead>\n",
              "  <tbody>\n",
              "    <tr>\n",
              "      <th>26</th>\n",
              "      <td>Mahmoud Abdul-Rauf</td>\n",
              "      <td>abdulma02</td>\n",
              "      <td>2001</td>\n",
              "      <td>939</td>\n",
              "      <td>486</td>\n",
              "      <td>0.678521</td>\n",
              "      <td>-2.640498</td>\n",
              "      <td>-1.961977</td>\n",
              "      <td>0.195461</td>\n",
              "      <td>0.195461</td>\n",
              "      <td>0.000000</td>\n",
              "      <td>-0.031734</td>\n",
              "      <td>-3.090444</td>\n",
              "      <td>-3.122178</td>\n",
              "      <td>0.030938</td>\n",
              "    </tr>\n",
              "    <tr>\n",
              "      <th>29</th>\n",
              "      <td>Tariq Abdul-Wahad</td>\n",
              "      <td>abdulta01</td>\n",
              "      <td>2000</td>\n",
              "      <td>3215</td>\n",
              "      <td>1578</td>\n",
              "      <td>-1.188052</td>\n",
              "      <td>-0.457694</td>\n",
              "      <td>-1.645746</td>\n",
              "      <td>0.876071</td>\n",
              "      <td>0.876071</td>\n",
              "      <td>0.000000</td>\n",
              "      <td>-1.310627</td>\n",
              "      <td>-0.196093</td>\n",
              "      <td>-1.506720</td>\n",
              "      <td>0.018992</td>\n",
              "    </tr>\n",
              "    <tr>\n",
              "      <th>30</th>\n",
              "      <td>Tariq Abdul-Wahad</td>\n",
              "      <td>abdulta01</td>\n",
              "      <td>2001</td>\n",
              "      <td>820</td>\n",
              "      <td>420</td>\n",
              "      <td>-5.303661</td>\n",
              "      <td>-0.963653</td>\n",
              "      <td>-6.267315</td>\n",
              "      <td>-0.758930</td>\n",
              "      <td>-0.758930</td>\n",
              "      <td>0.000000</td>\n",
              "      <td>-5.359760</td>\n",
              "      <td>-1.405260</td>\n",
              "      <td>-6.765020</td>\n",
              "      <td>0.640190</td>\n",
              "    </tr>\n",
              "    <tr>\n",
              "      <th>31</th>\n",
              "      <td>Tariq Abdul-Wahad</td>\n",
              "      <td>abdulta01</td>\n",
              "      <td>2002</td>\n",
              "      <td>841</td>\n",
              "      <td>441</td>\n",
              "      <td>-2.524324</td>\n",
              "      <td>-0.478045</td>\n",
              "      <td>-3.002369</td>\n",
              "      <td>-0.056546</td>\n",
              "      <td>-0.056546</td>\n",
              "      <td>0.000000</td>\n",
              "      <td>-2.679625</td>\n",
              "      <td>-0.135060</td>\n",
              "      <td>-2.814685</td>\n",
              "      <td>0.412453</td>\n",
              "    </tr>\n",
              "    <tr>\n",
              "      <th>32</th>\n",
              "      <td>Tariq Abdul-Wahad</td>\n",
              "      <td>abdulta01</td>\n",
              "      <td>2003</td>\n",
              "      <td>553</td>\n",
              "      <td>283</td>\n",
              "      <td>-0.212466</td>\n",
              "      <td>-0.957466</td>\n",
              "      <td>-1.169932</td>\n",
              "      <td>0.228929</td>\n",
              "      <td>0.199733</td>\n",
              "      <td>0.029195</td>\n",
              "      <td>-0.861448</td>\n",
              "      <td>-1.391198</td>\n",
              "      <td>-2.252645</td>\n",
              "      <td>-0.325525</td>\n",
              "    </tr>\n",
              "  </tbody>\n",
              "</table>\n",
              "</div>"
            ],
            "text/plain": [
              "           player_name  player_id  ...  predator_total  pace_impact\n",
              "26  Mahmoud Abdul-Rauf  abdulma02  ...       -3.122178     0.030938\n",
              "29   Tariq Abdul-Wahad  abdulta01  ...       -1.506720     0.018992\n",
              "30   Tariq Abdul-Wahad  abdulta01  ...       -6.765020     0.640190\n",
              "31   Tariq Abdul-Wahad  abdulta01  ...       -2.814685     0.412453\n",
              "32   Tariq Abdul-Wahad  abdulta01  ...       -2.252645    -0.325525\n",
              "\n",
              "[5 rows x 15 columns]"
            ]
          },
          "metadata": {},
          "execution_count": 30
        }
      ]
    },
    {
      "cell_type": "code",
      "metadata": {
        "colab": {
          "base_uri": "https://localhost:8080/"
        },
        "id": "u-_bZGmKKdMr",
        "outputId": "91f41a9e-e453-4403-9324-597695e53470"
      },
      "source": [
        "len(df)"
      ],
      "execution_count": null,
      "outputs": [
        {
          "output_type": "execute_result",
          "data": {
            "text/plain": [
              "8471"
            ]
          },
          "metadata": {},
          "execution_count": 31
        }
      ]
    },
    {
      "cell_type": "code",
      "metadata": {
        "colab": {
          "base_uri": "https://localhost:8080/"
        },
        "id": "7hl54jozKpUr",
        "outputId": "091034b1-dc1e-4c49-d49f-978180362a4a"
      },
      "source": [
        "df.dtypes"
      ],
      "execution_count": null,
      "outputs": [
        {
          "output_type": "execute_result",
          "data": {
            "text/plain": [
              "player_name          object\n",
              "player_id            object\n",
              "season                int64\n",
              "poss                  int64\n",
              "mp                    int64\n",
              "raptor_offense      float64\n",
              "raptor_defense      float64\n",
              "raptor_total        float64\n",
              "war_total           float64\n",
              "war_reg_season      float64\n",
              "war_playoffs        float64\n",
              "predator_offense    float64\n",
              "predator_defense    float64\n",
              "predator_total      float64\n",
              "pace_impact         float64\n",
              "dtype: object"
            ]
          },
          "metadata": {},
          "execution_count": 33
        }
      ]
    },
    {
      "cell_type": "code",
      "metadata": {
        "colab": {
          "base_uri": "https://localhost:8080/",
          "height": 292
        },
        "id": "7MXTHqrzLVsh",
        "outputId": "c1e181ef-0a89-464a-a2c9-048c6814ade9"
      },
      "source": [
        "df.describe()"
      ],
      "execution_count": null,
      "outputs": [
        {
          "output_type": "execute_result",
          "data": {
            "text/html": [
              "<div>\n",
              "<style scoped>\n",
              "    .dataframe tbody tr th:only-of-type {\n",
              "        vertical-align: middle;\n",
              "    }\n",
              "\n",
              "    .dataframe tbody tr th {\n",
              "        vertical-align: top;\n",
              "    }\n",
              "\n",
              "    .dataframe thead th {\n",
              "        text-align: right;\n",
              "    }\n",
              "</style>\n",
              "<table border=\"1\" class=\"dataframe\">\n",
              "  <thead>\n",
              "    <tr style=\"text-align: right;\">\n",
              "      <th></th>\n",
              "      <th>season</th>\n",
              "      <th>poss</th>\n",
              "      <th>mp</th>\n",
              "      <th>raptor_offense</th>\n",
              "      <th>raptor_defense</th>\n",
              "      <th>raptor_total</th>\n",
              "      <th>war_total</th>\n",
              "      <th>war_reg_season</th>\n",
              "      <th>war_playoffs</th>\n",
              "      <th>predator_offense</th>\n",
              "      <th>predator_defense</th>\n",
              "      <th>predator_total</th>\n",
              "      <th>pace_impact</th>\n",
              "    </tr>\n",
              "  </thead>\n",
              "  <tbody>\n",
              "    <tr>\n",
              "      <th>count</th>\n",
              "      <td>8471.000000</td>\n",
              "      <td>8471.00000</td>\n",
              "      <td>8471.000000</td>\n",
              "      <td>8471.000000</td>\n",
              "      <td>8471.000000</td>\n",
              "      <td>8471.000000</td>\n",
              "      <td>8471.000000</td>\n",
              "      <td>8471.000000</td>\n",
              "      <td>8471.000000</td>\n",
              "      <td>8471.000000</td>\n",
              "      <td>8471.000000</td>\n",
              "      <td>8471.000000</td>\n",
              "      <td>8471.000000</td>\n",
              "    </tr>\n",
              "    <tr>\n",
              "      <th>mean</th>\n",
              "      <td>2010.817731</td>\n",
              "      <td>3120.62047</td>\n",
              "      <td>1581.916775</td>\n",
              "      <td>-0.669496</td>\n",
              "      <td>-0.153124</td>\n",
              "      <td>-0.822620</td>\n",
              "      <td>2.355008</td>\n",
              "      <td>2.123354</td>\n",
              "      <td>0.231654</td>\n",
              "      <td>-0.704934</td>\n",
              "      <td>-0.265931</td>\n",
              "      <td>-0.970865</td>\n",
              "      <td>0.075074</td>\n",
              "    </tr>\n",
              "    <tr>\n",
              "      <th>std</th>\n",
              "      <td>6.346959</td>\n",
              "      <td>1712.79242</td>\n",
              "      <td>876.587220</td>\n",
              "      <td>2.342726</td>\n",
              "      <td>1.710414</td>\n",
              "      <td>2.985527</td>\n",
              "      <td>3.611841</td>\n",
              "      <td>3.188968</td>\n",
              "      <td>0.667016</td>\n",
              "      <td>2.339156</td>\n",
              "      <td>1.741230</td>\n",
              "      <td>3.152573</td>\n",
              "      <td>0.586952</td>\n",
              "    </tr>\n",
              "    <tr>\n",
              "      <th>min</th>\n",
              "      <td>2000.000000</td>\n",
              "      <td>470.00000</td>\n",
              "      <td>250.000000</td>\n",
              "      <td>-8.999990</td>\n",
              "      <td>-7.891169</td>\n",
              "      <td>-14.568172</td>\n",
              "      <td>-7.382978</td>\n",
              "      <td>-7.382978</td>\n",
              "      <td>-1.376520</td>\n",
              "      <td>-8.712563</td>\n",
              "      <td>-7.190238</td>\n",
              "      <td>-13.598980</td>\n",
              "      <td>-2.328584</td>\n",
              "    </tr>\n",
              "    <tr>\n",
              "      <th>25%</th>\n",
              "      <td>2005.000000</td>\n",
              "      <td>1633.50000</td>\n",
              "      <td>822.500000</td>\n",
              "      <td>-2.235302</td>\n",
              "      <td>-1.281702</td>\n",
              "      <td>-2.777651</td>\n",
              "      <td>-0.014312</td>\n",
              "      <td>-0.022834</td>\n",
              "      <td>0.000000</td>\n",
              "      <td>-2.278156</td>\n",
              "      <td>-1.416145</td>\n",
              "      <td>-3.147044</td>\n",
              "      <td>-0.295673</td>\n",
              "    </tr>\n",
              "    <tr>\n",
              "      <th>50%</th>\n",
              "      <td>2011.000000</td>\n",
              "      <td>3004.00000</td>\n",
              "      <td>1512.000000</td>\n",
              "      <td>-0.766207</td>\n",
              "      <td>-0.239710</td>\n",
              "      <td>-0.905757</td>\n",
              "      <td>1.178089</td>\n",
              "      <td>1.120049</td>\n",
              "      <td>0.000000</td>\n",
              "      <td>-0.834675</td>\n",
              "      <td>-0.355112</td>\n",
              "      <td>-1.125157</td>\n",
              "      <td>0.034874</td>\n",
              "    </tr>\n",
              "    <tr>\n",
              "      <th>75%</th>\n",
              "      <td>2016.000000</td>\n",
              "      <td>4407.50000</td>\n",
              "      <td>2226.000000</td>\n",
              "      <td>0.719313</td>\n",
              "      <td>0.898714</td>\n",
              "      <td>1.054410</td>\n",
              "      <td>3.718670</td>\n",
              "      <td>3.503495</td>\n",
              "      <td>0.142702</td>\n",
              "      <td>0.667256</td>\n",
              "      <td>0.835225</td>\n",
              "      <td>1.069681</td>\n",
              "      <td>0.407085</td>\n",
              "    </tr>\n",
              "    <tr>\n",
              "      <th>max</th>\n",
              "      <td>2021.000000</td>\n",
              "      <td>8238.00000</td>\n",
              "      <td>4202.000000</td>\n",
              "      <td>10.379411</td>\n",
              "      <td>7.907439</td>\n",
              "      <td>12.580815</td>\n",
              "      <td>28.525259</td>\n",
              "      <td>23.659318</td>\n",
              "      <td>7.006934</td>\n",
              "      <td>10.893131</td>\n",
              "      <td>7.459246</td>\n",
              "      <td>13.347925</td>\n",
              "      <td>3.996917</td>\n",
              "    </tr>\n",
              "  </tbody>\n",
              "</table>\n",
              "</div>"
            ],
            "text/plain": [
              "            season        poss  ...  predator_total  pace_impact\n",
              "count  8471.000000  8471.00000  ...     8471.000000  8471.000000\n",
              "mean   2010.817731  3120.62047  ...       -0.970865     0.075074\n",
              "std       6.346959  1712.79242  ...        3.152573     0.586952\n",
              "min    2000.000000   470.00000  ...      -13.598980    -2.328584\n",
              "25%    2005.000000  1633.50000  ...       -3.147044    -0.295673\n",
              "50%    2011.000000  3004.00000  ...       -1.125157     0.034874\n",
              "75%    2016.000000  4407.50000  ...        1.069681     0.407085\n",
              "max    2021.000000  8238.00000  ...       13.347925     3.996917\n",
              "\n",
              "[8 rows x 13 columns]"
            ]
          },
          "metadata": {},
          "execution_count": 34
        }
      ]
    },
    {
      "cell_type": "code",
      "metadata": {
        "colab": {
          "base_uri": "https://localhost:8080/",
          "height": 265
        },
        "id": "9RU207MxLb9g",
        "outputId": "664a3093-9faf-4b01-afe0-585f9b53179a"
      },
      "source": [
        "df.boxplot(column = 'mp');"
      ],
      "execution_count": null,
      "outputs": [
        {
          "output_type": "display_data",
          "data": {
            "image/png": "[encoded data removed]",
            "text/plain": [
              "<Figure size 432x288 with 1 Axes>"
            ]
          },
          "metadata": {
            "needs_background": "light"
          }
        }
      ]
    },
    {
      "cell_type": "code",
      "metadata": {
        "colab": {
          "base_uri": "https://localhost:8080/",
          "height": 265
        },
        "id": "1iS34KEJLqBY",
        "outputId": "f270356d-7c41-4989-dbd5-2fe83579a356"
      },
      "source": [
        "df.boxplot(column = 'raptor_offense');"
      ],
      "execution_count": null,
      "outputs": [
        {
          "output_type": "display_data",
          "data": {
            "image/png": "[encoded data removed]",
            "text/plain": [
              "<Figure size 432x288 with 1 Axes>"
            ]
          },
          "metadata": {
            "needs_background": "light"
          }
        }
      ]
    },
    {
      "cell_type": "code",
      "metadata": {
        "colab": {
          "base_uri": "https://localhost:8080/",
          "height": 265
        },
        "id": "45g0sbDYLs1n",
        "outputId": "8488fba9-87a8-4676-8472-daf80471b1a9"
      },
      "source": [
        "df.boxplot(column = 'raptor_defense');"
      ],
      "execution_count": null,
      "outputs": [
        {
          "output_type": "display_data",
          "data": {
            "image/png": "[encoded data removed]",
            "text/plain": [
              "<Figure size 432x288 with 1 Axes>"
            ]
          },
          "metadata": {
            "needs_background": "light"
          }
        }
      ]
    },
    {
      "cell_type": "code",
      "metadata": {
        "colab": {
          "base_uri": "https://localhost:8080/",
          "height": 265
        },
        "id": "loagK8DVLvwv",
        "outputId": "b580691d-e110-4304-88e6-649a7d391ab2"
      },
      "source": [
        "df.boxplot(column = 'raptor_total');"
      ],
      "execution_count": null,
      "outputs": [
        {
          "output_type": "display_data",
          "data": {
            "image/png": "[encoded data removed]",
            "text/plain": [
              "<Figure size 432x288 with 1 Axes>"
            ]
          },
          "metadata": {
            "needs_background": "light"
          }
        }
      ]
    },
    {
      "cell_type": "code",
      "metadata": {
        "colab": {
          "base_uri": "https://localhost:8080/",
          "height": 268
        },
        "id": "0WO6OQe4LzOJ",
        "outputId": "4af49753-795f-4ecd-d28d-d9e4c981f171"
      },
      "source": [
        "df.boxplot(column = 'war_total');"
      ],
      "execution_count": null,
      "outputs": [
        {
          "output_type": "display_data",
          "data": {
            "image/png": "[encoded data removed]",
            "text/plain": [
              "<Figure size 432x288 with 1 Axes>"
            ]
          },
          "metadata": {
            "needs_background": "light"
          }
        }
      ]
    },
    {
      "cell_type": "code",
      "metadata": {
        "colab": {
          "base_uri": "https://localhost:8080/",
          "height": 268
        },
        "id": "VTDjU82bL4No",
        "outputId": "4ef585eb-b68f-42c2-8a08-34cc9dce73a2"
      },
      "source": [
        "df.boxplot(column = 'war_reg_season');"
      ],
      "execution_count": null,
      "outputs": [
        {
          "output_type": "display_data",
          "data": {
            "image/png": "[encoded data removed]",
            "text/plain": [
              "<Figure size 432x288 with 1 Axes>"
            ]
          },
          "metadata": {
            "needs_background": "light"
          }
        }
      ]
    },
    {
      "cell_type": "code",
      "metadata": {
        "colab": {
          "base_uri": "https://localhost:8080/",
          "height": 265
        },
        "id": "s8YZ3IRxL52H",
        "outputId": "e2af8dab-7005-4cf2-9fb1-5e53778e8321"
      },
      "source": [
        "df.boxplot(column = 'war_playoffs');"
      ],
      "execution_count": null,
      "outputs": [
        {
          "output_type": "display_data",
          "data": {
            "image/png": "[encoded data removed]",
            "text/plain": [
              "<Figure size 432x288 with 1 Axes>"
            ]
          },
          "metadata": {
            "needs_background": "light"
          }
        }
      ]
    },
    {
      "cell_type": "code",
      "metadata": {
        "colab": {
          "base_uri": "https://localhost:8080/",
          "height": 265
        },
        "id": "9Sw4y_qoL5_J",
        "outputId": "6483307f-a299-45c9-a6c8-cb0b37464bb9"
      },
      "source": [
        "df.boxplot(column = 'predator_offense');"
      ],
      "execution_count": null,
      "outputs": [
        {
          "output_type": "display_data",
          "data": {
            "image/png": "[encoded data removed]",
            "text/plain": [
              "<Figure size 432x288 with 1 Axes>"
            ]
          },
          "metadata": {
            "needs_background": "light"
          }
        }
      ]
    },
    {
      "cell_type": "code",
      "metadata": {
        "colab": {
          "base_uri": "https://localhost:8080/",
          "height": 268
        },
        "id": "awOVvSsvL_4k",
        "outputId": "cf67bdfb-a21a-4d80-fb5a-a65a8b1004d1"
      },
      "source": [
        "df.boxplot(column = 'predator_defense');"
      ],
      "execution_count": null,
      "outputs": [
        {
          "output_type": "display_data",
          "data": {
            "image/png": "[encoded data removed]",
            "text/plain": [
              "<Figure size 432x288 with 1 Axes>"
            ]
          },
          "metadata": {
            "needs_background": "light"
          }
        }
      ]
    },
    {
      "cell_type": "code",
      "metadata": {
        "colab": {
          "base_uri": "https://localhost:8080/",
          "height": 265
        },
        "id": "cYwUSZgfMBLB",
        "outputId": "f9c9d540-4c41-4129-a215-5b8d7fe248b2"
      },
      "source": [
        "df.boxplot(column = 'predator_total');"
      ],
      "execution_count": null,
      "outputs": [
        {
          "output_type": "display_data",
          "data": {
            "image/png": "[encoded data removed]",
            "text/plain": [
              "<Figure size 432x288 with 1 Axes>"
            ]
          },
          "metadata": {
            "needs_background": "light"
          }
        }
      ]
    },
    {
      "cell_type": "code",
      "metadata": {
        "colab": {
          "base_uri": "https://localhost:8080/",
          "height": 265
        },
        "id": "AAi5BwbMMDUE",
        "outputId": "31d19295-d3c5-41ce-bb37-e979fd35b095"
      },
      "source": [
        "df.boxplot(column = 'pace_impact');"
      ],
      "execution_count": null,
      "outputs": [
        {
          "output_type": "display_data",
          "data": {
            "image/png": "[encoded data removed]",
            "text/plain": [
              "<Figure size 432x288 with 1 Axes>"
            ]
          },
          "metadata": {
            "needs_background": "light"
          }
        }
      ]
    },
    {
      "cell_type": "code",
      "metadata": {
        "colab": {
          "base_uri": "https://localhost:8080/",
          "height": 265
        },
        "id": "zmmKrUFZMM4_",
        "outputId": "b909113d-c0f5-4b37-956f-cd8fda2d4894"
      },
      "source": [
        "df['raptor_offense'].hist();"
      ],
      "execution_count": null,
      "outputs": [
        {
          "output_type": "display_data",
          "data": {
            "image/png": "[encoded data removed]",
            "text/plain": [
              "<Figure size 432x288 with 1 Axes>"
            ]
          },
          "metadata": {
            "needs_background": "light"
          }
        }
      ]
    },
    {
      "cell_type": "code",
      "metadata": {
        "colab": {
          "base_uri": "https://localhost:8080/",
          "height": 265
        },
        "id": "-fRgb9jTMd9e",
        "outputId": "c8a6008d-0993-464b-d21a-bd77b7cd0afe"
      },
      "source": [
        "df['raptor_defense'].hist();"
      ],
      "execution_count": null,
      "outputs": [
        {
          "output_type": "display_data",
          "data": {
            "image/png": "[encoded data removed]",
            "text/plain": [
              "<Figure size 432x288 with 1 Axes>"
            ]
          },
          "metadata": {
            "needs_background": "light"
          }
        }
      ]
    },
    {
      "cell_type": "code",
      "metadata": {
        "colab": {
          "base_uri": "https://localhost:8080/",
          "height": 265
        },
        "id": "rSCNdCzRMhod",
        "outputId": "a91ff4a1-f7cb-4d54-caf5-b4000c3adfc4"
      },
      "source": [
        "df['raptor_total'].hist();"
      ],
      "execution_count": null,
      "outputs": [
        {
          "output_type": "display_data",
          "data": {
            "image/png": "[encoded data removed]",
            "text/plain": [
              "<Figure size 432x288 with 1 Axes>"
            ]
          },
          "metadata": {
            "needs_background": "light"
          }
        }
      ]
    },
    {
      "cell_type": "code",
      "metadata": {
        "colab": {
          "base_uri": "https://localhost:8080/",
          "height": 265
        },
        "id": "-NAEkKAjMjy7",
        "outputId": "05c74de9-b095-4873-e2da-0e98358ae0ea"
      },
      "source": [
        "df['war_total'].hist();"
      ],
      "execution_count": null,
      "outputs": [
        {
          "output_type": "display_data",
          "data": {
            "image/png": "[encoded data removed]",
            "text/plain": [
              "<Figure size 432x288 with 1 Axes>"
            ]
          },
          "metadata": {
            "needs_background": "light"
          }
        }
      ]
    },
    {
      "cell_type": "code",
      "metadata": {
        "colab": {
          "base_uri": "https://localhost:8080/",
          "height": 268
        },
        "id": "DVrJsB_uMnyv",
        "outputId": "35433a98-d411-4536-fdbd-6a3a7745ed2e"
      },
      "source": [
        "df['war_reg_season'].hist();"
      ],
      "execution_count": null,
      "outputs": [
        {
          "output_type": "display_data",
          "data": {
            "image/png": "[encoded data removed]",
            "text/plain": [
              "<Figure size 432x288 with 1 Axes>"
            ]
          },
          "metadata": {
            "needs_background": "light"
          }
        }
      ]
    },
    {
      "cell_type": "code",
      "metadata": {
        "colab": {
          "base_uri": "https://localhost:8080/",
          "height": 265
        },
        "id": "cfB4q0LAMrCN",
        "outputId": "efb79dd9-5597-4928-a044-4b387353bcca"
      },
      "source": [
        "df['war_playoffs'].hist();"
      ],
      "execution_count": null,
      "outputs": [
        {
          "output_type": "display_data",
          "data": {
            "image/png": "[encoded data removed]",
            "text/plain": [
              "<Figure size 432x288 with 1 Axes>"
            ]
          },
          "metadata": {
            "needs_background": "light"
          }
        }
      ]
    },
    {
      "cell_type": "code",
      "metadata": {
        "colab": {
          "base_uri": "https://localhost:8080/",
          "height": 265
        },
        "id": "SnOhb2T0Mt1Y",
        "outputId": "8834f8e6-3b7c-4be0-9b23-f5c34fc0e464"
      },
      "source": [
        "df['predator_offense'].hist();"
      ],
      "execution_count": null,
      "outputs": [
        {
          "output_type": "display_data",
          "data": {
            "image/png": "[encoded data removed]",
            "text/plain": [
              "<Figure size 432x288 with 1 Axes>"
            ]
          },
          "metadata": {
            "needs_background": "light"
          }
        }
      ]
    },
    {
      "cell_type": "code",
      "metadata": {
        "colab": {
          "base_uri": "https://localhost:8080/",
          "height": 265
        },
        "id": "r2AdbLhmMvuq",
        "outputId": "4caf73f1-7c70-43d9-b0c7-85059c9f42d6"
      },
      "source": [
        "df['predator_defense'].hist();"
      ],
      "execution_count": null,
      "outputs": [
        {
          "output_type": "display_data",
          "data": {
            "image/png": "[encoded data removed]",
            "text/plain": [
              "<Figure size 432x288 with 1 Axes>"
            ]
          },
          "metadata": {
            "needs_background": "light"
          }
        }
      ]
    },
    {
      "cell_type": "code",
      "metadata": {
        "colab": {
          "base_uri": "https://localhost:8080/",
          "height": 265
        },
        "id": "0EAiubZ-Mx36",
        "outputId": "cb4ffed6-1c9a-46f1-9b45-713690a1ffc4"
      },
      "source": [
        "df['predator_total'].hist();"
      ],
      "execution_count": null,
      "outputs": [
        {
          "output_type": "display_data",
          "data": {
            "image/png": "[encoded data removed]",
            "text/plain": [
              "<Figure size 432x288 with 1 Axes>"
            ]
          },
          "metadata": {
            "needs_background": "light"
          }
        }
      ]
    },
    {
      "cell_type": "code",
      "metadata": {
        "id": "pWlLtNqjMzsU",
        "colab": {
          "base_uri": "https://localhost:8080/",
          "height": 267
        },
        "outputId": "7ae4dde0-ed9b-47d0-e71e-1afa124634f4"
      },
      "source": [
        "df['pace_impact'].hist();"
      ],
      "execution_count": null,
      "outputs": [
        {
          "output_type": "display_data",
          "data": {
            "image/png": "[encoded data removed]",
            "text/plain": [
              "<Figure size 432x288 with 1 Axes>"
            ]
          },
          "metadata": {
            "needs_background": "light"
          }
        }
      ]
    }
  ]
}